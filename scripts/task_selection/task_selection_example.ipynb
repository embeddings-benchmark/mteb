{
 "cells": [
  {
   "cell_type": "markdown",
   "metadata": {},
   "source": [
    "# Task Selection: An Example\n",
    "\n",
    "This is an example of how to perform task selection using MTEB when creating a benchmark. The goal here is to subsample a potentially large number of tasks down to the one with the most information. We do this as a feature selection approach, where we remove a task if its performance if predictable by the performance of other tasks. See the paper for more information.\n",
    "\n",
    "For this example we will be using Danish (dan) as it has relatively few tasks, but there is not reason to limit to only Danish tasks."
   ]
  },
  {
   "cell_type": "code",
   "execution_count": 1,
   "metadata": {},
   "outputs": [
    {
     "name": "stderr",
     "output_type": "stream",
     "text": [
      "/Users/au561649/.virtualenvs/mteb/lib/python3.8/site-packages/tqdm/auto.py:21: TqdmWarning: IProgress not found. Please update jupyter and ipywidgets. See https://ipywidgets.readthedocs.io/en/stable/user_install.html\n",
      "  from .autonotebook import tqdm as notebook_tqdm\n"
     ]
    },
    {
     "name": "stdout",
     "output_type": "stream",
     "text": [
      "1.12.48\n"
     ]
    }
   ],
   "source": [
    "from __future__ import annotations\n",
    "\n",
    "import mteb\n",
    "\n",
    "print(mteb.__version__)"
   ]
  },
  {
   "cell_type": "markdown",
   "metadata": {},
   "source": [
    "## Loading in data\n",
    "We will start out by loading in the relevant data for the model and tasks of interests."
   ]
  },
  {
   "cell_type": "code",
   "execution_count": 2,
   "metadata": {},
   "outputs": [
    {
     "name": "stdout",
     "output_type": "stream",
     "text": [
      "Getting revision for sentence-transformers/all-MiniLM-L12-v2\n",
      "Getting revision for sentence-transformers/all-mpnet-base-v2\n"
     ]
    }
   ],
   "source": [
    "def get_models():\n",
    "    model_names = [\n",
    "        \"sentence-transformers/all-MiniLM-L6-v2\",\n",
    "        \"sentence-transformers/all-MiniLM-L12-v2\",\n",
    "        \"sentence-transformers/paraphrase-multilingual-MiniLM-L12-v2\",\n",
    "        \"sentence-transformers/paraphrase-multilingual-mpnet-base-v2\",\n",
    "        \"sentence-transformers/all-mpnet-base-v2\",\n",
    "        \"sentence-transformers/LaBSE\",\n",
    "        \"intfloat/multilingual-e5-large-instruct\",\n",
    "        \"intfloat/e5-mistral-7b-instruct\",\n",
    "        \"GritLM/GritLM-7B\",\n",
    "        \"GritLM/GritLM-8x7B\",\n",
    "        \"intfloat/multilingual-e5-small\",\n",
    "        \"intfloat/multilingual-e5-base\",\n",
    "        \"intfloat/multilingual-e5-large\",\n",
    "    ]\n",
    "    models: list[mteb.ModelMeta] = [mteb.get_model_meta(name) for name in model_names]\n",
    "\n",
    "    # get missing revisions - Assuming we are using the latest revision\n",
    "    for model in models:\n",
    "        if model.revision is None:\n",
    "            print(f\"Getting revision for {model.name}\")\n",
    "            encoder = model.load_model()\n",
    "            model.revision = encoder.model_card_data.base_model_revision  # type: ignore\n",
    "\n",
    "    return models\n",
    "\n",
    "\n",
    "models = get_models()\n",
    "\n",
    "danish_tasks = mteb.get_tasks(\n",
    "    languages=[\"dan\"]\n",
    ")  # does not need to language - you can also filter by task types, domains, etc."
   ]
  },
  {
   "cell_type": "code",
   "execution_count": 3,
   "metadata": {},
   "outputs": [
    {
     "name": "stdout",
     "output_type": "stream",
     "text": [
      "BornholmBitextMining\n",
      "BibleNLPBitextMining\n",
      "FloresBitextMining\n",
      "NTREXBitextMining\n",
      "Tatoeba\n",
      "AngryTweetsClassification\n",
      "DanishPoliticalCommentsClassification\n",
      "DKHateClassification\n",
      "LccSentimentClassification\n",
      "MassiveIntentClassification\n",
      "MassiveScenarioClassification\n",
      "NordicLangClassification\n",
      "ScalaClassification\n",
      "SIB200Classification\n",
      "SIB200ClusteringS2S\n",
      "WikiClusteringP2P.v2\n",
      "DanFeverRetrieval\n",
      "TV2Nordretrieval\n",
      "TwitterHjerneRetrieval\n",
      "BelebeleRetrieval\n",
      "WikipediaRetrievalMultilingual\n",
      "MultiEURLEXMultilabelClassification\n",
      "WikipediaRerankingMultilingual\n"
     ]
    }
   ],
   "source": [
    "# just to see what tasks we are working with\n",
    "for task in danish_tasks:\n",
    "    print(task.metadata.name)"
   ]
  },
  {
   "cell_type": "code",
   "execution_count": 6,
   "metadata": {},
   "outputs": [],
   "source": [
    "# load results from mteb/results repository\n",
    "mteb_results = mteb.load_results(\n",
    "    models=models, tasks=danish_tasks, download_latest=False\n",
    ")"
   ]
  },
  {
   "cell_type": "code",
   "execution_count": 5,
   "metadata": {},
   "outputs": [
    {
     "data": {
      "text/plain": [
       "{'intfloat/multilingual-e5-small': {'e4ce9877abf3edfe10b0d82785e83bdcb973e22e': [MTEBResults(task_name=LccSentimentClassification, scores=...),\n",
       "   MTEBResults(task_name=FloresBitextMining, scores=...),\n",
       "   MTEBResults(task_name=WikiClusteringP2P.v2, scores=...),\n",
       "   MTEBResults(task_name=AngryTweetsClassification, scores=...),\n",
       "   MTEBResults(task_name=TwitterHjerneRetrieval, scores=...),\n",
       "   MTEBResults(task_name=MassiveIntentClassification, scores=...),\n",
       "   MTEBResults(task_name=MassiveScenarioClassification, scores=...),\n",
       "   MTEBResults(task_name=WikipediaRerankingMultilingual, scores=...),\n",
       "   MTEBResults(task_name=BornholmBitextMining, scores=...),\n",
       "   MTEBResults(task_name=DanishPoliticalCommentsClassification, scores=...),\n",
       "   MTEBResults(task_name=SIB200ClusteringS2S, scores=...),\n",
       "   MTEBResults(task_name=NordicLangClassification, scores=...),\n",
       "   MTEBResults(task_name=Tatoeba, scores=...),\n",
       "   MTEBResults(task_name=BelebeleRetrieval, scores=...),\n",
       "   MTEBResults(task_name=BibleNLPBitextMining, scores=...),\n",
       "   MTEBResults(task_name=ScalaClassification, scores=...),\n",
       "   MTEBResults(task_name=WikipediaRetrievalMultilingual, scores=...),\n",
       "   MTEBResults(task_name=SIB200Classification, scores=...),\n",
       "   MTEBResults(task_name=MultiEURLEXMultilabelClassification, scores=...),\n",
       "   MTEBResults(task_name=TV2Nordretrieval, scores=...),\n",
       "   MTEBResults(task_name=NTREXBitextMining, scores=...),\n",
       "   MTEBResults(task_name=DanFeverRetrieval, scores=...)]},\n",
       " 'sentence-transformers/LaBSE': {'e34fab64a3011d2176c99545a93d5cbddc9a91b7': [MTEBResults(task_name=LccSentimentClassification, scores=...),\n",
       "   MTEBResults(task_name=FloresBitextMining, scores=...),\n",
       "   MTEBResults(task_name=WikiClusteringP2P.v2, scores=...),\n",
       "   MTEBResults(task_name=AngryTweetsClassification, scores=...),\n",
       "   MTEBResults(task_name=TwitterHjerneRetrieval, scores=...),\n",
       "   MTEBResults(task_name=MassiveIntentClassification, scores=...),\n",
       "   MTEBResults(task_name=MassiveScenarioClassification, scores=...),\n",
       "   MTEBResults(task_name=WikipediaRerankingMultilingual, scores=...),\n",
       "   MTEBResults(task_name=BornholmBitextMining, scores=...),\n",
       "   MTEBResults(task_name=DanishPoliticalCommentsClassification, scores=...),\n",
       "   MTEBResults(task_name=SIB200ClusteringS2S, scores=...),\n",
       "   MTEBResults(task_name=NordicLangClassification, scores=...),\n",
       "   MTEBResults(task_name=Tatoeba, scores=...),\n",
       "   MTEBResults(task_name=BelebeleRetrieval, scores=...),\n",
       "   MTEBResults(task_name=BibleNLPBitextMining, scores=...),\n",
       "   MTEBResults(task_name=ScalaClassification, scores=...),\n",
       "   MTEBResults(task_name=WikipediaRetrievalMultilingual, scores=...),\n",
       "   MTEBResults(task_name=SIB200Classification, scores=...),\n",
       "   MTEBResults(task_name=MultiEURLEXMultilabelClassification, scores=...),\n",
       "   MTEBResults(task_name=TV2Nordretrieval, scores=...),\n",
       "   MTEBResults(task_name=NTREXBitextMining, scores=...),\n",
       "   MTEBResults(task_name=DanFeverRetrieval, scores=...)]},\n",
       " 'GritLM/GritLM-7B': {'13f00a0e36500c80ce12870ea513846a066004af': [MTEBResults(task_name=LccSentimentClassification, scores=...),\n",
       "   MTEBResults(task_name=FloresBitextMining, scores=...),\n",
       "   MTEBResults(task_name=WikiClusteringP2P.v2, scores=...),\n",
       "   MTEBResults(task_name=AngryTweetsClassification, scores=...),\n",
       "   MTEBResults(task_name=TwitterHjerneRetrieval, scores=...),\n",
       "   MTEBResults(task_name=MassiveIntentClassification, scores=...),\n",
       "   MTEBResults(task_name=MassiveScenarioClassification, scores=...),\n",
       "   MTEBResults(task_name=WikipediaRerankingMultilingual, scores=...),\n",
       "   MTEBResults(task_name=BornholmBitextMining, scores=...),\n",
       "   MTEBResults(task_name=DanishPoliticalCommentsClassification, scores=...),\n",
       "   MTEBResults(task_name=SIB200ClusteringS2S, scores=...),\n",
       "   MTEBResults(task_name=NordicLangClassification, scores=...),\n",
       "   MTEBResults(task_name=Tatoeba, scores=...),\n",
       "   MTEBResults(task_name=BelebeleRetrieval, scores=...),\n",
       "   MTEBResults(task_name=BibleNLPBitextMining, scores=...),\n",
       "   MTEBResults(task_name=ScalaClassification, scores=...),\n",
       "   MTEBResults(task_name=WikipediaRetrievalMultilingual, scores=...),\n",
       "   MTEBResults(task_name=SIB200Classification, scores=...),\n",
       "   MTEBResults(task_name=MultiEURLEXMultilabelClassification, scores=...),\n",
       "   MTEBResults(task_name=TV2Nordretrieval, scores=...),\n",
       "   MTEBResults(task_name=NTREXBitextMining, scores=...),\n",
       "   MTEBResults(task_name=DanFeverRetrieval, scores=...)]},\n",
       " 'intfloat/multilingual-e5-large': {'4dc6d853a804b9c8886ede6dda8a073b7dc08a81': [MTEBResults(task_name=LccSentimentClassification, scores=...),\n",
       "   MTEBResults(task_name=FloresBitextMining, scores=...),\n",
       "   MTEBResults(task_name=WikiClusteringP2P.v2, scores=...),\n",
       "   MTEBResults(task_name=AngryTweetsClassification, scores=...),\n",
       "   MTEBResults(task_name=TwitterHjerneRetrieval, scores=...),\n",
       "   MTEBResults(task_name=MassiveIntentClassification, scores=...),\n",
       "   MTEBResults(task_name=MassiveScenarioClassification, scores=...),\n",
       "   MTEBResults(task_name=WikipediaRerankingMultilingual, scores=...),\n",
       "   MTEBResults(task_name=BornholmBitextMining, scores=...),\n",
       "   MTEBResults(task_name=DanishPoliticalCommentsClassification, scores=...),\n",
       "   MTEBResults(task_name=SIB200ClusteringS2S, scores=...),\n",
       "   MTEBResults(task_name=NordicLangClassification, scores=...),\n",
       "   MTEBResults(task_name=Tatoeba, scores=...),\n",
       "   MTEBResults(task_name=BelebeleRetrieval, scores=...),\n",
       "   MTEBResults(task_name=BibleNLPBitextMining, scores=...),\n",
       "   MTEBResults(task_name=ScalaClassification, scores=...),\n",
       "   MTEBResults(task_name=WikipediaRetrievalMultilingual, scores=...),\n",
       "   MTEBResults(task_name=SIB200Classification, scores=...),\n",
       "   MTEBResults(task_name=MultiEURLEXMultilabelClassification, scores=...),\n",
       "   MTEBResults(task_name=TV2Nordretrieval, scores=...),\n",
       "   MTEBResults(task_name=NTREXBitextMining, scores=...),\n",
       "   MTEBResults(task_name=DanFeverRetrieval, scores=...)]},\n",
       " 'sentence-transformers/paraphrase-multilingual-mpnet-base-v2': {'79f2382ceacceacdf38563d7c5d16b9ff8d725d6': [MTEBResults(task_name=LccSentimentClassification, scores=...),\n",
       "   MTEBResults(task_name=FloresBitextMining, scores=...),\n",
       "   MTEBResults(task_name=WikiClusteringP2P.v2, scores=...),\n",
       "   MTEBResults(task_name=AngryTweetsClassification, scores=...),\n",
       "   MTEBResults(task_name=TwitterHjerneRetrieval, scores=...),\n",
       "   MTEBResults(task_name=MassiveIntentClassification, scores=...),\n",
       "   MTEBResults(task_name=MassiveScenarioClassification, scores=...),\n",
       "   MTEBResults(task_name=WikipediaRerankingMultilingual, scores=...),\n",
       "   MTEBResults(task_name=BornholmBitextMining, scores=...),\n",
       "   MTEBResults(task_name=DanishPoliticalCommentsClassification, scores=...),\n",
       "   MTEBResults(task_name=SIB200ClusteringS2S, scores=...),\n",
       "   MTEBResults(task_name=NordicLangClassification, scores=...),\n",
       "   MTEBResults(task_name=Tatoeba, scores=...),\n",
       "   MTEBResults(task_name=BelebeleRetrieval, scores=...),\n",
       "   MTEBResults(task_name=BibleNLPBitextMining, scores=...),\n",
       "   MTEBResults(task_name=ScalaClassification, scores=...),\n",
       "   MTEBResults(task_name=WikipediaRetrievalMultilingual, scores=...),\n",
       "   MTEBResults(task_name=SIB200Classification, scores=...),\n",
       "   MTEBResults(task_name=MultiEURLEXMultilabelClassification, scores=...),\n",
       "   MTEBResults(task_name=TV2Nordretrieval, scores=...),\n",
       "   MTEBResults(task_name=NTREXBitextMining, scores=...),\n",
       "   MTEBResults(task_name=DanFeverRetrieval, scores=...)]},\n",
       " 'sentence-transformers/paraphrase-multilingual-MiniLM-L12-v2': {'bf3bf13ab40c3157080a7ab344c831b9ad18b5eb': [MTEBResults(task_name=LccSentimentClassification, scores=...),\n",
       "   MTEBResults(task_name=FloresBitextMining, scores=...),\n",
       "   MTEBResults(task_name=WikiClusteringP2P.v2, scores=...),\n",
       "   MTEBResults(task_name=AngryTweetsClassification, scores=...),\n",
       "   MTEBResults(task_name=TwitterHjerneRetrieval, scores=...),\n",
       "   MTEBResults(task_name=MassiveIntentClassification, scores=...),\n",
       "   MTEBResults(task_name=MassiveScenarioClassification, scores=...),\n",
       "   MTEBResults(task_name=WikipediaRerankingMultilingual, scores=...),\n",
       "   MTEBResults(task_name=BornholmBitextMining, scores=...),\n",
       "   MTEBResults(task_name=DanishPoliticalCommentsClassification, scores=...),\n",
       "   MTEBResults(task_name=SIB200ClusteringS2S, scores=...),\n",
       "   MTEBResults(task_name=NordicLangClassification, scores=...),\n",
       "   MTEBResults(task_name=Tatoeba, scores=...),\n",
       "   MTEBResults(task_name=BelebeleRetrieval, scores=...),\n",
       "   MTEBResults(task_name=BibleNLPBitextMining, scores=...),\n",
       "   MTEBResults(task_name=ScalaClassification, scores=...),\n",
       "   MTEBResults(task_name=WikipediaRetrievalMultilingual, scores=...),\n",
       "   MTEBResults(task_name=SIB200Classification, scores=...),\n",
       "   MTEBResults(task_name=MultiEURLEXMultilabelClassification, scores=...),\n",
       "   MTEBResults(task_name=TV2Nordretrieval, scores=...),\n",
       "   MTEBResults(task_name=NTREXBitextMining, scores=...),\n",
       "   MTEBResults(task_name=DanFeverRetrieval, scores=...)]},\n",
       " 'sentence-transformers/all-mpnet-base-v2': {'84f2bcc00d77236f9e89c8a360a00fb1139bf47d': [MTEBResults(task_name=LccSentimentClassification, scores=...),\n",
       "   MTEBResults(task_name=FloresBitextMining, scores=...),\n",
       "   MTEBResults(task_name=WikiClusteringP2P.v2, scores=...),\n",
       "   MTEBResults(task_name=AngryTweetsClassification, scores=...),\n",
       "   MTEBResults(task_name=TwitterHjerneRetrieval, scores=...),\n",
       "   MTEBResults(task_name=MassiveIntentClassification, scores=...),\n",
       "   MTEBResults(task_name=MassiveScenarioClassification, scores=...),\n",
       "   MTEBResults(task_name=WikipediaRerankingMultilingual, scores=...),\n",
       "   MTEBResults(task_name=BornholmBitextMining, scores=...),\n",
       "   MTEBResults(task_name=DanishPoliticalCommentsClassification, scores=...),\n",
       "   MTEBResults(task_name=SIB200ClusteringS2S, scores=...),\n",
       "   MTEBResults(task_name=NordicLangClassification, scores=...),\n",
       "   MTEBResults(task_name=Tatoeba, scores=...),\n",
       "   MTEBResults(task_name=BelebeleRetrieval, scores=...),\n",
       "   MTEBResults(task_name=BibleNLPBitextMining, scores=...),\n",
       "   MTEBResults(task_name=ScalaClassification, scores=...),\n",
       "   MTEBResults(task_name=WikipediaRetrievalMultilingual, scores=...),\n",
       "   MTEBResults(task_name=SIB200Classification, scores=...),\n",
       "   MTEBResults(task_name=MultiEURLEXMultilabelClassification, scores=...),\n",
       "   MTEBResults(task_name=TV2Nordretrieval, scores=...),\n",
       "   MTEBResults(task_name=NTREXBitextMining, scores=...),\n",
       "   MTEBResults(task_name=DanFeverRetrieval, scores=...)]},\n",
       " 'intfloat/multilingual-e5-large-instruct': {'baa7be480a7de1539afce709c8f13f833a510e0a': [MTEBResults(task_name=LccSentimentClassification, scores=...),\n",
       "   MTEBResults(task_name=FloresBitextMining, scores=...),\n",
       "   MTEBResults(task_name=WikiClusteringP2P.v2, scores=...),\n",
       "   MTEBResults(task_name=AngryTweetsClassification, scores=...),\n",
       "   MTEBResults(task_name=TwitterHjerneRetrieval, scores=...),\n",
       "   MTEBResults(task_name=MassiveIntentClassification, scores=...),\n",
       "   MTEBResults(task_name=MassiveScenarioClassification, scores=...),\n",
       "   MTEBResults(task_name=WikipediaRerankingMultilingual, scores=...),\n",
       "   MTEBResults(task_name=BornholmBitextMining, scores=...),\n",
       "   MTEBResults(task_name=DanishPoliticalCommentsClassification, scores=...),\n",
       "   MTEBResults(task_name=SIB200ClusteringS2S, scores=...),\n",
       "   MTEBResults(task_name=NordicLangClassification, scores=...),\n",
       "   MTEBResults(task_name=Tatoeba, scores=...),\n",
       "   MTEBResults(task_name=BelebeleRetrieval, scores=...),\n",
       "   MTEBResults(task_name=BibleNLPBitextMining, scores=...),\n",
       "   MTEBResults(task_name=ScalaClassification, scores=...),\n",
       "   MTEBResults(task_name=WikipediaRetrievalMultilingual, scores=...),\n",
       "   MTEBResults(task_name=SIB200Classification, scores=...),\n",
       "   MTEBResults(task_name=MultiEURLEXMultilabelClassification, scores=...),\n",
       "   MTEBResults(task_name=TV2Nordretrieval, scores=...),\n",
       "   MTEBResults(task_name=NTREXBitextMining, scores=...),\n",
       "   MTEBResults(task_name=DanFeverRetrieval, scores=...)]},\n",
       " 'sentence-transformers/all-MiniLM-L12-v2': {'a05860a77cef7b37e0048a7864658139bc18a854': [MTEBResults(task_name=LccSentimentClassification, scores=...),\n",
       "   MTEBResults(task_name=FloresBitextMining, scores=...),\n",
       "   MTEBResults(task_name=WikiClusteringP2P.v2, scores=...),\n",
       "   MTEBResults(task_name=AngryTweetsClassification, scores=...),\n",
       "   MTEBResults(task_name=TwitterHjerneRetrieval, scores=...),\n",
       "   MTEBResults(task_name=MassiveIntentClassification, scores=...),\n",
       "   MTEBResults(task_name=MassiveScenarioClassification, scores=...),\n",
       "   MTEBResults(task_name=WikipediaRerankingMultilingual, scores=...),\n",
       "   MTEBResults(task_name=BornholmBitextMining, scores=...),\n",
       "   MTEBResults(task_name=DanishPoliticalCommentsClassification, scores=...),\n",
       "   MTEBResults(task_name=SIB200ClusteringS2S, scores=...),\n",
       "   MTEBResults(task_name=NordicLangClassification, scores=...),\n",
       "   MTEBResults(task_name=Tatoeba, scores=...),\n",
       "   MTEBResults(task_name=BelebeleRetrieval, scores=...),\n",
       "   MTEBResults(task_name=BibleNLPBitextMining, scores=...),\n",
       "   MTEBResults(task_name=ScalaClassification, scores=...),\n",
       "   MTEBResults(task_name=WikipediaRetrievalMultilingual, scores=...),\n",
       "   MTEBResults(task_name=SIB200Classification, scores=...),\n",
       "   MTEBResults(task_name=MultiEURLEXMultilabelClassification, scores=...),\n",
       "   MTEBResults(task_name=TV2Nordretrieval, scores=...),\n",
       "   MTEBResults(task_name=NTREXBitextMining, scores=...),\n",
       "   MTEBResults(task_name=DanFeverRetrieval, scores=...)]},\n",
       " 'intfloat/multilingual-e5-base': {'d13f1b27baf31030b7fd040960d60d909913633f': [MTEBResults(task_name=LccSentimentClassification, scores=...),\n",
       "   MTEBResults(task_name=FloresBitextMining, scores=...),\n",
       "   MTEBResults(task_name=WikiClusteringP2P.v2, scores=...),\n",
       "   MTEBResults(task_name=AngryTweetsClassification, scores=...),\n",
       "   MTEBResults(task_name=TwitterHjerneRetrieval, scores=...),\n",
       "   MTEBResults(task_name=MassiveIntentClassification, scores=...),\n",
       "   MTEBResults(task_name=MassiveScenarioClassification, scores=...),\n",
       "   MTEBResults(task_name=WikipediaRerankingMultilingual, scores=...),\n",
       "   MTEBResults(task_name=BornholmBitextMining, scores=...),\n",
       "   MTEBResults(task_name=DanishPoliticalCommentsClassification, scores=...),\n",
       "   MTEBResults(task_name=SIB200ClusteringS2S, scores=...),\n",
       "   MTEBResults(task_name=NordicLangClassification, scores=...),\n",
       "   MTEBResults(task_name=Tatoeba, scores=...),\n",
       "   MTEBResults(task_name=BelebeleRetrieval, scores=...),\n",
       "   MTEBResults(task_name=BibleNLPBitextMining, scores=...),\n",
       "   MTEBResults(task_name=ScalaClassification, scores=...),\n",
       "   MTEBResults(task_name=WikipediaRetrievalMultilingual, scores=...),\n",
       "   MTEBResults(task_name=SIB200Classification, scores=...),\n",
       "   MTEBResults(task_name=MultiEURLEXMultilabelClassification, scores=...),\n",
       "   MTEBResults(task_name=TV2Nordretrieval, scores=...),\n",
       "   MTEBResults(task_name=NTREXBitextMining, scores=...),\n",
       "   MTEBResults(task_name=DanFeverRetrieval, scores=...)]},\n",
       " 'sentence-transformers/all-MiniLM-L6-v2': {'8b3219a92973c328a8e22fadcfa821b5dc75636a': [MTEBResults(task_name=LccSentimentClassification, scores=...),\n",
       "   MTEBResults(task_name=FloresBitextMining, scores=...),\n",
       "   MTEBResults(task_name=WikiClusteringP2P.v2, scores=...),\n",
       "   MTEBResults(task_name=AngryTweetsClassification, scores=...),\n",
       "   MTEBResults(task_name=TwitterHjerneRetrieval, scores=...),\n",
       "   MTEBResults(task_name=MassiveIntentClassification, scores=...),\n",
       "   MTEBResults(task_name=MassiveScenarioClassification, scores=...),\n",
       "   MTEBResults(task_name=WikipediaRerankingMultilingual, scores=...),\n",
       "   MTEBResults(task_name=BornholmBitextMining, scores=...),\n",
       "   MTEBResults(task_name=DanishPoliticalCommentsClassification, scores=...),\n",
       "   MTEBResults(task_name=SIB200ClusteringS2S, scores=...),\n",
       "   MTEBResults(task_name=NordicLangClassification, scores=...),\n",
       "   MTEBResults(task_name=Tatoeba, scores=...),\n",
       "   MTEBResults(task_name=BelebeleRetrieval, scores=...),\n",
       "   MTEBResults(task_name=BibleNLPBitextMining, scores=...),\n",
       "   MTEBResults(task_name=ScalaClassification, scores=...),\n",
       "   MTEBResults(task_name=WikipediaRetrievalMultilingual, scores=...),\n",
       "   MTEBResults(task_name=SIB200Classification, scores=...),\n",
       "   MTEBResults(task_name=MultiEURLEXMultilabelClassification, scores=...),\n",
       "   MTEBResults(task_name=TV2Nordretrieval, scores=...),\n",
       "   MTEBResults(task_name=NTREXBitextMining, scores=...),\n",
       "   MTEBResults(task_name=DanFeverRetrieval, scores=...)]},\n",
       " 'intfloat/e5-mistral-7b-instruct': {'07163b72af1488142a360786df853f237b1a3ca1': [MTEBResults(task_name=LccSentimentClassification, scores=...),\n",
       "   MTEBResults(task_name=FloresBitextMining, scores=...),\n",
       "   MTEBResults(task_name=WikiClusteringP2P.v2, scores=...),\n",
       "   MTEBResults(task_name=AngryTweetsClassification, scores=...),\n",
       "   MTEBResults(task_name=TwitterHjerneRetrieval, scores=...),\n",
       "   MTEBResults(task_name=MassiveIntentClassification, scores=...),\n",
       "   MTEBResults(task_name=MassiveScenarioClassification, scores=...),\n",
       "   MTEBResults(task_name=WikipediaRerankingMultilingual, scores=...),\n",
       "   MTEBResults(task_name=BornholmBitextMining, scores=...),\n",
       "   MTEBResults(task_name=DanishPoliticalCommentsClassification, scores=...),\n",
       "   MTEBResults(task_name=SIB200ClusteringS2S, scores=...),\n",
       "   MTEBResults(task_name=NordicLangClassification, scores=...),\n",
       "   MTEBResults(task_name=Tatoeba, scores=...),\n",
       "   MTEBResults(task_name=BelebeleRetrieval, scores=...),\n",
       "   MTEBResults(task_name=BibleNLPBitextMining, scores=...),\n",
       "   MTEBResults(task_name=ScalaClassification, scores=...),\n",
       "   MTEBResults(task_name=WikipediaRetrievalMultilingual, scores=...),\n",
       "   MTEBResults(task_name=SIB200Classification, scores=...),\n",
       "   MTEBResults(task_name=MultiEURLEXMultilabelClassification, scores=...),\n",
       "   MTEBResults(task_name=TV2Nordretrieval, scores=...),\n",
       "   MTEBResults(task_name=NTREXBitextMining, scores=...),\n",
       "   MTEBResults(task_name=DanFeverRetrieval, scores=...)]}}"
      ]
     },
     "execution_count": 5,
     "metadata": {},
     "output_type": "execute_result"
    }
   ],
   "source": [
    "mteb_results"
   ]
  },
  {
   "cell_type": "markdown",
   "metadata": {},
   "source": [
    "## Computing the most predictable task\n",
    "\n",
    "We will start out by constructing a dataframe from the results. Where we will compute the most predictictable task given a model and a set of tasks."
   ]
  },
  {
   "cell_type": "code",
   "execution_count": 12,
   "metadata": {},
   "outputs": [],
   "source": [
    "import mteb.task_selection as task_selection\n",
    "\n",
    "results_df = task_selection.results_to_dataframe(\n",
    "    mteb_results, drop_na=False, languages=[\"dan\"]\n",
    ")"
   ]
  },
  {
   "cell_type": "code",
   "execution_count": 13,
   "metadata": {},
   "outputs": [
    {
     "data": {
      "text/html": [
       "<div>\n",
       "<style scoped>\n",
       "    .dataframe tbody tr th:only-of-type {\n",
       "        vertical-align: middle;\n",
       "    }\n",
       "\n",
       "    .dataframe tbody tr th {\n",
       "        vertical-align: top;\n",
       "    }\n",
       "\n",
       "    .dataframe thead th {\n",
       "        text-align: right;\n",
       "    }\n",
       "</style>\n",
       "<table border=\"1\" class=\"dataframe\">\n",
       "  <thead>\n",
       "    <tr style=\"text-align: right;\">\n",
       "      <th></th>\n",
       "      <th>task</th>\n",
       "      <th>AngryTweetsClassification</th>\n",
       "      <th>BelebeleRetrieval</th>\n",
       "      <th>BibleNLPBitextMining</th>\n",
       "      <th>BornholmBitextMining</th>\n",
       "      <th>DanFeverRetrieval</th>\n",
       "      <th>DanishPoliticalCommentsClassification</th>\n",
       "      <th>FloresBitextMining</th>\n",
       "      <th>LccSentimentClassification</th>\n",
       "      <th>MassiveIntentClassification</th>\n",
       "      <th>MassiveScenarioClassification</th>\n",
       "      <th>...</th>\n",
       "      <th>NordicLangClassification</th>\n",
       "      <th>SIB200Classification</th>\n",
       "      <th>SIB200ClusteringS2S</th>\n",
       "      <th>ScalaClassification</th>\n",
       "      <th>TV2Nordretrieval</th>\n",
       "      <th>Tatoeba</th>\n",
       "      <th>TwitterHjerneRetrieval</th>\n",
       "      <th>WikiClusteringP2P.v2</th>\n",
       "      <th>WikipediaRerankingMultilingual</th>\n",
       "      <th>WikipediaRetrievalMultilingual</th>\n",
       "    </tr>\n",
       "    <tr>\n",
       "      <th>model</th>\n",
       "      <th>revision</th>\n",
       "      <th></th>\n",
       "      <th></th>\n",
       "      <th></th>\n",
       "      <th></th>\n",
       "      <th></th>\n",
       "      <th></th>\n",
       "      <th></th>\n",
       "      <th></th>\n",
       "      <th></th>\n",
       "      <th></th>\n",
       "      <th></th>\n",
       "      <th></th>\n",
       "      <th></th>\n",
       "      <th></th>\n",
       "      <th></th>\n",
       "      <th></th>\n",
       "      <th></th>\n",
       "      <th></th>\n",
       "      <th></th>\n",
       "      <th></th>\n",
       "      <th></th>\n",
       "    </tr>\n",
       "  </thead>\n",
       "  <tbody>\n",
       "    <tr>\n",
       "      <th>intfloat/multilingual-e5-base</th>\n",
       "      <th>d13f1b27baf31030b7fd040960d60d909913633f</th>\n",
       "      <td>0.562846</td>\n",
       "      <td>0.907317</td>\n",
       "      <td>0.949219</td>\n",
       "      <td>0.332181</td>\n",
       "      <td>0.40416</td>\n",
       "      <td>0.364127</td>\n",
       "      <td>0.822655</td>\n",
       "      <td>0.601333</td>\n",
       "      <td>0.606893</td>\n",
       "      <td>0.679691</td>\n",
       "      <td>...</td>\n",
       "      <td>0.758533</td>\n",
       "      <td>0.756863</td>\n",
       "      <td>0.411994</td>\n",
       "      <td>0.509961</td>\n",
       "      <td>0.92682</td>\n",
       "      <td>0.912300</td>\n",
       "      <td>0.42163</td>\n",
       "      <td>0.203832</td>\n",
       "      <td>0.897135</td>\n",
       "      <td>0.90878</td>\n",
       "    </tr>\n",
       "    <tr>\n",
       "      <th>intfloat/multilingual-e5-large</th>\n",
       "      <th>4dc6d853a804b9c8886ede6dda8a073b7dc08a81</th>\n",
       "      <td>0.576886</td>\n",
       "      <td>0.946187</td>\n",
       "      <td>0.976562</td>\n",
       "      <td>0.296079</td>\n",
       "      <td>0.40868</td>\n",
       "      <td>0.394338</td>\n",
       "      <td>0.826064</td>\n",
       "      <td>0.615333</td>\n",
       "      <td>0.636954</td>\n",
       "      <td>0.711836</td>\n",
       "      <td>...</td>\n",
       "      <td>0.801533</td>\n",
       "      <td>0.782353</td>\n",
       "      <td>0.465025</td>\n",
       "      <td>0.516162</td>\n",
       "      <td>0.95369</td>\n",
       "      <td>0.950800</td>\n",
       "      <td>0.35219</td>\n",
       "      <td>0.206153</td>\n",
       "      <td>0.912693</td>\n",
       "      <td>0.92426</td>\n",
       "    </tr>\n",
       "    <tr>\n",
       "      <th>intfloat/multilingual-e5-large-instruct</th>\n",
       "      <th>baa7be480a7de1539afce709c8f13f833a510e0a</th>\n",
       "      <td>0.645081</td>\n",
       "      <td>0.923867</td>\n",
       "      <td>0.992188</td>\n",
       "      <td>0.552233</td>\n",
       "      <td>0.40513</td>\n",
       "      <td>0.448807</td>\n",
       "      <td>0.929799</td>\n",
       "      <td>0.708000</td>\n",
       "      <td>0.718527</td>\n",
       "      <td>0.774748</td>\n",
       "      <td>...</td>\n",
       "      <td>0.824433</td>\n",
       "      <td>0.828431</td>\n",
       "      <td>0.586632</td>\n",
       "      <td>0.507129</td>\n",
       "      <td>0.93690</td>\n",
       "      <td>0.955333</td>\n",
       "      <td>0.77233</td>\n",
       "      <td>0.242545</td>\n",
       "      <td>0.900087</td>\n",
       "      <td>0.90626</td>\n",
       "    </tr>\n",
       "    <tr>\n",
       "      <th>intfloat/multilingual-e5-small</th>\n",
       "      <th>e4ce9877abf3edfe10b0d82785e83bdcb973e22e</th>\n",
       "      <td>0.562655</td>\n",
       "      <td>0.854937</td>\n",
       "      <td>0.839258</td>\n",
       "      <td>0.371457</td>\n",
       "      <td>0.39601</td>\n",
       "      <td>0.348182</td>\n",
       "      <td>0.762986</td>\n",
       "      <td>0.586000</td>\n",
       "      <td>0.561197</td>\n",
       "      <td>0.640282</td>\n",
       "      <td>...</td>\n",
       "      <td>0.721500</td>\n",
       "      <td>0.747059</td>\n",
       "      <td>0.386207</td>\n",
       "      <td>0.508008</td>\n",
       "      <td>0.90379</td>\n",
       "      <td>0.863838</td>\n",
       "      <td>0.29358</td>\n",
       "      <td>0.195741</td>\n",
       "      <td>0.883712</td>\n",
       "      <td>0.89263</td>\n",
       "    </tr>\n",
       "    <tr>\n",
       "      <th>sentence-transformers/LaBSE</th>\n",
       "      <th>e34fab64a3011d2176c99545a93d5cbddc9a91b7</th>\n",
       "      <td>0.511079</td>\n",
       "      <td>0.739557</td>\n",
       "      <td>0.989583</td>\n",
       "      <td>0.456256</td>\n",
       "      <td>0.34537</td>\n",
       "      <td>0.383403</td>\n",
       "      <td>0.838430</td>\n",
       "      <td>0.500667</td>\n",
       "      <td>0.582313</td>\n",
       "      <td>0.652589</td>\n",
       "      <td>...</td>\n",
       "      <td>0.353867</td>\n",
       "      <td>0.599510</td>\n",
       "      <td>0.284970</td>\n",
       "      <td>0.506104</td>\n",
       "      <td>0.76295</td>\n",
       "      <td>0.957067</td>\n",
       "      <td>0.14380</td>\n",
       "      <td>0.177777</td>\n",
       "      <td>0.825927</td>\n",
       "      <td>0.69096</td>\n",
       "    </tr>\n",
       "  </tbody>\n",
       "</table>\n",
       "<p>5 rows × 22 columns</p>\n",
       "</div>"
      ],
      "text/plain": [
       "task                                                                              AngryTweetsClassification  \\\n",
       "model                                   revision                                                              \n",
       "intfloat/multilingual-e5-base           d13f1b27baf31030b7fd040960d60d909913633f                   0.562846   \n",
       "intfloat/multilingual-e5-large          4dc6d853a804b9c8886ede6dda8a073b7dc08a81                   0.576886   \n",
       "intfloat/multilingual-e5-large-instruct baa7be480a7de1539afce709c8f13f833a510e0a                   0.645081   \n",
       "intfloat/multilingual-e5-small          e4ce9877abf3edfe10b0d82785e83bdcb973e22e                   0.562655   \n",
       "sentence-transformers/LaBSE             e34fab64a3011d2176c99545a93d5cbddc9a91b7                   0.511079   \n",
       "\n",
       "task                                                                              BelebeleRetrieval  \\\n",
       "model                                   revision                                                      \n",
       "intfloat/multilingual-e5-base           d13f1b27baf31030b7fd040960d60d909913633f           0.907317   \n",
       "intfloat/multilingual-e5-large          4dc6d853a804b9c8886ede6dda8a073b7dc08a81           0.946187   \n",
       "intfloat/multilingual-e5-large-instruct baa7be480a7de1539afce709c8f13f833a510e0a           0.923867   \n",
       "intfloat/multilingual-e5-small          e4ce9877abf3edfe10b0d82785e83bdcb973e22e           0.854937   \n",
       "sentence-transformers/LaBSE             e34fab64a3011d2176c99545a93d5cbddc9a91b7           0.739557   \n",
       "\n",
       "task                                                                              BibleNLPBitextMining  \\\n",
       "model                                   revision                                                         \n",
       "intfloat/multilingual-e5-base           d13f1b27baf31030b7fd040960d60d909913633f              0.949219   \n",
       "intfloat/multilingual-e5-large          4dc6d853a804b9c8886ede6dda8a073b7dc08a81              0.976562   \n",
       "intfloat/multilingual-e5-large-instruct baa7be480a7de1539afce709c8f13f833a510e0a              0.992188   \n",
       "intfloat/multilingual-e5-small          e4ce9877abf3edfe10b0d82785e83bdcb973e22e              0.839258   \n",
       "sentence-transformers/LaBSE             e34fab64a3011d2176c99545a93d5cbddc9a91b7              0.989583   \n",
       "\n",
       "task                                                                              BornholmBitextMining  \\\n",
       "model                                   revision                                                         \n",
       "intfloat/multilingual-e5-base           d13f1b27baf31030b7fd040960d60d909913633f              0.332181   \n",
       "intfloat/multilingual-e5-large          4dc6d853a804b9c8886ede6dda8a073b7dc08a81              0.296079   \n",
       "intfloat/multilingual-e5-large-instruct baa7be480a7de1539afce709c8f13f833a510e0a              0.552233   \n",
       "intfloat/multilingual-e5-small          e4ce9877abf3edfe10b0d82785e83bdcb973e22e              0.371457   \n",
       "sentence-transformers/LaBSE             e34fab64a3011d2176c99545a93d5cbddc9a91b7              0.456256   \n",
       "\n",
       "task                                                                              DanFeverRetrieval  \\\n",
       "model                                   revision                                                      \n",
       "intfloat/multilingual-e5-base           d13f1b27baf31030b7fd040960d60d909913633f            0.40416   \n",
       "intfloat/multilingual-e5-large          4dc6d853a804b9c8886ede6dda8a073b7dc08a81            0.40868   \n",
       "intfloat/multilingual-e5-large-instruct baa7be480a7de1539afce709c8f13f833a510e0a            0.40513   \n",
       "intfloat/multilingual-e5-small          e4ce9877abf3edfe10b0d82785e83bdcb973e22e            0.39601   \n",
       "sentence-transformers/LaBSE             e34fab64a3011d2176c99545a93d5cbddc9a91b7            0.34537   \n",
       "\n",
       "task                                                                              DanishPoliticalCommentsClassification  \\\n",
       "model                                   revision                                                                          \n",
       "intfloat/multilingual-e5-base           d13f1b27baf31030b7fd040960d60d909913633f                               0.364127   \n",
       "intfloat/multilingual-e5-large          4dc6d853a804b9c8886ede6dda8a073b7dc08a81                               0.394338   \n",
       "intfloat/multilingual-e5-large-instruct baa7be480a7de1539afce709c8f13f833a510e0a                               0.448807   \n",
       "intfloat/multilingual-e5-small          e4ce9877abf3edfe10b0d82785e83bdcb973e22e                               0.348182   \n",
       "sentence-transformers/LaBSE             e34fab64a3011d2176c99545a93d5cbddc9a91b7                               0.383403   \n",
       "\n",
       "task                                                                              FloresBitextMining  \\\n",
       "model                                   revision                                                       \n",
       "intfloat/multilingual-e5-base           d13f1b27baf31030b7fd040960d60d909913633f            0.822655   \n",
       "intfloat/multilingual-e5-large          4dc6d853a804b9c8886ede6dda8a073b7dc08a81            0.826064   \n",
       "intfloat/multilingual-e5-large-instruct baa7be480a7de1539afce709c8f13f833a510e0a            0.929799   \n",
       "intfloat/multilingual-e5-small          e4ce9877abf3edfe10b0d82785e83bdcb973e22e            0.762986   \n",
       "sentence-transformers/LaBSE             e34fab64a3011d2176c99545a93d5cbddc9a91b7            0.838430   \n",
       "\n",
       "task                                                                              LccSentimentClassification  \\\n",
       "model                                   revision                                                               \n",
       "intfloat/multilingual-e5-base           d13f1b27baf31030b7fd040960d60d909913633f                    0.601333   \n",
       "intfloat/multilingual-e5-large          4dc6d853a804b9c8886ede6dda8a073b7dc08a81                    0.615333   \n",
       "intfloat/multilingual-e5-large-instruct baa7be480a7de1539afce709c8f13f833a510e0a                    0.708000   \n",
       "intfloat/multilingual-e5-small          e4ce9877abf3edfe10b0d82785e83bdcb973e22e                    0.586000   \n",
       "sentence-transformers/LaBSE             e34fab64a3011d2176c99545a93d5cbddc9a91b7                    0.500667   \n",
       "\n",
       "task                                                                              MassiveIntentClassification  \\\n",
       "model                                   revision                                                                \n",
       "intfloat/multilingual-e5-base           d13f1b27baf31030b7fd040960d60d909913633f                     0.606893   \n",
       "intfloat/multilingual-e5-large          4dc6d853a804b9c8886ede6dda8a073b7dc08a81                     0.636954   \n",
       "intfloat/multilingual-e5-large-instruct baa7be480a7de1539afce709c8f13f833a510e0a                     0.718527   \n",
       "intfloat/multilingual-e5-small          e4ce9877abf3edfe10b0d82785e83bdcb973e22e                     0.561197   \n",
       "sentence-transformers/LaBSE             e34fab64a3011d2176c99545a93d5cbddc9a91b7                     0.582313   \n",
       "\n",
       "task                                                                              MassiveScenarioClassification  \\\n",
       "model                                   revision                                                                  \n",
       "intfloat/multilingual-e5-base           d13f1b27baf31030b7fd040960d60d909913633f                       0.679691   \n",
       "intfloat/multilingual-e5-large          4dc6d853a804b9c8886ede6dda8a073b7dc08a81                       0.711836   \n",
       "intfloat/multilingual-e5-large-instruct baa7be480a7de1539afce709c8f13f833a510e0a                       0.774748   \n",
       "intfloat/multilingual-e5-small          e4ce9877abf3edfe10b0d82785e83bdcb973e22e                       0.640282   \n",
       "sentence-transformers/LaBSE             e34fab64a3011d2176c99545a93d5cbddc9a91b7                       0.652589   \n",
       "\n",
       "task                                                                              ...  \\\n",
       "model                                   revision                                  ...   \n",
       "intfloat/multilingual-e5-base           d13f1b27baf31030b7fd040960d60d909913633f  ...   \n",
       "intfloat/multilingual-e5-large          4dc6d853a804b9c8886ede6dda8a073b7dc08a81  ...   \n",
       "intfloat/multilingual-e5-large-instruct baa7be480a7de1539afce709c8f13f833a510e0a  ...   \n",
       "intfloat/multilingual-e5-small          e4ce9877abf3edfe10b0d82785e83bdcb973e22e  ...   \n",
       "sentence-transformers/LaBSE             e34fab64a3011d2176c99545a93d5cbddc9a91b7  ...   \n",
       "\n",
       "task                                                                              NordicLangClassification  \\\n",
       "model                                   revision                                                             \n",
       "intfloat/multilingual-e5-base           d13f1b27baf31030b7fd040960d60d909913633f                  0.758533   \n",
       "intfloat/multilingual-e5-large          4dc6d853a804b9c8886ede6dda8a073b7dc08a81                  0.801533   \n",
       "intfloat/multilingual-e5-large-instruct baa7be480a7de1539afce709c8f13f833a510e0a                  0.824433   \n",
       "intfloat/multilingual-e5-small          e4ce9877abf3edfe10b0d82785e83bdcb973e22e                  0.721500   \n",
       "sentence-transformers/LaBSE             e34fab64a3011d2176c99545a93d5cbddc9a91b7                  0.353867   \n",
       "\n",
       "task                                                                              SIB200Classification  \\\n",
       "model                                   revision                                                         \n",
       "intfloat/multilingual-e5-base           d13f1b27baf31030b7fd040960d60d909913633f              0.756863   \n",
       "intfloat/multilingual-e5-large          4dc6d853a804b9c8886ede6dda8a073b7dc08a81              0.782353   \n",
       "intfloat/multilingual-e5-large-instruct baa7be480a7de1539afce709c8f13f833a510e0a              0.828431   \n",
       "intfloat/multilingual-e5-small          e4ce9877abf3edfe10b0d82785e83bdcb973e22e              0.747059   \n",
       "sentence-transformers/LaBSE             e34fab64a3011d2176c99545a93d5cbddc9a91b7              0.599510   \n",
       "\n",
       "task                                                                              SIB200ClusteringS2S  \\\n",
       "model                                   revision                                                        \n",
       "intfloat/multilingual-e5-base           d13f1b27baf31030b7fd040960d60d909913633f             0.411994   \n",
       "intfloat/multilingual-e5-large          4dc6d853a804b9c8886ede6dda8a073b7dc08a81             0.465025   \n",
       "intfloat/multilingual-e5-large-instruct baa7be480a7de1539afce709c8f13f833a510e0a             0.586632   \n",
       "intfloat/multilingual-e5-small          e4ce9877abf3edfe10b0d82785e83bdcb973e22e             0.386207   \n",
       "sentence-transformers/LaBSE             e34fab64a3011d2176c99545a93d5cbddc9a91b7             0.284970   \n",
       "\n",
       "task                                                                              ScalaClassification  \\\n",
       "model                                   revision                                                        \n",
       "intfloat/multilingual-e5-base           d13f1b27baf31030b7fd040960d60d909913633f             0.509961   \n",
       "intfloat/multilingual-e5-large          4dc6d853a804b9c8886ede6dda8a073b7dc08a81             0.516162   \n",
       "intfloat/multilingual-e5-large-instruct baa7be480a7de1539afce709c8f13f833a510e0a             0.507129   \n",
       "intfloat/multilingual-e5-small          e4ce9877abf3edfe10b0d82785e83bdcb973e22e             0.508008   \n",
       "sentence-transformers/LaBSE             e34fab64a3011d2176c99545a93d5cbddc9a91b7             0.506104   \n",
       "\n",
       "task                                                                              TV2Nordretrieval  \\\n",
       "model                                   revision                                                     \n",
       "intfloat/multilingual-e5-base           d13f1b27baf31030b7fd040960d60d909913633f           0.92682   \n",
       "intfloat/multilingual-e5-large          4dc6d853a804b9c8886ede6dda8a073b7dc08a81           0.95369   \n",
       "intfloat/multilingual-e5-large-instruct baa7be480a7de1539afce709c8f13f833a510e0a           0.93690   \n",
       "intfloat/multilingual-e5-small          e4ce9877abf3edfe10b0d82785e83bdcb973e22e           0.90379   \n",
       "sentence-transformers/LaBSE             e34fab64a3011d2176c99545a93d5cbddc9a91b7           0.76295   \n",
       "\n",
       "task                                                                               Tatoeba  \\\n",
       "model                                   revision                                             \n",
       "intfloat/multilingual-e5-base           d13f1b27baf31030b7fd040960d60d909913633f  0.912300   \n",
       "intfloat/multilingual-e5-large          4dc6d853a804b9c8886ede6dda8a073b7dc08a81  0.950800   \n",
       "intfloat/multilingual-e5-large-instruct baa7be480a7de1539afce709c8f13f833a510e0a  0.955333   \n",
       "intfloat/multilingual-e5-small          e4ce9877abf3edfe10b0d82785e83bdcb973e22e  0.863838   \n",
       "sentence-transformers/LaBSE             e34fab64a3011d2176c99545a93d5cbddc9a91b7  0.957067   \n",
       "\n",
       "task                                                                              TwitterHjerneRetrieval  \\\n",
       "model                                   revision                                                           \n",
       "intfloat/multilingual-e5-base           d13f1b27baf31030b7fd040960d60d909913633f                 0.42163   \n",
       "intfloat/multilingual-e5-large          4dc6d853a804b9c8886ede6dda8a073b7dc08a81                 0.35219   \n",
       "intfloat/multilingual-e5-large-instruct baa7be480a7de1539afce709c8f13f833a510e0a                 0.77233   \n",
       "intfloat/multilingual-e5-small          e4ce9877abf3edfe10b0d82785e83bdcb973e22e                 0.29358   \n",
       "sentence-transformers/LaBSE             e34fab64a3011d2176c99545a93d5cbddc9a91b7                 0.14380   \n",
       "\n",
       "task                                                                              WikiClusteringP2P.v2  \\\n",
       "model                                   revision                                                         \n",
       "intfloat/multilingual-e5-base           d13f1b27baf31030b7fd040960d60d909913633f              0.203832   \n",
       "intfloat/multilingual-e5-large          4dc6d853a804b9c8886ede6dda8a073b7dc08a81              0.206153   \n",
       "intfloat/multilingual-e5-large-instruct baa7be480a7de1539afce709c8f13f833a510e0a              0.242545   \n",
       "intfloat/multilingual-e5-small          e4ce9877abf3edfe10b0d82785e83bdcb973e22e              0.195741   \n",
       "sentence-transformers/LaBSE             e34fab64a3011d2176c99545a93d5cbddc9a91b7              0.177777   \n",
       "\n",
       "task                                                                              WikipediaRerankingMultilingual  \\\n",
       "model                                   revision                                                                   \n",
       "intfloat/multilingual-e5-base           d13f1b27baf31030b7fd040960d60d909913633f                        0.897135   \n",
       "intfloat/multilingual-e5-large          4dc6d853a804b9c8886ede6dda8a073b7dc08a81                        0.912693   \n",
       "intfloat/multilingual-e5-large-instruct baa7be480a7de1539afce709c8f13f833a510e0a                        0.900087   \n",
       "intfloat/multilingual-e5-small          e4ce9877abf3edfe10b0d82785e83bdcb973e22e                        0.883712   \n",
       "sentence-transformers/LaBSE             e34fab64a3011d2176c99545a93d5cbddc9a91b7                        0.825927   \n",
       "\n",
       "task                                                                              WikipediaRetrievalMultilingual  \n",
       "model                                   revision                                                                  \n",
       "intfloat/multilingual-e5-base           d13f1b27baf31030b7fd040960d60d909913633f                         0.90878  \n",
       "intfloat/multilingual-e5-large          4dc6d853a804b9c8886ede6dda8a073b7dc08a81                         0.92426  \n",
       "intfloat/multilingual-e5-large-instruct baa7be480a7de1539afce709c8f13f833a510e0a                         0.90626  \n",
       "intfloat/multilingual-e5-small          e4ce9877abf3edfe10b0d82785e83bdcb973e22e                         0.89263  \n",
       "sentence-transformers/LaBSE             e34fab64a3011d2176c99545a93d5cbddc9a91b7                         0.69096  \n",
       "\n",
       "[5 rows x 22 columns]"
      ]
     },
     "execution_count": 13,
     "metadata": {},
     "output_type": "execute_result"
    }
   ],
   "source": [
    "results_df.head()  # inspect the dataframe"
   ]
  },
  {
   "cell_type": "code",
   "execution_count": 14,
   "metadata": {},
   "outputs": [
    {
     "name": "stderr",
     "output_type": "stream",
     "text": [
      "Task: WikipediaRetrievalMultilingual: 100%|██████████| 22/22 [00:00<00:00, 67.96it/s]      \n"
     ]
    }
   ],
   "source": [
    "from sklearn.linear_model import LinearRegression\n",
    "\n",
    "task_predictablity = task_selection.most_predictable_task(\n",
    "    results_df,\n",
    "    sklearn_estimator=LinearRegression(),  # model to predict performance on a held out task given the performance on the other tasks\n",
    "    metrics=[\n",
    "        task_selection.spearman,\n",
    "        task_selection.pearson,\n",
    "        task_selection.mse_with_zscore,\n",
    "    ],\n",
    ")"
   ]
  },
  {
   "cell_type": "code",
   "execution_count": 15,
   "metadata": {},
   "outputs": [
    {
     "data": {
      "text/plain": [
       "[{'BelebeleRetrieval': {'spearman': 0.9878787878787878,\n",
       "   'pearson': 0.9970507409976126,\n",
       "   'mse_with_zscore': 0.005898518004774879}},\n",
       " {'NTREXBitextMining': {'spearman': 0.9515151515151514,\n",
       "   'pearson': 0.9867856182994142,\n",
       "   'mse_with_zscore': 0.026428763401171528}},\n",
       " {'TV2Nordretrieval': {'spearman': 0.9515151515151514,\n",
       "   'pearson': 0.9779518119166111,\n",
       "   'mse_with_zscore': 0.04409637616677795}},\n",
       " {'MassiveScenarioClassification': {'spearman': 0.9151515151515152,\n",
       "   'pearson': 0.9595171124139267,\n",
       "   'mse_with_zscore': 0.08096577517214652}},\n",
       " {'WikipediaRerankingMultilingual': {'spearman': 0.9151515151515152,\n",
       "   'pearson': 0.9478418113623516,\n",
       "   'mse_with_zscore': 0.10431637727529648}},\n",
       " {'WikipediaRetrievalMultilingual': {'spearman': 0.9030303030303028,\n",
       "   'pearson': 0.9295224767277619,\n",
       "   'mse_with_zscore': 0.14095504654447644}},\n",
       " {'BibleNLPBitextMining': {'spearman': 0.8787878787878788,\n",
       "   'pearson': 0.9964031787166682,\n",
       "   'mse_with_zscore': 0.00719364256666383}},\n",
       " {'Tatoeba': {'spearman': 0.8787878787878788,\n",
       "   'pearson': 0.9854416845271496,\n",
       "   'mse_with_zscore': 0.029116630945700793}},\n",
       " {'SIB200Classification': {'spearman': 0.8666666666666665,\n",
       "   'pearson': 0.9331750993371765,\n",
       "   'mse_with_zscore': 0.1336498013256467}},\n",
       " {'SIB200ClusteringS2S': {'spearman': 0.8666666666666665,\n",
       "   'pearson': 0.9223883525531887,\n",
       "   'mse_with_zscore': 0.15522329489362224}},\n",
       " {'AngryTweetsClassification': {'spearman': 0.8424242424242423,\n",
       "   'pearson': 0.9073414635456171,\n",
       "   'mse_with_zscore': 0.185317072908766}},\n",
       " {'DanFeverRetrieval': {'spearman': 0.8424242424242423,\n",
       "   'pearson': 0.9259938436309683,\n",
       "   'mse_with_zscore': 0.14801231273806378}},\n",
       " {'LccSentimentClassification': {'spearman': 0.8424242424242423,\n",
       "   'pearson': 0.9132684082289415,\n",
       "   'mse_with_zscore': 0.17346318354211748}},\n",
       " {'MassiveIntentClassification': {'spearman': 0.8303030303030302,\n",
       "   'pearson': 0.8485440619293967,\n",
       "   'mse_with_zscore': 0.30291187614120596}},\n",
       " {'MultiEURLEXMultilabelClassification': {'spearman': 0.8060606060606059,\n",
       "   'pearson': 0.8779012689047206,\n",
       "   'mse_with_zscore': 0.244197462190559}},\n",
       " {'DanishPoliticalCommentsClassification': {'spearman': 0.7818181818181817,\n",
       "   'pearson': 0.8426768615531222,\n",
       "   'mse_with_zscore': 0.31464627689375585}},\n",
       " {'FloresBitextMining': {'spearman': 0.7818181818181817,\n",
       "   'pearson': 0.9180176990639936,\n",
       "   'mse_with_zscore': 0.16396460187201242}},\n",
       " {'WikiClusteringP2P.v2': {'spearman': 0.7575757575757575,\n",
       "   'pearson': 0.824686598274594,\n",
       "   'mse_with_zscore': 0.3506268034508118}},\n",
       " {'ScalaClassification': {'spearman': 0.5636363636363636,\n",
       "   'pearson': 0.5013461087446984,\n",
       "   'mse_with_zscore': 0.9973077825106031}},\n",
       " {'TwitterHjerneRetrieval': {'spearman': 0.05454545454545454,\n",
       "   'pearson': -0.17697172918390386,\n",
       "   'mse_with_zscore': 2.3539434583678074}},\n",
       " {'BornholmBitextMining': {'spearman': -0.09090909090909088,\n",
       "   'pearson': -0.1256947260720855,\n",
       "   'mse_with_zscore': 2.251389452144171}},\n",
       " {'NordicLangClassification': {'spearman': -0.1515151515151515,\n",
       "   'pearson': -0.02762353090535816,\n",
       "   'mse_with_zscore': 2.0552470618107166}}]"
      ]
     },
     "execution_count": 15,
     "metadata": {},
     "output_type": "execute_result"
    }
   ],
   "source": [
    "task_predictablity  # task ordered by predictability of fist metric"
   ]
  },
  {
   "cell_type": "markdown",
   "metadata": {},
   "source": [
    "# Task Selection\n",
    "\n",
    "In this section we will do the task selection to construct a benchmark."
   ]
  },
  {
   "cell_type": "markdown",
   "metadata": {},
   "source": [
    "### Manual Curation\n",
    "Naturally you can always select your datasets manually and there might be plenty reasons to do so:"
   ]
  },
  {
   "cell_type": "code",
   "execution_count": 16,
   "metadata": {},
   "outputs": [],
   "source": [
    "# if you wish you can do some manual filtering here, which we will do in this example:\n",
    "tasks_to_remove = [\n",
    "    \"DKHateClassification\",  # due to it being a gated dataset on huggingface (requiring to sign a form)\n",
    "    \"MultiEURLEXMultilabelClassification\",  # due to it being very large\n",
    "]"
   ]
  },
  {
   "cell_type": "code",
   "execution_count": 17,
   "metadata": {},
   "outputs": [
    {
     "name": "stdout",
     "output_type": "stream",
     "text": [
      "BornholmBitextMining - CC-BY-4.0\n",
      "BibleNLPBitextMining - CC-BY-SA-4.0\n",
      "FloresBitextMining - CC BY-SA 4.0\n",
      "NTREXBitextMining - CC-BY-SA-4.0\n",
      "Tatoeba - CC BY 2.0\n",
      "AngryTweetsClassification - CC-BY-4.0\n",
      "DanishPoliticalCommentsClassification - Not specified\n",
      "DKHateClassification - CC-BY-4.0\n",
      "LccSentimentClassification - CC-BY-4.0\n",
      "MassiveIntentClassification - Apache 2.0\n",
      "MassiveScenarioClassification - Apache 2.0\n",
      "NordicLangClassification - cc-by-sa-3.0\n",
      "ScalaClassification - CC BY-SA 4.0\n",
      "SIB200Classification - cc-by-sa-4.0\n",
      "SIB200ClusteringS2S - cc-by-sa-4.0\n",
      "WikiClusteringP2P.v2 - cc-by-sa-3.0\n",
      "DanFeverRetrieval - CC BY-SA 4.0\n",
      "TV2Nordretrieval - CC0\n",
      "TwitterHjerneRetrieval - CC BY 4.0\n",
      "BelebeleRetrieval - CC-BY-SA-4.0\n",
      "WikipediaRetrievalMultilingual - cc-by-sa-3.0\n",
      "MultiEURLEXMultilabelClassification - CC BY-SA 4.0\n",
      "WikipediaRerankingMultilingual - cc-by-sa-3.0\n"
     ]
    }
   ],
   "source": [
    "# we also want somewhat permissible licenses\n",
    "\n",
    "for t in danish_tasks:\n",
    "    print(t.metadata.name, \"-\", t.metadata.license)\n",
    "\n",
    "# based on this we will probably also remove:\n",
    "tasks_to_remove += [\"DanishPoliticalCommentsClassification\"]  # ambiguous license"
   ]
  },
  {
   "cell_type": "code",
   "execution_count": 18,
   "metadata": {},
   "outputs": [
    {
     "name": "stdout",
     "output_type": "stream",
     "text": [
      "[]\n"
     ]
    }
   ],
   "source": [
    "# we also want to removed machine translated datasets\n",
    "machine_translated_datasets = [\n",
    "    t.metadata.name\n",
    "    for t in danish_tasks\n",
    "    if t.metadata.sample_creation\n",
    "    in [\n",
    "        \"machine-translated\",\n",
    "        \"machine-translated and verified\",\n",
    "        \"machine-translated and localized\",\n",
    "    ]\n",
    "]\n",
    "\n",
    "print(machine_translated_datasets)  # there is none"
   ]
  },
  {
   "cell_type": "code",
   "execution_count": 19,
   "metadata": {},
   "outputs": [],
   "source": [
    "tasks_to_select_from = [\n",
    "    task.metadata.name\n",
    "    for task in danish_tasks\n",
    "    if task.metadata.name not in tasks_to_remove\n",
    "]"
   ]
  },
  {
   "cell_type": "markdown",
   "metadata": {},
   "source": [
    "### Iterative Automated Task Selection \n",
    "\n",
    "Here we do the iterative task selection for Danish. We have designed the code to be flexible enough to allow benchmark developers to adjust the assumptions they make."
   ]
  },
  {
   "cell_type": "code",
   "execution_count": 20,
   "metadata": {},
   "outputs": [],
   "source": [
    "# tasks which should be kept, e.g. due to them being known high quality datasets, unique tasks, etc.\n",
    "tasks_to_keep = [\n",
    "    \"AngryTweetsClassification\",\n",
    "    \"DanFeverRetrieval\",\n",
    "    \"BornholmBitextMining\",\n",
    "]\n",
    "\n",
    "\n",
    "def is_candidate_valid_removal(current_tasks: list[str], task_to_remove: str) -> bool:\n",
    "    \"\"\"Determine if target task should be removed. This simply checks that all task types are present in the current tasks or whether the task is in the tasks_to_keep list.\"\"\"\n",
    "    if task_to_remove in tasks_to_keep:\n",
    "        return False\n",
    "\n",
    "    # check if removing task removes a unique task type - if so, don't remove\n",
    "    _current_tasks = current_tasks.copy()\n",
    "    if task_to_remove in _current_tasks:\n",
    "        _current_tasks.remove(task_to_remove)\n",
    "    task = mteb.get_task(task_to_remove)\n",
    "    ctasks = mteb.get_tasks(tasks=_current_tasks)\n",
    "\n",
    "    # don't remove a unique task type\n",
    "    task_types = {t.metadata.type for t in ctasks}\n",
    "    if task.metadata.type not in task_types:\n",
    "        return False\n",
    "    return True"
   ]
  },
  {
   "cell_type": "code",
   "execution_count": 21,
   "metadata": {},
   "outputs": [
    {
     "name": "stderr",
     "output_type": "stream",
     "text": [
      "Task: WikipediaRerankingMultilingual: 100%|██████████| 20/20 [00:00<00:00, 75.74it/s]\n",
      "Task: WikipediaRerankingMultilingual: 100%|██████████| 19/19 [00:00<00:00, 83.23it/s]\n",
      "Task: WikipediaRerankingMultilingual: 100%|██████████| 18/18 [00:00<00:00, 84.55it/s]\n",
      "Task: WikipediaRerankingMultilingual: 100%|██████████| 17/17 [00:00<00:00, 84.32it/s]\n",
      "Task: WikipediaRerankingMultilingual: 100%|██████████| 16/16 [00:00<00:00, 77.37it/s]\n",
      "Task: WikipediaRerankingMultilingual: 100%|██████████| 15/15 [00:00<00:00, 85.79it/s]\n",
      "Task: WikipediaRerankingMultilingual: 100%|██████████| 14/14 [00:00<00:00, 86.38it/s]\n",
      "Task: WikipediaRerankingMultilingual: 100%|██████████| 13/13 [00:00<00:00, 89.55it/s]\n",
      "Task: WikipediaRerankingMultilingual: 100%|██████████| 12/12 [00:00<00:00, 81.43it/s]\n",
      "Task: WikipediaRerankingMultilingual: 100%|██████████| 11/11 [00:00<00:00, 80.33it/s]\n",
      "Task: WikipediaRerankingMultilingual: 100%|██████████| 10/10 [00:00<00:00, 86.61it/s]\n",
      "Task: WikipediaRerankingMultilingual: 100%|██████████| 9/9 [00:00<00:00, 88.41it/s]\n",
      "Task: WikipediaRerankingMultilingual: 100%|██████████| 8/8 [00:00<00:00, 90.58it/s]\n",
      "Task: WikipediaRerankingMultilingual: 100%|██████████| 7/7 [00:00<00:00, 89.17it/s]\n",
      "Task: WikipediaRerankingMultilingual: 100%|██████████| 6/6 [00:00<00:00, 92.14it/s]\n"
     ]
    }
   ],
   "source": [
    "# remove tasks one by one\n",
    "tasks_removed = []\n",
    "predicability_scores = []\n",
    "\n",
    "while tasks_to_select_from:\n",
    "    most_pred_tasks = task_selection.most_predictable_task(\n",
    "        results_df[tasks_to_select_from],\n",
    "        sklearn_estimator=LinearRegression(),\n",
    "        metrics=[\n",
    "            task_selection.spearman,\n",
    "            task_selection.pearson,\n",
    "            task_selection.mse_with_zscore,\n",
    "        ],\n",
    "    )\n",
    "    # reverse the list to get the least predictable task\n",
    "    most_pred_tasks.reverse()\n",
    "\n",
    "    while most_pred_tasks:\n",
    "        most_pred_task = most_pred_tasks.pop()\n",
    "        most_pred_task_name = list(most_pred_task.keys())[0]\n",
    "        if is_candidate_valid_removal(tasks_to_select_from, most_pred_task_name):\n",
    "            tasks_to_select_from.remove(most_pred_task_name)\n",
    "            tasks_removed.append(most_pred_task_name)\n",
    "            predicability_scores.append(most_pred_task[most_pred_task_name])\n",
    "            break\n",
    "\n",
    "    if not most_pred_tasks:  # if no task was removed, then we are done -- can be replaced with another stopping criterion\n",
    "        break"
   ]
  },
  {
   "cell_type": "code",
   "execution_count": 22,
   "metadata": {},
   "outputs": [
    {
     "data": {
      "image/png": "[encoded data removed]",
      "text/plain": [
       "<Figure size 640x480 with 1 Axes>"
      ]
     },
     "metadata": {},
     "output_type": "display_data"
    }
   ],
   "source": [
    "# plotting the predictability scores with the tasks removed\n",
    "import matplotlib.pyplot as plt\n",
    "\n",
    "for metric in [\"spearman\", \"pearson\"]:\n",
    "    plt.plot([t[metric] for t in predicability_scores], label=metric)\n",
    "\n",
    "plt.xlabel(\"Tasks removed\")\n",
    "plt.ylabel(\"Correlation (predicted vs. observed performance)\")\n",
    "plt.legend()\n",
    "\n",
    "# add task names to the x-axis\n",
    "plt.xticks(range(len(tasks_removed)), tasks_removed, rotation=90)\n",
    "plt.show()"
   ]
  },
  {
   "cell_type": "code",
   "execution_count": 23,
   "metadata": {},
   "outputs": [
    {
     "data": {
      "image/png": "[encoded data removed]",
      "text/plain": [
       "<Figure size 640x480 with 1 Axes>"
      ]
     },
     "metadata": {},
     "output_type": "display_data"
    }
   ],
   "source": [
    "# plotting the predictability scores with the tasks removed\n",
    "import matplotlib.pyplot as plt\n",
    "\n",
    "for metric in [\"mse_with_zscore\"]:\n",
    "    plt.plot([t[metric] for t in predicability_scores], label=metric)\n",
    "\n",
    "plt.xlabel(\"Tasks removed\")\n",
    "plt.ylabel(\"Normalized Mean Squared error (predicted vs. observed performance)\")\n",
    "plt.legend()\n",
    "\n",
    "# add task names to the x-axis\n",
    "plt.xticks(range(len(tasks_removed)), tasks_removed, rotation=90)\n",
    "plt.show()"
   ]
  },
  {
   "cell_type": "markdown",
   "metadata": {},
   "source": [
    "## Constructing the Benchmark"
   ]
  },
  {
   "cell_type": "code",
   "execution_count": 24,
   "metadata": {},
   "outputs": [
    {
     "data": {
      "text/plain": [
       "['BornholmBitextMining',\n",
       " 'AngryTweetsClassification',\n",
       " 'SIB200ClusteringS2S',\n",
       " 'DanFeverRetrieval',\n",
       " 'WikipediaRerankingMultilingual']"
      ]
     },
     "execution_count": 24,
     "metadata": {},
     "output_type": "execute_result"
    }
   ],
   "source": [
    "# we now have the tasks:\n",
    "tasks_to_select_from"
   ]
  },
  {
   "cell_type": "code",
   "execution_count": 25,
   "metadata": {},
   "outputs": [],
   "source": [
    "# but some of the task above seem to be quite hard to predict, so we might want to include some of them back based on a threshold\n",
    "benchmark_tasks = (\n",
    "    tasks_to_select_from + tasks_removed[-1:]\n",
    ")  # chosen somewhat arbitrarily based on the plot above [-4:] or [-5:] might be more reasonable\n",
    "# but this makes running the benchmark faster, which is useful for this example"
   ]
  },
  {
   "cell_type": "code",
   "execution_count": 26,
   "metadata": {},
   "outputs": [],
   "source": [
    "tasks = mteb.get_tasks(tasks=benchmark_tasks, languages=[\"dan\"])\n",
    "\n",
    "# we can now create a benchmark\n",
    "benchmark = mteb.Benchmark(\n",
    "    name=\"mteb(dan)\",  # we recommend that the name is prefixed with \"mteb\" and that the language indicated using the ISO 639-3 code (3 letter code)\n",
    "    tasks=tasks,\n",
    "    description=\"Benchmark for evaluating Danish document embedding models\",\n",
    "    citation=\"\",\n",
    "    reference=\"\",\n",
    ")"
   ]
  },
  {
   "cell_type": "markdown",
   "metadata": {},
   "source": [
    "Congratulations you just created your own benchmark. Once completed you can use the benchmark however you like. If you do believe that others would find the benchmark useable, we encourage that you submit a PR with the benchmark to mteb so that other can reproduce your results."
   ]
  },
  {
   "cell_type": "markdown",
   "metadata": {},
   "source": [
    "## Running the benchmark\n",
    "\n",
    "You can naturally run the benchmark simply in `mteb` using:"
   ]
  },
  {
   "cell_type": "code",
   "execution_count": 27,
   "metadata": {},
   "outputs": [
    {
     "data": {
      "text/html": [
       "<pre style=\"white-space:pre;overflow-x:auto;line-height:normal;font-family:Menlo,'DejaVu Sans Mono',consolas,'Courier New',monospace\"><span style=\"color: #262626; text-decoration-color: #262626\">───────────────────────────────────────────────── </span><span style=\"font-weight: bold\">Selected tasks </span><span style=\"color: #262626; text-decoration-color: #262626\"> ─────────────────────────────────────────────────</span>\n",
       "</pre>\n"
      ],
      "text/plain": [
       "\u001b[38;5;235m───────────────────────────────────────────────── \u001b[0m\u001b[1mSelected tasks \u001b[0m\u001b[38;5;235m ─────────────────────────────────────────────────\u001b[0m\n"
      ]
     },
     "metadata": {},
     "output_type": "display_data"
    },
    {
     "data": {
      "text/html": [
       "<pre style=\"white-space:pre;overflow-x:auto;line-height:normal;font-family:Menlo,'DejaVu Sans Mono',consolas,'Courier New',monospace\"><span style=\"font-weight: bold\">Clustering</span>\n",
       "</pre>\n"
      ],
      "text/plain": [
       "\u001b[1mClustering\u001b[0m\n"
      ]
     },
     "metadata": {},
     "output_type": "display_data"
    },
    {
     "data": {
      "text/html": [
       "<pre style=\"white-space:pre;overflow-x:auto;line-height:normal;font-family:Menlo,'DejaVu Sans Mono',consolas,'Courier New',monospace\">    - SIB200ClusteringS2S, <span style=\"color: #626262; text-decoration-color: #626262; font-style: italic\">s2s</span>, <span style=\"color: #800000; text-decoration-color: #800000; font-style: italic\">multilingual </span><span style=\"color: #800000; text-decoration-color: #800000; font-weight: bold; font-style: italic\">1</span><span style=\"color: #800000; text-decoration-color: #800000; font-style: italic\"> / </span><span style=\"color: #800000; text-decoration-color: #800000; font-weight: bold; font-style: italic\">197</span><span style=\"color: #800000; text-decoration-color: #800000; font-style: italic\"> Subsets</span>\n",
       "</pre>\n"
      ],
      "text/plain": [
       "    - SIB200ClusteringS2S, \u001b[3;38;5;241ms2s\u001b[0m, \u001b[3;31mmultilingual \u001b[0m\u001b[1;3;31m1\u001b[0m\u001b[3;31m \u001b[0m\u001b[3;31m/\u001b[0m\u001b[3;31m \u001b[0m\u001b[1;3;31m197\u001b[0m\u001b[3;31m Subsets\u001b[0m\n"
      ]
     },
     "metadata": {},
     "output_type": "display_data"
    },
    {
     "data": {
      "text/html": [
       "<pre style=\"white-space:pre;overflow-x:auto;line-height:normal;font-family:Menlo,'DejaVu Sans Mono',consolas,'Courier New',monospace\">\n",
       "\n",
       "</pre>\n"
      ],
      "text/plain": [
       "\n",
       "\n"
      ]
     },
     "metadata": {},
     "output_type": "display_data"
    },
    {
     "data": {
      "text/html": [
       "<pre style=\"white-space:pre;overflow-x:auto;line-height:normal;font-family:Menlo,'DejaVu Sans Mono',consolas,'Courier New',monospace\"><span style=\"font-weight: bold\">Classification</span>\n",
       "</pre>\n"
      ],
      "text/plain": [
       "\u001b[1mClassification\u001b[0m\n"
      ]
     },
     "metadata": {},
     "output_type": "display_data"
    },
    {
     "data": {
      "text/html": [
       "<pre style=\"white-space:pre;overflow-x:auto;line-height:normal;font-family:Menlo,'DejaVu Sans Mono',consolas,'Courier New',monospace\">    - AngryTweetsClassification, <span style=\"color: #626262; text-decoration-color: #626262; font-style: italic\">s2s</span>\n",
       "</pre>\n"
      ],
      "text/plain": [
       "    - AngryTweetsClassification, \u001b[3;38;5;241ms2s\u001b[0m\n"
      ]
     },
     "metadata": {},
     "output_type": "display_data"
    },
    {
     "data": {
      "text/html": [
       "<pre style=\"white-space:pre;overflow-x:auto;line-height:normal;font-family:Menlo,'DejaVu Sans Mono',consolas,'Courier New',monospace\">    - NordicLangClassification, <span style=\"color: #626262; text-decoration-color: #626262; font-style: italic\">s2s</span>\n",
       "</pre>\n"
      ],
      "text/plain": [
       "    - NordicLangClassification, \u001b[3;38;5;241ms2s\u001b[0m\n"
      ]
     },
     "metadata": {},
     "output_type": "display_data"
    },
    {
     "data": {
      "text/html": [
       "<pre style=\"white-space:pre;overflow-x:auto;line-height:normal;font-family:Menlo,'DejaVu Sans Mono',consolas,'Courier New',monospace\">\n",
       "\n",
       "</pre>\n"
      ],
      "text/plain": [
       "\n",
       "\n"
      ]
     },
     "metadata": {},
     "output_type": "display_data"
    },
    {
     "data": {
      "text/html": [
       "<pre style=\"white-space:pre;overflow-x:auto;line-height:normal;font-family:Menlo,'DejaVu Sans Mono',consolas,'Courier New',monospace\"><span style=\"font-weight: bold\">BitextMining</span>\n",
       "</pre>\n"
      ],
      "text/plain": [
       "\u001b[1mBitextMining\u001b[0m\n"
      ]
     },
     "metadata": {},
     "output_type": "display_data"
    },
    {
     "data": {
      "text/html": [
       "<pre style=\"white-space:pre;overflow-x:auto;line-height:normal;font-family:Menlo,'DejaVu Sans Mono',consolas,'Courier New',monospace\">    - BornholmBitextMining, <span style=\"color: #626262; text-decoration-color: #626262; font-style: italic\">s2s</span>\n",
       "</pre>\n"
      ],
      "text/plain": [
       "    - BornholmBitextMining, \u001b[3;38;5;241ms2s\u001b[0m\n"
      ]
     },
     "metadata": {},
     "output_type": "display_data"
    },
    {
     "data": {
      "text/html": [
       "<pre style=\"white-space:pre;overflow-x:auto;line-height:normal;font-family:Menlo,'DejaVu Sans Mono',consolas,'Courier New',monospace\">\n",
       "\n",
       "</pre>\n"
      ],
      "text/plain": [
       "\n",
       "\n"
      ]
     },
     "metadata": {},
     "output_type": "display_data"
    },
    {
     "data": {
      "text/html": [
       "<pre style=\"white-space:pre;overflow-x:auto;line-height:normal;font-family:Menlo,'DejaVu Sans Mono',consolas,'Courier New',monospace\"><span style=\"font-weight: bold\">Reranking</span>\n",
       "</pre>\n"
      ],
      "text/plain": [
       "\u001b[1mReranking\u001b[0m\n"
      ]
     },
     "metadata": {},
     "output_type": "display_data"
    },
    {
     "data": {
      "text/html": [
       "<pre style=\"white-space:pre;overflow-x:auto;line-height:normal;font-family:Menlo,'DejaVu Sans Mono',consolas,'Courier New',monospace\">    - WikipediaRerankingMultilingual, <span style=\"color: #626262; text-decoration-color: #626262; font-style: italic\">s2p</span>, <span style=\"color: #800000; text-decoration-color: #800000; font-style: italic\">multilingual </span><span style=\"color: #800000; text-decoration-color: #800000; font-weight: bold; font-style: italic\">1</span><span style=\"color: #800000; text-decoration-color: #800000; font-style: italic\"> / </span><span style=\"color: #800000; text-decoration-color: #800000; font-weight: bold; font-style: italic\">16</span><span style=\"color: #800000; text-decoration-color: #800000; font-style: italic\"> Subsets</span>\n",
       "</pre>\n"
      ],
      "text/plain": [
       "    - WikipediaRerankingMultilingual, \u001b[3;38;5;241ms2p\u001b[0m, \u001b[3;31mmultilingual \u001b[0m\u001b[1;3;31m1\u001b[0m\u001b[3;31m \u001b[0m\u001b[3;31m/\u001b[0m\u001b[3;31m \u001b[0m\u001b[1;3;31m16\u001b[0m\u001b[3;31m Subsets\u001b[0m\n"
      ]
     },
     "metadata": {},
     "output_type": "display_data"
    },
    {
     "data": {
      "text/html": [
       "<pre style=\"white-space:pre;overflow-x:auto;line-height:normal;font-family:Menlo,'DejaVu Sans Mono',consolas,'Courier New',monospace\">\n",
       "\n",
       "</pre>\n"
      ],
      "text/plain": [
       "\n",
       "\n"
      ]
     },
     "metadata": {},
     "output_type": "display_data"
    },
    {
     "data": {
      "text/html": [
       "<pre style=\"white-space:pre;overflow-x:auto;line-height:normal;font-family:Menlo,'DejaVu Sans Mono',consolas,'Courier New',monospace\"><span style=\"font-weight: bold\">Retrieval</span>\n",
       "</pre>\n"
      ],
      "text/plain": [
       "\u001b[1mRetrieval\u001b[0m\n"
      ]
     },
     "metadata": {},
     "output_type": "display_data"
    },
    {
     "data": {
      "text/html": [
       "<pre style=\"white-space:pre;overflow-x:auto;line-height:normal;font-family:Menlo,'DejaVu Sans Mono',consolas,'Courier New',monospace\">    - DanFeverRetrieval, <span style=\"color: #626262; text-decoration-color: #626262; font-style: italic\">p2p</span>\n",
       "</pre>\n"
      ],
      "text/plain": [
       "    - DanFeverRetrieval, \u001b[3;38;5;241mp2p\u001b[0m\n"
      ]
     },
     "metadata": {},
     "output_type": "display_data"
    },
    {
     "data": {
      "text/html": [
       "<pre style=\"white-space:pre;overflow-x:auto;line-height:normal;font-family:Menlo,'DejaVu Sans Mono',consolas,'Courier New',monospace\">\n",
       "\n",
       "</pre>\n"
      ],
      "text/plain": [
       "\n",
       "\n"
      ]
     },
     "metadata": {},
     "output_type": "display_data"
    }
   ],
   "source": [
    "# we can now run the benchmark\n",
    "evaluator = mteb.MTEB(tasks=benchmark)\n",
    "\n",
    "model = mteb.get_model(\"sentence-transformers/all-MiniLM-L6-v2\")\n",
    "results = evaluator.run(model)"
   ]
  },
  {
   "cell_type": "markdown",
   "metadata": {},
   "source": [
    "## Aggregating Scores across Benchmark\n"
   ]
  },
  {
   "cell_type": "code",
   "execution_count": 29,
   "metadata": {},
   "outputs": [
    {
     "name": "stdout",
     "output_type": "stream",
     "text": [
      "Already up to date.\n"
     ]
    },
    {
     "name": "stderr",
     "output_type": "stream",
     "text": [
      "WARNING:mteb.load_results.load_results:Validation failed for SIB200ClusteringS2S in intfloat/e5-mistral-7b-instruct 07163b72af1488142a360786df853f237b1a3ca1: Missing subsets {'kac_Latn', 'bug_Latn', 'lit_Latn', 'som_Latn', 'jpn_Jpan', 'srd_Latn', 'mal_Mlym', 'hrv_Latn', 'luo_Latn', 'dik_Latn', 'ita_Latn', 'ell_Grek', 'zho_Hant', 'ary_Arab', 'est_Latn', 'hun_Latn', 'sin_Sinh', 'hye_Armn', 'ltg_Latn', 'fij_Latn', 'hin_Deva', 'nqo_Nkoo', 'tpi_Latn', 'yor_Latn', 'ben_Beng', 'szl_Latn', 'amh_Ethi', 'bul_Cyrl', 'ron_Latn', 'lmo_Latn', 'sag_Latn', 'ilo_Latn', 'mar_Deva', 'epo_Latn', 'kat_Geor', 'snd_Arab', 'san_Deva', 'hau_Latn', 'tgl_Latn', 'khk_Cyrl', 'mni_Beng', 'fra_Latn', 'kaz_Cyrl', 'gaz_Latn', 'scn_Latn', 'min_Latn', 'ace_Latn', 'ajp_Arab', 'urd_Arab', 'tam_Taml', 'run_Latn', 'ban_Latn', 'fuv_Latn', 'bel_Cyrl', 'srp_Cyrl', 'hne_Deva', 'dyu_Latn', 'kir_Cyrl', 'bem_Latn', 'bod_Tibt', 'tha_Thai', 'pap_Latn', 'tso_Latn', 'ydd_Hebr', 'tgk_Cyrl', 'umb_Latn', 'lug_Latn', 'lao_Laoo', 'nob_Latn', 'lim_Latn', 'nno_Latn', 'ast_Latn', 'tzm_Tfng', 'cym_Latn', 'ind_Latn', 'ibo_Latn', 'jav_Latn', 'lvs_Latn', 'npi_Deva', 'pes_Arab', 'fin_Latn', 'lus_Latn', 'sun_Latn', 'tuk_Latn', 'ars_Arab', 'fur_Latn', 'lua_Latn', 'bak_Cyrl', 'kin_Latn', 'spa_Latn', 'fao_Latn', 'kor_Hang', 'twi_Latn', 'war_Latn', 'arb_Latn', 'azb_Arab', 'kas_Deva', 'xho_Latn', 'aeb_Arab', 'guj_Gujr', 'apc_Arab', 'grn_Latn', 'aka_Latn', 'mya_Mymr', 'kab_Latn', 'nso_Latn', 'yue_Hant', 'bam_Latn', 'bho_Deva', 'slv_Latn', 'slk_Latn', 'kbp_Latn', 'kam_Latn', 'taq_Tfng', 'knc_Latn', 'dan_Latn', 'ewe_Latn', 'uig_Arab', 'eus_Latn', 'ory_Orya', 'vie_Latn', 'sot_Latn', 'lij_Latn', 'tur_Latn', 'cat_Latn', 'kmb_Latn', 'kmr_Latn', 'awa_Deva', 'nus_Latn', 'ceb_Latn', 'sat_Olck', 'smo_Latn', 'heb_Hebr', 'crh_Latn', 'bjn_Latn', 'acq_Arab', 'mai_Deva', 'ltz_Latn', 'bos_Latn', 'glg_Latn', 'lin_Latn', 'plt_Latn', 'por_Latn', 'nya_Latn', 'asm_Beng', 'swe_Latn', 'ayr_Latn', 'gle_Latn', 'oci_Latn', 'pol_Latn', 'arz_Arab', 'tel_Telu', 'azj_Latn', 'ssw_Latn', 'tum_Latn', 'zsm_Latn', 'vec_Latn', 'mri_Latn', 'quy_Latn', 'als_Latn', 'shn_Mymr', 'wol_Latn', 'kan_Knda', 'isl_Latn', 'khm_Khmr', 'nld_Latn', 'pan_Guru', 'cjk_Latn', 'fon_Latn', 'tir_Ethi', 'ces_Latn', 'kik_Latn', 'kea_Latn', 'kon_Latn', 'deu_Latn', 'eng_Latn', 'sna_Latn', 'tat_Cyrl', 'pbt_Arab', 'prs_Arab', 'ckb_Arab', 'uzn_Latn', 'gla_Latn', 'acm_Arab', 'dzo_Tibt', 'mos_Latn', 'zul_Latn', 'hat_Latn', 'afr_Latn', 'mag_Deva', 'tsn_Latn', 'ukr_Cyrl', 'swh_Latn', 'mkd_Cyrl', 'pag_Latn', 'mlt_Latn'} for split test\n"
     ]
    }
   ],
   "source": [
    "# load task results for the specified models from mteb/results repository\n",
    "mteb_results = mteb.load_results(models=models, tasks=benchmark)"
   ]
  },
  {
   "cell_type": "code",
   "execution_count": 64,
   "metadata": {},
   "outputs": [
    {
     "name": "stderr",
     "output_type": "stream",
     "text": [
      "WARNING:mteb.task_aggregation:Model intfloat/e5-mistral-7b-instruct revision 07163b72af1488142a360786df853f237b1a3ca1 has missing scores for some tasks\n",
      "WARNING:mteb.task_aggregation:Model GritLM/GritLM-7B revision 13f00a0e36500c80ce12870ea513846a066004af has missing scores for some tasks\n"
     ]
    },
    {
     "name": "stderr",
     "output_type": "stream",
     "text": [
      "WARNING:mteb.task_aggregation:Model intfloat/e5-mistral-7b-instruct revision 07163b72af1488142a360786df853f237b1a3ca1 has missing scores for some tasks of type Classification\n",
      "WARNING:mteb.task_aggregation:Model intfloat/e5-mistral-7b-instruct revision 07163b72af1488142a360786df853f237b1a3ca1 has missing scores for some tasks of type Reranking\n",
      "WARNING:mteb.task_aggregation:Model intfloat/e5-mistral-7b-instruct revision 07163b72af1488142a360786df853f237b1a3ca1 has missing scores for some tasks of type BitextMining\n",
      "WARNING:mteb.task_aggregation:Model intfloat/e5-mistral-7b-instruct revision 07163b72af1488142a360786df853f237b1a3ca1 has missing scores for some tasks of type Clustering\n",
      "WARNING:mteb.task_aggregation:Model intfloat/e5-mistral-7b-instruct revision 07163b72af1488142a360786df853f237b1a3ca1 has missing scores for some tasks of type Retrieval\n",
      "WARNING:mteb.task_aggregation:Model GritLM/GritLM-7B revision 13f00a0e36500c80ce12870ea513846a066004af has missing scores for some tasks of type Classification\n",
      "WARNING:mteb.task_aggregation:Model GritLM/GritLM-7B revision 13f00a0e36500c80ce12870ea513846a066004af has missing scores for some tasks of type Reranking\n",
      "WARNING:mteb.task_aggregation:Model GritLM/GritLM-7B revision 13f00a0e36500c80ce12870ea513846a066004af has missing scores for some tasks of type BitextMining\n",
      "WARNING:mteb.task_aggregation:Model GritLM/GritLM-7B revision 13f00a0e36500c80ce12870ea513846a066004af has missing scores for some tasks of type Clustering\n",
      "WARNING:mteb.task_aggregation:Model GritLM/GritLM-7B revision 13f00a0e36500c80ce12870ea513846a066004af has missing scores for some tasks of type Retrieval\n"
     ]
    }
   ],
   "source": [
    "import mteb.task_aggregation as task_aggregation\n",
    "\n",
    "mean = task_aggregation.mean(mteb_results)\n",
    "weighted_mean = task_aggregation.task_category_weighted_mean(mteb_results)\n",
    "borda = task_aggregation.borda_count(mteb_results)"
   ]
  },
  {
   "cell_type": "code",
   "execution_count": 65,
   "metadata": {},
   "outputs": [
    {
     "data": {
      "text/html": [
       "<div>\n",
       "<style scoped>\n",
       "    .dataframe tbody tr th:only-of-type {\n",
       "        vertical-align: middle;\n",
       "    }\n",
       "\n",
       "    .dataframe tbody tr th {\n",
       "        vertical-align: top;\n",
       "    }\n",
       "\n",
       "    .dataframe thead th {\n",
       "        text-align: right;\n",
       "    }\n",
       "</style>\n",
       "<table border=\"1\" class=\"dataframe\">\n",
       "  <thead>\n",
       "    <tr style=\"text-align: right;\">\n",
       "      <th></th>\n",
       "      <th>model</th>\n",
       "      <th>revision</th>\n",
       "      <th>mean</th>\n",
       "      <th>weighted_mean</th>\n",
       "      <th>borda_count</th>\n",
       "    </tr>\n",
       "  </thead>\n",
       "  <tbody>\n",
       "    <tr>\n",
       "      <th>5</th>\n",
       "      <td>intfloat/multilingual-e5-large-instruct</td>\n",
       "      <td>baa7be480a7de1539afce709c8f13f833a510e0a</td>\n",
       "      <td>0.631669</td>\n",
       "      <td>0.611051</td>\n",
       "      <td>64.0</td>\n",
       "    </tr>\n",
       "    <tr>\n",
       "      <th>9</th>\n",
       "      <td>intfloat/multilingual-e5-large</td>\n",
       "      <td>4dc6d853a804b9c8886ede6dda8a073b7dc08a81</td>\n",
       "      <td>0.536125</td>\n",
       "      <td>0.505508</td>\n",
       "      <td>55.0</td>\n",
       "    </tr>\n",
       "    <tr>\n",
       "      <th>6</th>\n",
       "      <td>intfloat/multilingual-e5-small</td>\n",
       "      <td>e4ce9877abf3edfe10b0d82785e83bdcb973e22e</td>\n",
       "      <td>0.526768</td>\n",
       "      <td>0.503706</td>\n",
       "      <td>50.0</td>\n",
       "    </tr>\n",
       "    <tr>\n",
       "      <th>10</th>\n",
       "      <td>intfloat/multilingual-e5-base</td>\n",
       "      <td>d13f1b27baf31030b7fd040960d60d909913633f</td>\n",
       "      <td>0.525225</td>\n",
       "      <td>0.498132</td>\n",
       "      <td>50.0</td>\n",
       "    </tr>\n",
       "    <tr>\n",
       "      <th>11</th>\n",
       "      <td>sentence-transformers/paraphrase-multilingual-...</td>\n",
       "      <td>79f2382ceacceacdf38563d7c5d16b9ff8d725d6</td>\n",
       "      <td>0.430674</td>\n",
       "      <td>0.420396</td>\n",
       "      <td>36.0</td>\n",
       "    </tr>\n",
       "    <tr>\n",
       "      <th>0</th>\n",
       "      <td>sentence-transformers/LaBSE</td>\n",
       "      <td>e34fab64a3011d2176c99545a93d5cbddc9a91b7</td>\n",
       "      <td>0.443979</td>\n",
       "      <td>0.446280</td>\n",
       "      <td>34.0</td>\n",
       "    </tr>\n",
       "    <tr>\n",
       "      <th>8</th>\n",
       "      <td>sentence-transformers/paraphrase-multilingual-...</td>\n",
       "      <td>bf3bf13ab40c3157080a7ab344c831b9ad18b5eb</td>\n",
       "      <td>0.413172</td>\n",
       "      <td>0.402389</td>\n",
       "      <td>29.0</td>\n",
       "    </tr>\n",
       "    <tr>\n",
       "      <th>4</th>\n",
       "      <td>sentence-transformers/all-MiniLM-L12-v2</td>\n",
       "      <td>a05860a77cef7b37e0048a7864658139bc18a854</td>\n",
       "      <td>0.399563</td>\n",
       "      <td>0.382440</td>\n",
       "      <td>28.0</td>\n",
       "    </tr>\n",
       "    <tr>\n",
       "      <th>2</th>\n",
       "      <td>sentence-transformers/all-mpnet-base-v2</td>\n",
       "      <td>84f2bcc00d77236f9e89c8a360a00fb1139bf47d</td>\n",
       "      <td>0.372704</td>\n",
       "      <td>0.352972</td>\n",
       "      <td>22.0</td>\n",
       "    </tr>\n",
       "    <tr>\n",
       "      <th>7</th>\n",
       "      <td>sentence-transformers/all-MiniLM-L6-v2</td>\n",
       "      <td>8b3219a92973c328a8e22fadcfa821b5dc75636a</td>\n",
       "      <td>0.377550</td>\n",
       "      <td>0.355880</td>\n",
       "      <td>22.0</td>\n",
       "    </tr>\n",
       "    <tr>\n",
       "      <th>1</th>\n",
       "      <td>intfloat/e5-mistral-7b-instruct</td>\n",
       "      <td>07163b72af1488142a360786df853f237b1a3ca1</td>\n",
       "      <td>NaN</td>\n",
       "      <td>NaN</td>\n",
       "      <td>0.0</td>\n",
       "    </tr>\n",
       "    <tr>\n",
       "      <th>3</th>\n",
       "      <td>GritLM/GritLM-7B</td>\n",
       "      <td>13f00a0e36500c80ce12870ea513846a066004af</td>\n",
       "      <td>NaN</td>\n",
       "      <td>NaN</td>\n",
       "      <td>0.0</td>\n",
       "    </tr>\n",
       "  </tbody>\n",
       "</table>\n",
       "</div>"
      ],
      "text/plain": [
       "                                                model  \\\n",
       "5             intfloat/multilingual-e5-large-instruct   \n",
       "9                      intfloat/multilingual-e5-large   \n",
       "6                      intfloat/multilingual-e5-small   \n",
       "10                      intfloat/multilingual-e5-base   \n",
       "11  sentence-transformers/paraphrase-multilingual-...   \n",
       "0                         sentence-transformers/LaBSE   \n",
       "8   sentence-transformers/paraphrase-multilingual-...   \n",
       "4             sentence-transformers/all-MiniLM-L12-v2   \n",
       "2             sentence-transformers/all-mpnet-base-v2   \n",
       "7              sentence-transformers/all-MiniLM-L6-v2   \n",
       "1                     intfloat/e5-mistral-7b-instruct   \n",
       "3                                    GritLM/GritLM-7B   \n",
       "\n",
       "                                    revision      mean  weighted_mean  \\\n",
       "5   baa7be480a7de1539afce709c8f13f833a510e0a  0.631669       0.611051   \n",
       "9   4dc6d853a804b9c8886ede6dda8a073b7dc08a81  0.536125       0.505508   \n",
       "6   e4ce9877abf3edfe10b0d82785e83bdcb973e22e  0.526768       0.503706   \n",
       "10  d13f1b27baf31030b7fd040960d60d909913633f  0.525225       0.498132   \n",
       "11  79f2382ceacceacdf38563d7c5d16b9ff8d725d6  0.430674       0.420396   \n",
       "0   e34fab64a3011d2176c99545a93d5cbddc9a91b7  0.443979       0.446280   \n",
       "8   bf3bf13ab40c3157080a7ab344c831b9ad18b5eb  0.413172       0.402389   \n",
       "4   a05860a77cef7b37e0048a7864658139bc18a854  0.399563       0.382440   \n",
       "2   84f2bcc00d77236f9e89c8a360a00fb1139bf47d  0.372704       0.352972   \n",
       "7   8b3219a92973c328a8e22fadcfa821b5dc75636a  0.377550       0.355880   \n",
       "1   07163b72af1488142a360786df853f237b1a3ca1       NaN            NaN   \n",
       "3   13f00a0e36500c80ce12870ea513846a066004af       NaN            NaN   \n",
       "\n",
       "    borda_count  \n",
       "5          64.0  \n",
       "9          55.0  \n",
       "6          50.0  \n",
       "10         50.0  \n",
       "11         36.0  \n",
       "0          34.0  \n",
       "8          29.0  \n",
       "4          28.0  \n",
       "2          22.0  \n",
       "7          22.0  \n",
       "1           0.0  \n",
       "3           0.0  "
      ]
     },
     "execution_count": 65,
     "metadata": {},
     "output_type": "execute_result"
    }
   ],
   "source": [
    "import pandas as pd\n",
    "\n",
    "data = []\n",
    "for model_name, revisions in borda.items():\n",
    "    for rev, avg_score in revisions.items():\n",
    "        data.append(\n",
    "            {\n",
    "                \"model\": model_name,\n",
    "                \"revision\": rev,\n",
    "                \"mean\": mean[model_name][rev],\n",
    "                \"weighted_mean\": weighted_mean[model_name][rev],\n",
    "                \"borda_count\": avg_score,\n",
    "            }\n",
    "        )\n",
    "\n",
    "df = pd.DataFrame(data)\n",
    "df.sort_values(\"borda_count\", ascending=False)"
   ]
  }
 ],
 "metadata": {
  "kernelspec": {
   "display_name": "mteb",
   "language": "python",
   "name": "python3"
  },
  "language_info": {
   "codemirror_mode": {
    "name": "ipython",
    "version": 3
   },
   "file_extension": ".py",
   "mimetype": "text/x-python",
   "name": "python",
   "nbconvert_exporter": "python",
   "pygments_lexer": "ipython3",
   "version": "3.8.19"
  }
 },
 "nbformat": 4,
 "nbformat_minor": 2
}
