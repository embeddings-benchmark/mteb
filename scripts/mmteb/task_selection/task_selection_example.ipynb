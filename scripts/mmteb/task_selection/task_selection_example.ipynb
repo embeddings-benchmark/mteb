{
 "cells": [
  {
   "cell_type": "markdown",
   "metadata": {},
   "source": [
    "# Task Selection: An Example\n",
    "\n",
    "This is an example of how to perform task selection using MTEB when creating a benchmark. The goal here is to subsample a potentially large number of tasks down to the one with the most information. We do this as a feature selection approach, where we remove a task if its performance if predictable by the performance of other tasks. See the paper for more information.\n",
    "\n",
    "For this example we will be using Danish (dan) as it has relatively few tasks, but there is not reason to limit to only Danish tasks."
   ]
  },
  {
   "cell_type": "code",
   "execution_count": 1,
   "metadata": {},
   "outputs": [
    {
     "name": "stderr",
     "output_type": "stream",
     "text": [
      "/Users/au561649/.virtualenvs/mteb/lib/python3.8/site-packages/tqdm/auto.py:21: TqdmWarning: IProgress not found. Please update jupyter and ipywidgets. See https://ipywidgets.readthedocs.io/en/stable/user_install.html\n",
      "  from .autonotebook import tqdm as notebook_tqdm\n"
     ]
    },
    {
     "ename": "TypeError",
     "evalue": "module() takes at most 2 arguments (3 given)",
     "output_type": "error",
     "traceback": [
      "\u001b[0;31m---------------------------------------------------------------------------\u001b[0m",
      "\u001b[0;31mTypeError\u001b[0m                                 Traceback (most recent call last)",
      "Cell \u001b[0;32mIn[1], line 2\u001b[0m\n\u001b[1;32m      1\u001b[0m \u001b[38;5;28;01mfrom\u001b[39;00m \u001b[38;5;21;01m__future__\u001b[39;00m \u001b[38;5;28;01mimport\u001b[39;00m annotations\n\u001b[0;32m----> 2\u001b[0m \u001b[38;5;28;01mimport\u001b[39;00m \u001b[38;5;21;01mmteb\u001b[39;00m\n\u001b[1;32m      4\u001b[0m \u001b[38;5;28mprint\u001b[39m(mteb\u001b[38;5;241m.\u001b[39m__version__)\n",
      "File \u001b[0;32m~/Github/mteb/mteb/__init__.py:5\u001b[0m\n\u001b[1;32m      1\u001b[0m \u001b[38;5;28;01mfrom\u001b[39;00m \u001b[38;5;21;01m__future__\u001b[39;00m \u001b[38;5;28;01mimport\u001b[39;00m annotations\n\u001b[1;32m      3\u001b[0m \u001b[38;5;28;01mfrom\u001b[39;00m \u001b[38;5;21;01mimportlib\u001b[39;00m\u001b[38;5;21;01m.\u001b[39;00m\u001b[38;5;21;01mmetadata\u001b[39;00m \u001b[38;5;28;01mimport\u001b[39;00m version\n\u001b[0;32m----> 5\u001b[0m \u001b[38;5;28;01mfrom\u001b[39;00m \u001b[38;5;21;01mmteb\u001b[39;00m\u001b[38;5;21;01m.\u001b[39;00m\u001b[38;5;21;01mbenchmarks\u001b[39;00m \u001b[38;5;28;01mimport\u001b[39;00m (\n\u001b[1;32m      6\u001b[0m     MTEB_MAIN_EN,\n\u001b[1;32m      7\u001b[0m     MTEB_MAIN_RU,\n\u001b[1;32m      8\u001b[0m     MTEB_RETRIEVAL_LAW,\n\u001b[1;32m      9\u001b[0m     MTEB_RETRIEVAL_WITH_INSTRUCTIONS,\n\u001b[1;32m     10\u001b[0m )\n\u001b[1;32m     11\u001b[0m \u001b[38;5;28;01mfrom\u001b[39;00m \u001b[38;5;21;01mmteb\u001b[39;00m\u001b[38;5;21;01m.\u001b[39;00m\u001b[38;5;21;01mevaluation\u001b[39;00m \u001b[38;5;28;01mimport\u001b[39;00m \u001b[38;5;241m*\u001b[39m\n\u001b[1;32m     12\u001b[0m \u001b[38;5;28;01mfrom\u001b[39;00m \u001b[38;5;21;01mmteb\u001b[39;00m\u001b[38;5;21;01m.\u001b[39;00m\u001b[38;5;21;01mload_results\u001b[39;00m \u001b[38;5;28;01mimport\u001b[39;00m load_results\n",
      "File \u001b[0;32m~/Github/mteb/mteb/benchmarks.py:5\u001b[0m\n\u001b[1;32m      1\u001b[0m \u001b[38;5;28;01mfrom\u001b[39;00m \u001b[38;5;21;01m__future__\u001b[39;00m \u001b[38;5;28;01mimport\u001b[39;00m annotations\n\u001b[1;32m      3\u001b[0m \u001b[38;5;28;01mfrom\u001b[39;00m \u001b[38;5;21;01mdataclasses\u001b[39;00m \u001b[38;5;28;01mimport\u001b[39;00m dataclass\n\u001b[0;32m----> 5\u001b[0m \u001b[38;5;28;01mfrom\u001b[39;00m \u001b[38;5;21;01mmteb\u001b[39;00m\u001b[38;5;21;01m.\u001b[39;00m\u001b[38;5;21;01mabstasks\u001b[39;00m\u001b[38;5;21;01m.\u001b[39;00m\u001b[38;5;21;01mAbsTask\u001b[39;00m \u001b[38;5;28;01mimport\u001b[39;00m AbsTask\n\u001b[1;32m      8\u001b[0m \u001b[38;5;129m@dataclass\u001b[39m\n\u001b[1;32m      9\u001b[0m \u001b[38;5;28;01mclass\u001b[39;00m \u001b[38;5;21;01mBenchmark\u001b[39;00m:\n\u001b[1;32m     10\u001b[0m     name: \u001b[38;5;28mstr\u001b[39m\n",
      "File \u001b[0;32m~/Github/mteb/mteb/abstasks/__init__.py:3\u001b[0m\n\u001b[1;32m      1\u001b[0m \u001b[38;5;28;01mfrom\u001b[39;00m \u001b[38;5;21;01m__future__\u001b[39;00m \u001b[38;5;28;01mimport\u001b[39;00m annotations\n\u001b[0;32m----> 3\u001b[0m \u001b[38;5;28;01mfrom\u001b[39;00m \u001b[38;5;21;01m.\u001b[39;00m\u001b[38;5;21;01m.\u001b[39;00m\u001b[38;5;21;01mevaluation\u001b[39;00m\u001b[38;5;21;01m.\u001b[39;00m\u001b[38;5;21;01mLangMapping\u001b[39;00m \u001b[38;5;28;01mimport\u001b[39;00m \u001b[38;5;241m*\u001b[39m\n\u001b[1;32m      4\u001b[0m \u001b[38;5;28;01mfrom\u001b[39;00m \u001b[38;5;21;01m.\u001b[39;00m\u001b[38;5;21;01mAbsTask\u001b[39;00m \u001b[38;5;28;01mimport\u001b[39;00m \u001b[38;5;241m*\u001b[39m\n\u001b[1;32m      5\u001b[0m \u001b[38;5;28;01mfrom\u001b[39;00m \u001b[38;5;21;01m.\u001b[39;00m\u001b[38;5;21;01mAbsTaskBitextMining\u001b[39;00m \u001b[38;5;28;01mimport\u001b[39;00m \u001b[38;5;241m*\u001b[39m\n",
      "File \u001b[0;32m~/Github/mteb/mteb/evaluation/__init__.py:3\u001b[0m\n\u001b[1;32m      1\u001b[0m \u001b[38;5;28;01mfrom\u001b[39;00m \u001b[38;5;21;01m__future__\u001b[39;00m \u001b[38;5;28;01mimport\u001b[39;00m annotations\n\u001b[0;32m----> 3\u001b[0m \u001b[38;5;28;01mfrom\u001b[39;00m \u001b[38;5;21;01m.\u001b[39;00m\u001b[38;5;21;01mMTEB\u001b[39;00m \u001b[38;5;28;01mimport\u001b[39;00m \u001b[38;5;241m*\u001b[39m\n",
      "File \u001b[0;32m~/Github/mteb/mteb/evaluation/MTEB.py:23\u001b[0m\n\u001b[1;32m     21\u001b[0m \u001b[38;5;28;01mfrom\u001b[39;00m \u001b[38;5;21;01m.\u001b[39;00m\u001b[38;5;21;01m.\u001b[39;00m\u001b[38;5;21;01mabstasks\u001b[39;00m \u001b[38;5;28;01mimport\u001b[39;00m AbsTask\n\u001b[1;32m     22\u001b[0m \u001b[38;5;28;01mfrom\u001b[39;00m \u001b[38;5;21;01m.\u001b[39;00m\u001b[38;5;21;01m.\u001b[39;00m\u001b[38;5;21;01mload_results\u001b[39;00m\u001b[38;5;21;01m.\u001b[39;00m\u001b[38;5;21;01mmteb_results\u001b[39;00m \u001b[38;5;28;01mimport\u001b[39;00m MTEBResults\n\u001b[0;32m---> 23\u001b[0m \u001b[38;5;28;01mfrom\u001b[39;00m \u001b[38;5;21;01m.\u001b[39;00m\u001b[38;5;21;01m.\u001b[39;00m\u001b[38;5;21;01mtasks\u001b[39;00m \u001b[38;5;28;01mimport\u001b[39;00m \u001b[38;5;241m*\u001b[39m\n\u001b[1;32m     24\u001b[0m \u001b[38;5;28;01mfrom\u001b[39;00m \u001b[38;5;21;01m.\u001b[39;00m \u001b[38;5;28;01mimport\u001b[39;00m LangMapping\n\u001b[1;32m     26\u001b[0m logger \u001b[38;5;241m=\u001b[39m logging\u001b[38;5;241m.\u001b[39mgetLogger(\u001b[38;5;18m__name__\u001b[39m)\n",
      "File \u001b[0;32m~/Github/mteb/mteb/tasks/__init__.py:3\u001b[0m\n\u001b[1;32m      1\u001b[0m \u001b[38;5;28;01mfrom\u001b[39;00m \u001b[38;5;21;01m__future__\u001b[39;00m \u001b[38;5;28;01mimport\u001b[39;00m annotations\n\u001b[0;32m----> 3\u001b[0m \u001b[38;5;28;01mfrom\u001b[39;00m \u001b[38;5;21;01m.\u001b[39;00m\u001b[38;5;21;01mBitextMining\u001b[39;00m \u001b[38;5;28;01mimport\u001b[39;00m \u001b[38;5;241m*\u001b[39m\n\u001b[1;32m      4\u001b[0m \u001b[38;5;28;01mfrom\u001b[39;00m \u001b[38;5;21;01m.\u001b[39;00m\u001b[38;5;21;01mClassification\u001b[39;00m \u001b[38;5;28;01mimport\u001b[39;00m \u001b[38;5;241m*\u001b[39m\n\u001b[1;32m      5\u001b[0m \u001b[38;5;28;01mfrom\u001b[39;00m \u001b[38;5;21;01m.\u001b[39;00m\u001b[38;5;21;01mClustering\u001b[39;00m \u001b[38;5;28;01mimport\u001b[39;00m \u001b[38;5;241m*\u001b[39m\n",
      "File \u001b[0;32m~/Github/mteb/mteb/tasks/BitextMining/__init__.py:3\u001b[0m\n\u001b[1;32m      1\u001b[0m \u001b[38;5;28;01mfrom\u001b[39;00m \u001b[38;5;21;01m__future__\u001b[39;00m \u001b[38;5;28;01mimport\u001b[39;00m annotations\n\u001b[0;32m----> 3\u001b[0m \u001b[38;5;28;01mfrom\u001b[39;00m \u001b[38;5;21;01m.\u001b[39;00m\u001b[38;5;21;01mdan\u001b[39;00m\u001b[38;5;21;01m.\u001b[39;00m\u001b[38;5;21;01mBornholmskBitextMining\u001b[39;00m \u001b[38;5;28;01mimport\u001b[39;00m \u001b[38;5;241m*\u001b[39m\n\u001b[1;32m      4\u001b[0m \u001b[38;5;28;01mfrom\u001b[39;00m \u001b[38;5;21;01m.\u001b[39;00m\u001b[38;5;21;01mkat\u001b[39;00m\u001b[38;5;21;01m.\u001b[39;00m\u001b[38;5;21;01mTbilisiCityHallBitextMining\u001b[39;00m \u001b[38;5;28;01mimport\u001b[39;00m \u001b[38;5;241m*\u001b[39m\n\u001b[1;32m      5\u001b[0m \u001b[38;5;28;01mfrom\u001b[39;00m \u001b[38;5;21;01m.\u001b[39;00m\u001b[38;5;21;01mmultilingual\u001b[39;00m\u001b[38;5;21;01m.\u001b[39;00m\u001b[38;5;21;01mBibleNLPBitextMining\u001b[39;00m \u001b[38;5;28;01mimport\u001b[39;00m \u001b[38;5;241m*\u001b[39m\n",
      "File \u001b[0;32m~/Github/mteb/mteb/tasks/BitextMining/dan/BornholmskBitextMining.py:7\u001b[0m\n\u001b[1;32m      3\u001b[0m \u001b[38;5;28;01mfrom\u001b[39;00m \u001b[38;5;21;01mmteb\u001b[39;00m\u001b[38;5;21;01m.\u001b[39;00m\u001b[38;5;21;01mabstasks\u001b[39;00m \u001b[38;5;28;01mimport\u001b[39;00m AbsTaskBitextMining\n\u001b[1;32m      4\u001b[0m \u001b[38;5;28;01mfrom\u001b[39;00m \u001b[38;5;21;01mmteb\u001b[39;00m\u001b[38;5;21;01m.\u001b[39;00m\u001b[38;5;21;01mabstasks\u001b[39;00m\u001b[38;5;21;01m.\u001b[39;00m\u001b[38;5;21;01mTaskMetadata\u001b[39;00m \u001b[38;5;28;01mimport\u001b[39;00m TaskMetadata\n\u001b[0;32m----> 7\u001b[0m \u001b[38;5;28;01mclass\u001b[39;00m \u001b[38;5;21;01mBornholmBitextMining\u001b[39;00m(AbsTaskBitextMining):\n\u001b[1;32m      8\u001b[0m     metadata \u001b[38;5;241m=\u001b[39m TaskMetadata(\n\u001b[1;32m      9\u001b[0m         name\u001b[38;5;241m=\u001b[39m\u001b[38;5;124m\"\u001b[39m\u001b[38;5;124mBornholmBitextMining\u001b[39m\u001b[38;5;124m\"\u001b[39m,\n\u001b[1;32m     10\u001b[0m         dataset\u001b[38;5;241m=\u001b[39m{\n\u001b[0;32m   (...)\u001b[0m\n\u001b[1;32m     47\u001b[0m         },\n\u001b[1;32m     48\u001b[0m     )\n\u001b[1;32m     50\u001b[0m     \u001b[38;5;28;01mdef\u001b[39;00m \u001b[38;5;21mdataset_transform\u001b[39m(\u001b[38;5;28mself\u001b[39m):\n\u001b[1;32m     51\u001b[0m         \u001b[38;5;66;03m# Convert to standard format\u001b[39;00m\n",
      "\u001b[0;31mTypeError\u001b[0m: module() takes at most 2 arguments (3 given)"
     ]
    }
   ],
   "source": [
    "from __future__ import annotations\n",
    "import mteb\n",
    "\n",
    "print(mteb.__version__)"
   ]
  },
  {
   "cell_type": "markdown",
   "metadata": {},
   "source": [
    "## Loading in data\n",
    "We will start out by loading in the relevant data for the model and tasks of interests."
   ]
  },
  {
   "cell_type": "code",
   "execution_count": null,
   "metadata": {},
   "outputs": [],
   "source": [
    "def get_models():\n",
    "    model_names = [\n",
    "        \"sentence-transformers/all-MiniLM-L6-v2\",\n",
    "        \"sentence-transformers/all-MiniLM-L12-v2\",\n",
    "        \"sentence-transformers/paraphrase-multilingual-MiniLM-L12-v2\",\n",
    "        \"sentence-transformers/paraphrase-multilingual-mpnet-base-v2\",\n",
    "        \"sentence-transformers/all-mpnet-base-v2\",\n",
    "        \"sentence-transformers/LaBSE\",\n",
    "        \"intfloat/multilingual-e5-large-instruct\",\n",
    "        \"intfloat/e5-mistral-7b-instruct\",\n",
    "        \"GritLM/GritLM-7B\",\n",
    "        \"GritLM/GritLM-8x7B\",\n",
    "        \"intfloat/multilingual-e5-small\",\n",
    "        \"intfloat/multilingual-e5-base\",\n",
    "        \"intfloat/multilingual-e5-large\",\n",
    "    ]\n",
    "    models: list[mteb.ModelMeta] = [mteb.get_model_meta(name) for name in model_names]\n",
    "\n",
    "    # get missing revisions - Assuming we are using the latest revision\n",
    "    for model in models:\n",
    "        if model.revision is None:\n",
    "            print(f\"Getting revision for {model.name}\")\n",
    "            encoder = model.load_model()\n",
    "            model.revision = encoder.model_card_data.base_model_revision  # type: ignore\n",
    "\n",
    "    return models\n",
    "\n",
    "\n",
    "models = get_models()\n",
    "\n",
    "danish_tasks = mteb.get_tasks(\n",
    "    languages=[\"dan\"]\n",
    ")  # does not need to language - you can also filter by task types, domains, etc."
   ]
  },
  {
   "cell_type": "code",
   "execution_count": null,
   "metadata": {},
   "outputs": [
    {
     "name": "stdout",
     "output_type": "stream",
     "text": [
      "BornholmBitextMining\n",
      "BibleNLPBitextMining\n",
      "FloresBitextMining\n",
      "NTREXBitextMining\n",
      "Tatoeba\n",
      "AngryTweetsClassification\n",
      "DanishPoliticalCommentsClassification\n",
      "DKHateClassification\n",
      "LccSentimentClassification\n",
      "MassiveIntentClassification\n",
      "MassiveScenarioClassification\n",
      "NordicLangClassification\n",
      "ScalaClassification\n",
      "SIB200Classification\n",
      "DanFeverRetrieval\n",
      "TV2Nordretrieval\n",
      "TwitterHjerneRetrieval\n",
      "BelebeleRetrieval\n",
      "WikipediaRetrievalMultilingual\n",
      "MultiEURLEXMultilabelClassification\n",
      "WikipediaRerankingMultilingual\n",
      "SIB200ClusteringS2S\n",
      "WikiClusteringP2P.v2\n"
     ]
    }
   ],
   "source": [
    "# just to see what tasks we are working with\n",
    "for task in danish_tasks:\n",
    "    print(task.metadata.name)"
   ]
  },
  {
   "cell_type": "code",
   "execution_count": null,
   "metadata": {},
   "outputs": [
    {
     "name": "stdout",
     "output_type": "stream",
     "text": [
      "Already up to date.\n"
     ]
    },
    {
     "ename": "AttributeError",
     "evalue": "module 'mteb' has no attribute 'AbsTask'",
     "output_type": "error",
     "traceback": [
      "\u001b[0;31m---------------------------------------------------------------------------\u001b[0m",
      "\u001b[0;31mAttributeError\u001b[0m                            Traceback (most recent call last)",
      "Cell \u001b[0;32mIn[10], line 2\u001b[0m\n\u001b[1;32m      1\u001b[0m \u001b[38;5;66;03m# load results from mteb/results repository\u001b[39;00m\n\u001b[0;32m----> 2\u001b[0m mteb_results \u001b[38;5;241m=\u001b[39m \u001b[43mmteb\u001b[49m\u001b[38;5;241;43m.\u001b[39;49m\u001b[43mload_results\u001b[49m\u001b[43m(\u001b[49m\u001b[43mmodels\u001b[49m\u001b[38;5;241;43m=\u001b[39;49m\u001b[43mmodels\u001b[49m\u001b[43m,\u001b[49m\u001b[43m \u001b[49m\u001b[43mtasks\u001b[49m\u001b[38;5;241;43m=\u001b[39;49m\u001b[43mdanish_tasks\u001b[49m\u001b[43m)\u001b[49m\n",
      "File \u001b[0;32m~/Github/mteb/mteb/load_results/load_results.py:146\u001b[0m, in \u001b[0;36mload_results\u001b[0;34m(results_repo, download_latest, models, tasks, validate_and_filter, require_model_meta)\u001b[0m\n\u001b[1;32m    144\u001b[0m task_names \u001b[38;5;241m=\u001b[39m \u001b[38;5;28mset\u001b[39m()\n\u001b[1;32m    145\u001b[0m \u001b[38;5;28;01mfor\u001b[39;00m task \u001b[38;5;129;01min\u001b[39;00m tasks:\n\u001b[0;32m--> 146\u001b[0m     \u001b[38;5;28;01mif\u001b[39;00m \u001b[38;5;28misinstance\u001b[39m(task, \u001b[43mmteb\u001b[49m\u001b[38;5;241;43m.\u001b[39;49m\u001b[43mAbsTask\u001b[49m):\n\u001b[1;32m    147\u001b[0m         task_names\u001b[38;5;241m.\u001b[39madd(task\u001b[38;5;241m.\u001b[39mmetadata\u001b[38;5;241m.\u001b[39mname)\n\u001b[1;32m    148\u001b[0m     \u001b[38;5;28;01melse\u001b[39;00m:\n",
      "\u001b[0;31mAttributeError\u001b[0m: module 'mteb' has no attribute 'AbsTask'"
     ]
    }
   ],
   "source": [
    "# load results from mteb/results repository\n",
    "mteb_results = mteb.load_results(models=models, tasks=danish_tasks)"
   ]
  },
  {
   "cell_type": "markdown",
   "metadata": {},
   "source": [
    "## Computing the most predictable task\n",
    "\n",
    "We will start out by constructing a dataframe from the results. Where we will compute the most predictictable task given a model and a set of tasks."
   ]
  },
  {
   "cell_type": "code",
   "execution_count": null,
   "metadata": {},
   "outputs": [
    {
     "ename": "SyntaxError",
     "evalue": "invalid syntax (MassiveScenarioClassification.py, line 84)",
     "output_type": "error",
     "traceback": [
      "Traceback \u001b[0;36m(most recent call last)\u001b[0m:\n",
      "\u001b[0m  File \u001b[1;32m~/.virtualenvs/mteb/lib/python3.8/site-packages/IPython/core/interactiveshell.py:3508\u001b[0m in \u001b[1;35mrun_code\u001b[0m\n    exec(code_obj, self.user_global_ns, self.user_ns)\u001b[0m\n",
      "\u001b[0m  Cell \u001b[1;32mIn[4], line 1\u001b[0m\n    import task_selector\u001b[0m\n",
      "\u001b[0m  File \u001b[1;32m~/Github/mteb/scripts/mmteb/task_selection/task_selector.py:12\u001b[0m\n    import mteb\u001b[0m\n",
      "\u001b[0m  File \u001b[1;32m~/Github/mteb/mteb/__init__.py:11\u001b[0m\n    from mteb.evaluation import *\u001b[0m\n",
      "\u001b[0m  File \u001b[1;32m~/Github/mteb/mteb/evaluation/__init__.py:3\u001b[0m\n    from .MTEB import *\u001b[0m\n",
      "\u001b[0m  File \u001b[1;32m~/Github/mteb/mteb/evaluation/MTEB.py:23\u001b[0m\n    from ..tasks import *\u001b[0m\n",
      "\u001b[0m  File \u001b[1;32m~/Github/mteb/mteb/tasks/__init__.py:4\u001b[0m\n    from .Classification import *\u001b[0m\n",
      "\u001b[0;36m  File \u001b[0;32m~/Github/mteb/mteb/tasks/Classification/__init__.py:82\u001b[0;36m\n\u001b[0;31m    from .multilingual.MassiveScenarioClassification import *\u001b[0;36m\n",
      "\u001b[0;36m  File \u001b[0;32m~/Github/mteb/mteb/tasks/Classification/multilingual/MassiveScenarioClassification.py:84\u001b[0;36m\u001b[0m\n\u001b[0;31m    sample_crea wtion=\"human-translated and localized\",  # with the exception of the English data\u001b[0m\n\u001b[0m                ^\u001b[0m\n\u001b[0;31mSyntaxError\u001b[0m\u001b[0;31m:\u001b[0m invalid syntax\n"
     ]
    }
   ],
   "source": [
    "import task_selector\n",
    "\n",
    "results_df = task_selector.results_to_dataframe(\n",
    "    mteb_results, drop_na=False, languages=[\"dan\"]\n",
    ")"
   ]
  },
  {
   "cell_type": "code",
   "execution_count": 21,
   "metadata": {},
   "outputs": [
    {
     "data": {
      "text/html": [
       "<div>\n",
       "<style scoped>\n",
       "    .dataframe tbody tr th:only-of-type {\n",
       "        vertical-align: middle;\n",
       "    }\n",
       "\n",
       "    .dataframe tbody tr th {\n",
       "        vertical-align: top;\n",
       "    }\n",
       "\n",
       "    .dataframe thead th {\n",
       "        text-align: right;\n",
       "    }\n",
       "</style>\n",
       "<table border=\"1\" class=\"dataframe\">\n",
       "  <thead>\n",
       "    <tr style=\"text-align: right;\">\n",
       "      <th></th>\n",
       "      <th>task</th>\n",
       "      <th>AngryTweetsClassification</th>\n",
       "      <th>BelebeleRetrieval</th>\n",
       "      <th>BibleNLPBitextMining</th>\n",
       "      <th>BornholmBitextMining</th>\n",
       "      <th>DanFeverRetrieval</th>\n",
       "      <th>DanishPoliticalCommentsClassification</th>\n",
       "      <th>FloresBitextMining</th>\n",
       "      <th>LccSentimentClassification</th>\n",
       "      <th>MassiveIntentClassification</th>\n",
       "      <th>MassiveScenarioClassification</th>\n",
       "      <th>...</th>\n",
       "      <th>NordicLangClassification</th>\n",
       "      <th>SIB200Classification</th>\n",
       "      <th>SIB200ClusteringS2S</th>\n",
       "      <th>ScalaClassification</th>\n",
       "      <th>TV2Nordretrieval</th>\n",
       "      <th>Tatoeba</th>\n",
       "      <th>TwitterHjerneRetrieval</th>\n",
       "      <th>WikiClusteringP2P.v2</th>\n",
       "      <th>WikipediaRerankingMultilingual</th>\n",
       "      <th>WikipediaRetrievalMultilingual</th>\n",
       "    </tr>\n",
       "    <tr>\n",
       "      <th>model</th>\n",
       "      <th>revision</th>\n",
       "      <th></th>\n",
       "      <th></th>\n",
       "      <th></th>\n",
       "      <th></th>\n",
       "      <th></th>\n",
       "      <th></th>\n",
       "      <th></th>\n",
       "      <th></th>\n",
       "      <th></th>\n",
       "      <th></th>\n",
       "      <th></th>\n",
       "      <th></th>\n",
       "      <th></th>\n",
       "      <th></th>\n",
       "      <th></th>\n",
       "      <th></th>\n",
       "      <th></th>\n",
       "      <th></th>\n",
       "      <th></th>\n",
       "      <th></th>\n",
       "      <th></th>\n",
       "    </tr>\n",
       "  </thead>\n",
       "  <tbody>\n",
       "    <tr>\n",
       "      <th>intfloat/multilingual-e5-base</th>\n",
       "      <th>d13f1b27baf31030b7fd040960d60d909913633f</th>\n",
       "      <td>0.562846</td>\n",
       "      <td>0.907317</td>\n",
       "      <td>0.949219</td>\n",
       "      <td>0.332181</td>\n",
       "      <td>0.40416</td>\n",
       "      <td>0.364127</td>\n",
       "      <td>0.822655</td>\n",
       "      <td>0.601333</td>\n",
       "      <td>0.606893</td>\n",
       "      <td>0.679691</td>\n",
       "      <td>...</td>\n",
       "      <td>0.758533</td>\n",
       "      <td>0.756863</td>\n",
       "      <td>0.411994</td>\n",
       "      <td>0.509961</td>\n",
       "      <td>0.92682</td>\n",
       "      <td>0.912300</td>\n",
       "      <td>0.42163</td>\n",
       "      <td>0.203832</td>\n",
       "      <td>0.897135</td>\n",
       "      <td>0.90878</td>\n",
       "    </tr>\n",
       "    <tr>\n",
       "      <th>intfloat/multilingual-e5-large</th>\n",
       "      <th>4dc6d853a804b9c8886ede6dda8a073b7dc08a81</th>\n",
       "      <td>0.576886</td>\n",
       "      <td>0.946187</td>\n",
       "      <td>0.976562</td>\n",
       "      <td>0.296079</td>\n",
       "      <td>0.40868</td>\n",
       "      <td>0.394338</td>\n",
       "      <td>0.826064</td>\n",
       "      <td>0.615333</td>\n",
       "      <td>0.636954</td>\n",
       "      <td>0.711836</td>\n",
       "      <td>...</td>\n",
       "      <td>0.801533</td>\n",
       "      <td>0.782353</td>\n",
       "      <td>0.465025</td>\n",
       "      <td>0.516162</td>\n",
       "      <td>0.95369</td>\n",
       "      <td>0.950800</td>\n",
       "      <td>0.35219</td>\n",
       "      <td>0.206153</td>\n",
       "      <td>0.912693</td>\n",
       "      <td>0.92426</td>\n",
       "    </tr>\n",
       "    <tr>\n",
       "      <th>intfloat/multilingual-e5-large-instruct</th>\n",
       "      <th>baa7be480a7de1539afce709c8f13f833a510e0a</th>\n",
       "      <td>0.645081</td>\n",
       "      <td>0.923867</td>\n",
       "      <td>0.992188</td>\n",
       "      <td>0.552233</td>\n",
       "      <td>0.40513</td>\n",
       "      <td>0.448807</td>\n",
       "      <td>0.929799</td>\n",
       "      <td>0.708000</td>\n",
       "      <td>0.718527</td>\n",
       "      <td>0.774748</td>\n",
       "      <td>...</td>\n",
       "      <td>0.824433</td>\n",
       "      <td>0.828431</td>\n",
       "      <td>0.586632</td>\n",
       "      <td>0.507129</td>\n",
       "      <td>0.93690</td>\n",
       "      <td>0.955333</td>\n",
       "      <td>0.77233</td>\n",
       "      <td>0.242545</td>\n",
       "      <td>0.900087</td>\n",
       "      <td>0.90626</td>\n",
       "    </tr>\n",
       "    <tr>\n",
       "      <th>intfloat/multilingual-e5-small</th>\n",
       "      <th>e4ce9877abf3edfe10b0d82785e83bdcb973e22e</th>\n",
       "      <td>0.562655</td>\n",
       "      <td>0.854937</td>\n",
       "      <td>0.839258</td>\n",
       "      <td>0.371457</td>\n",
       "      <td>0.39601</td>\n",
       "      <td>0.348182</td>\n",
       "      <td>0.762986</td>\n",
       "      <td>0.586000</td>\n",
       "      <td>0.561197</td>\n",
       "      <td>0.640282</td>\n",
       "      <td>...</td>\n",
       "      <td>0.721500</td>\n",
       "      <td>0.747059</td>\n",
       "      <td>0.386207</td>\n",
       "      <td>0.508008</td>\n",
       "      <td>0.90379</td>\n",
       "      <td>0.863838</td>\n",
       "      <td>0.29358</td>\n",
       "      <td>0.195741</td>\n",
       "      <td>0.883712</td>\n",
       "      <td>0.89263</td>\n",
       "    </tr>\n",
       "    <tr>\n",
       "      <th>sentence-transformers/LaBSE</th>\n",
       "      <th>e34fab64a3011d2176c99545a93d5cbddc9a91b7</th>\n",
       "      <td>0.511079</td>\n",
       "      <td>0.739557</td>\n",
       "      <td>0.989583</td>\n",
       "      <td>0.456256</td>\n",
       "      <td>0.34537</td>\n",
       "      <td>0.383403</td>\n",
       "      <td>0.838430</td>\n",
       "      <td>0.500667</td>\n",
       "      <td>0.582313</td>\n",
       "      <td>0.652589</td>\n",
       "      <td>...</td>\n",
       "      <td>0.353867</td>\n",
       "      <td>0.599510</td>\n",
       "      <td>0.284970</td>\n",
       "      <td>0.506104</td>\n",
       "      <td>0.76295</td>\n",
       "      <td>0.957067</td>\n",
       "      <td>0.14380</td>\n",
       "      <td>0.177777</td>\n",
       "      <td>0.825927</td>\n",
       "      <td>0.69096</td>\n",
       "    </tr>\n",
       "  </tbody>\n",
       "</table>\n",
       "<p>5 rows × 22 columns</p>\n",
       "</div>"
      ],
      "text/plain": [
       "task                                                                              AngryTweetsClassification  \\\n",
       "model                                   revision                                                              \n",
       "intfloat/multilingual-e5-base           d13f1b27baf31030b7fd040960d60d909913633f                   0.562846   \n",
       "intfloat/multilingual-e5-large          4dc6d853a804b9c8886ede6dda8a073b7dc08a81                   0.576886   \n",
       "intfloat/multilingual-e5-large-instruct baa7be480a7de1539afce709c8f13f833a510e0a                   0.645081   \n",
       "intfloat/multilingual-e5-small          e4ce9877abf3edfe10b0d82785e83bdcb973e22e                   0.562655   \n",
       "sentence-transformers/LaBSE             e34fab64a3011d2176c99545a93d5cbddc9a91b7                   0.511079   \n",
       "\n",
       "task                                                                              BelebeleRetrieval  \\\n",
       "model                                   revision                                                      \n",
       "intfloat/multilingual-e5-base           d13f1b27baf31030b7fd040960d60d909913633f           0.907317   \n",
       "intfloat/multilingual-e5-large          4dc6d853a804b9c8886ede6dda8a073b7dc08a81           0.946187   \n",
       "intfloat/multilingual-e5-large-instruct baa7be480a7de1539afce709c8f13f833a510e0a           0.923867   \n",
       "intfloat/multilingual-e5-small          e4ce9877abf3edfe10b0d82785e83bdcb973e22e           0.854937   \n",
       "sentence-transformers/LaBSE             e34fab64a3011d2176c99545a93d5cbddc9a91b7           0.739557   \n",
       "\n",
       "task                                                                              BibleNLPBitextMining  \\\n",
       "model                                   revision                                                         \n",
       "intfloat/multilingual-e5-base           d13f1b27baf31030b7fd040960d60d909913633f              0.949219   \n",
       "intfloat/multilingual-e5-large          4dc6d853a804b9c8886ede6dda8a073b7dc08a81              0.976562   \n",
       "intfloat/multilingual-e5-large-instruct baa7be480a7de1539afce709c8f13f833a510e0a              0.992188   \n",
       "intfloat/multilingual-e5-small          e4ce9877abf3edfe10b0d82785e83bdcb973e22e              0.839258   \n",
       "sentence-transformers/LaBSE             e34fab64a3011d2176c99545a93d5cbddc9a91b7              0.989583   \n",
       "\n",
       "task                                                                              BornholmBitextMining  \\\n",
       "model                                   revision                                                         \n",
       "intfloat/multilingual-e5-base           d13f1b27baf31030b7fd040960d60d909913633f              0.332181   \n",
       "intfloat/multilingual-e5-large          4dc6d853a804b9c8886ede6dda8a073b7dc08a81              0.296079   \n",
       "intfloat/multilingual-e5-large-instruct baa7be480a7de1539afce709c8f13f833a510e0a              0.552233   \n",
       "intfloat/multilingual-e5-small          e4ce9877abf3edfe10b0d82785e83bdcb973e22e              0.371457   \n",
       "sentence-transformers/LaBSE             e34fab64a3011d2176c99545a93d5cbddc9a91b7              0.456256   \n",
       "\n",
       "task                                                                              DanFeverRetrieval  \\\n",
       "model                                   revision                                                      \n",
       "intfloat/multilingual-e5-base           d13f1b27baf31030b7fd040960d60d909913633f            0.40416   \n",
       "intfloat/multilingual-e5-large          4dc6d853a804b9c8886ede6dda8a073b7dc08a81            0.40868   \n",
       "intfloat/multilingual-e5-large-instruct baa7be480a7de1539afce709c8f13f833a510e0a            0.40513   \n",
       "intfloat/multilingual-e5-small          e4ce9877abf3edfe10b0d82785e83bdcb973e22e            0.39601   \n",
       "sentence-transformers/LaBSE             e34fab64a3011d2176c99545a93d5cbddc9a91b7            0.34537   \n",
       "\n",
       "task                                                                              DanishPoliticalCommentsClassification  \\\n",
       "model                                   revision                                                                          \n",
       "intfloat/multilingual-e5-base           d13f1b27baf31030b7fd040960d60d909913633f                               0.364127   \n",
       "intfloat/multilingual-e5-large          4dc6d853a804b9c8886ede6dda8a073b7dc08a81                               0.394338   \n",
       "intfloat/multilingual-e5-large-instruct baa7be480a7de1539afce709c8f13f833a510e0a                               0.448807   \n",
       "intfloat/multilingual-e5-small          e4ce9877abf3edfe10b0d82785e83bdcb973e22e                               0.348182   \n",
       "sentence-transformers/LaBSE             e34fab64a3011d2176c99545a93d5cbddc9a91b7                               0.383403   \n",
       "\n",
       "task                                                                              FloresBitextMining  \\\n",
       "model                                   revision                                                       \n",
       "intfloat/multilingual-e5-base           d13f1b27baf31030b7fd040960d60d909913633f            0.822655   \n",
       "intfloat/multilingual-e5-large          4dc6d853a804b9c8886ede6dda8a073b7dc08a81            0.826064   \n",
       "intfloat/multilingual-e5-large-instruct baa7be480a7de1539afce709c8f13f833a510e0a            0.929799   \n",
       "intfloat/multilingual-e5-small          e4ce9877abf3edfe10b0d82785e83bdcb973e22e            0.762986   \n",
       "sentence-transformers/LaBSE             e34fab64a3011d2176c99545a93d5cbddc9a91b7            0.838430   \n",
       "\n",
       "task                                                                              LccSentimentClassification  \\\n",
       "model                                   revision                                                               \n",
       "intfloat/multilingual-e5-base           d13f1b27baf31030b7fd040960d60d909913633f                    0.601333   \n",
       "intfloat/multilingual-e5-large          4dc6d853a804b9c8886ede6dda8a073b7dc08a81                    0.615333   \n",
       "intfloat/multilingual-e5-large-instruct baa7be480a7de1539afce709c8f13f833a510e0a                    0.708000   \n",
       "intfloat/multilingual-e5-small          e4ce9877abf3edfe10b0d82785e83bdcb973e22e                    0.586000   \n",
       "sentence-transformers/LaBSE             e34fab64a3011d2176c99545a93d5cbddc9a91b7                    0.500667   \n",
       "\n",
       "task                                                                              MassiveIntentClassification  \\\n",
       "model                                   revision                                                                \n",
       "intfloat/multilingual-e5-base           d13f1b27baf31030b7fd040960d60d909913633f                     0.606893   \n",
       "intfloat/multilingual-e5-large          4dc6d853a804b9c8886ede6dda8a073b7dc08a81                     0.636954   \n",
       "intfloat/multilingual-e5-large-instruct baa7be480a7de1539afce709c8f13f833a510e0a                     0.718527   \n",
       "intfloat/multilingual-e5-small          e4ce9877abf3edfe10b0d82785e83bdcb973e22e                     0.561197   \n",
       "sentence-transformers/LaBSE             e34fab64a3011d2176c99545a93d5cbddc9a91b7                     0.582313   \n",
       "\n",
       "task                                                                              MassiveScenarioClassification  \\\n",
       "model                                   revision                                                                  \n",
       "intfloat/multilingual-e5-base           d13f1b27baf31030b7fd040960d60d909913633f                       0.679691   \n",
       "intfloat/multilingual-e5-large          4dc6d853a804b9c8886ede6dda8a073b7dc08a81                       0.711836   \n",
       "intfloat/multilingual-e5-large-instruct baa7be480a7de1539afce709c8f13f833a510e0a                       0.774748   \n",
       "intfloat/multilingual-e5-small          e4ce9877abf3edfe10b0d82785e83bdcb973e22e                       0.640282   \n",
       "sentence-transformers/LaBSE             e34fab64a3011d2176c99545a93d5cbddc9a91b7                       0.652589   \n",
       "\n",
       "task                                                                              ...  \\\n",
       "model                                   revision                                  ...   \n",
       "intfloat/multilingual-e5-base           d13f1b27baf31030b7fd040960d60d909913633f  ...   \n",
       "intfloat/multilingual-e5-large          4dc6d853a804b9c8886ede6dda8a073b7dc08a81  ...   \n",
       "intfloat/multilingual-e5-large-instruct baa7be480a7de1539afce709c8f13f833a510e0a  ...   \n",
       "intfloat/multilingual-e5-small          e4ce9877abf3edfe10b0d82785e83bdcb973e22e  ...   \n",
       "sentence-transformers/LaBSE             e34fab64a3011d2176c99545a93d5cbddc9a91b7  ...   \n",
       "\n",
       "task                                                                              NordicLangClassification  \\\n",
       "model                                   revision                                                             \n",
       "intfloat/multilingual-e5-base           d13f1b27baf31030b7fd040960d60d909913633f                  0.758533   \n",
       "intfloat/multilingual-e5-large          4dc6d853a804b9c8886ede6dda8a073b7dc08a81                  0.801533   \n",
       "intfloat/multilingual-e5-large-instruct baa7be480a7de1539afce709c8f13f833a510e0a                  0.824433   \n",
       "intfloat/multilingual-e5-small          e4ce9877abf3edfe10b0d82785e83bdcb973e22e                  0.721500   \n",
       "sentence-transformers/LaBSE             e34fab64a3011d2176c99545a93d5cbddc9a91b7                  0.353867   \n",
       "\n",
       "task                                                                              SIB200Classification  \\\n",
       "model                                   revision                                                         \n",
       "intfloat/multilingual-e5-base           d13f1b27baf31030b7fd040960d60d909913633f              0.756863   \n",
       "intfloat/multilingual-e5-large          4dc6d853a804b9c8886ede6dda8a073b7dc08a81              0.782353   \n",
       "intfloat/multilingual-e5-large-instruct baa7be480a7de1539afce709c8f13f833a510e0a              0.828431   \n",
       "intfloat/multilingual-e5-small          e4ce9877abf3edfe10b0d82785e83bdcb973e22e              0.747059   \n",
       "sentence-transformers/LaBSE             e34fab64a3011d2176c99545a93d5cbddc9a91b7              0.599510   \n",
       "\n",
       "task                                                                              SIB200ClusteringS2S  \\\n",
       "model                                   revision                                                        \n",
       "intfloat/multilingual-e5-base           d13f1b27baf31030b7fd040960d60d909913633f             0.411994   \n",
       "intfloat/multilingual-e5-large          4dc6d853a804b9c8886ede6dda8a073b7dc08a81             0.465025   \n",
       "intfloat/multilingual-e5-large-instruct baa7be480a7de1539afce709c8f13f833a510e0a             0.586632   \n",
       "intfloat/multilingual-e5-small          e4ce9877abf3edfe10b0d82785e83bdcb973e22e             0.386207   \n",
       "sentence-transformers/LaBSE             e34fab64a3011d2176c99545a93d5cbddc9a91b7             0.284970   \n",
       "\n",
       "task                                                                              ScalaClassification  \\\n",
       "model                                   revision                                                        \n",
       "intfloat/multilingual-e5-base           d13f1b27baf31030b7fd040960d60d909913633f             0.509961   \n",
       "intfloat/multilingual-e5-large          4dc6d853a804b9c8886ede6dda8a073b7dc08a81             0.516162   \n",
       "intfloat/multilingual-e5-large-instruct baa7be480a7de1539afce709c8f13f833a510e0a             0.507129   \n",
       "intfloat/multilingual-e5-small          e4ce9877abf3edfe10b0d82785e83bdcb973e22e             0.508008   \n",
       "sentence-transformers/LaBSE             e34fab64a3011d2176c99545a93d5cbddc9a91b7             0.506104   \n",
       "\n",
       "task                                                                              TV2Nordretrieval  \\\n",
       "model                                   revision                                                     \n",
       "intfloat/multilingual-e5-base           d13f1b27baf31030b7fd040960d60d909913633f           0.92682   \n",
       "intfloat/multilingual-e5-large          4dc6d853a804b9c8886ede6dda8a073b7dc08a81           0.95369   \n",
       "intfloat/multilingual-e5-large-instruct baa7be480a7de1539afce709c8f13f833a510e0a           0.93690   \n",
       "intfloat/multilingual-e5-small          e4ce9877abf3edfe10b0d82785e83bdcb973e22e           0.90379   \n",
       "sentence-transformers/LaBSE             e34fab64a3011d2176c99545a93d5cbddc9a91b7           0.76295   \n",
       "\n",
       "task                                                                               Tatoeba  \\\n",
       "model                                   revision                                             \n",
       "intfloat/multilingual-e5-base           d13f1b27baf31030b7fd040960d60d909913633f  0.912300   \n",
       "intfloat/multilingual-e5-large          4dc6d853a804b9c8886ede6dda8a073b7dc08a81  0.950800   \n",
       "intfloat/multilingual-e5-large-instruct baa7be480a7de1539afce709c8f13f833a510e0a  0.955333   \n",
       "intfloat/multilingual-e5-small          e4ce9877abf3edfe10b0d82785e83bdcb973e22e  0.863838   \n",
       "sentence-transformers/LaBSE             e34fab64a3011d2176c99545a93d5cbddc9a91b7  0.957067   \n",
       "\n",
       "task                                                                              TwitterHjerneRetrieval  \\\n",
       "model                                   revision                                                           \n",
       "intfloat/multilingual-e5-base           d13f1b27baf31030b7fd040960d60d909913633f                 0.42163   \n",
       "intfloat/multilingual-e5-large          4dc6d853a804b9c8886ede6dda8a073b7dc08a81                 0.35219   \n",
       "intfloat/multilingual-e5-large-instruct baa7be480a7de1539afce709c8f13f833a510e0a                 0.77233   \n",
       "intfloat/multilingual-e5-small          e4ce9877abf3edfe10b0d82785e83bdcb973e22e                 0.29358   \n",
       "sentence-transformers/LaBSE             e34fab64a3011d2176c99545a93d5cbddc9a91b7                 0.14380   \n",
       "\n",
       "task                                                                              WikiClusteringP2P.v2  \\\n",
       "model                                   revision                                                         \n",
       "intfloat/multilingual-e5-base           d13f1b27baf31030b7fd040960d60d909913633f              0.203832   \n",
       "intfloat/multilingual-e5-large          4dc6d853a804b9c8886ede6dda8a073b7dc08a81              0.206153   \n",
       "intfloat/multilingual-e5-large-instruct baa7be480a7de1539afce709c8f13f833a510e0a              0.242545   \n",
       "intfloat/multilingual-e5-small          e4ce9877abf3edfe10b0d82785e83bdcb973e22e              0.195741   \n",
       "sentence-transformers/LaBSE             e34fab64a3011d2176c99545a93d5cbddc9a91b7              0.177777   \n",
       "\n",
       "task                                                                              WikipediaRerankingMultilingual  \\\n",
       "model                                   revision                                                                   \n",
       "intfloat/multilingual-e5-base           d13f1b27baf31030b7fd040960d60d909913633f                        0.897135   \n",
       "intfloat/multilingual-e5-large          4dc6d853a804b9c8886ede6dda8a073b7dc08a81                        0.912693   \n",
       "intfloat/multilingual-e5-large-instruct baa7be480a7de1539afce709c8f13f833a510e0a                        0.900087   \n",
       "intfloat/multilingual-e5-small          e4ce9877abf3edfe10b0d82785e83bdcb973e22e                        0.883712   \n",
       "sentence-transformers/LaBSE             e34fab64a3011d2176c99545a93d5cbddc9a91b7                        0.825927   \n",
       "\n",
       "task                                                                              WikipediaRetrievalMultilingual  \n",
       "model                                   revision                                                                  \n",
       "intfloat/multilingual-e5-base           d13f1b27baf31030b7fd040960d60d909913633f                         0.90878  \n",
       "intfloat/multilingual-e5-large          4dc6d853a804b9c8886ede6dda8a073b7dc08a81                         0.92426  \n",
       "intfloat/multilingual-e5-large-instruct baa7be480a7de1539afce709c8f13f833a510e0a                         0.90626  \n",
       "intfloat/multilingual-e5-small          e4ce9877abf3edfe10b0d82785e83bdcb973e22e                         0.89263  \n",
       "sentence-transformers/LaBSE             e34fab64a3011d2176c99545a93d5cbddc9a91b7                         0.69096  \n",
       "\n",
       "[5 rows x 22 columns]"
      ]
     },
     "execution_count": 21,
     "metadata": {},
     "output_type": "execute_result"
    }
   ],
   "source": [
    "results_df.head()  # inspect the dataframe"
   ]
  },
  {
   "cell_type": "code",
   "execution_count": 25,
   "metadata": {},
   "outputs": [
    {
     "name": "stderr",
     "output_type": "stream",
     "text": [
      "Task: WikipediaRetrievalMultilingual: 100%|██████████| 22/22 [00:00<00:00, 25.42it/s]      \n"
     ]
    }
   ],
   "source": [
    "from sklearn.linear_model import LinearRegression\n",
    "\n",
    "task_predictablity = task_selector.most_predictable_task(\n",
    "    results_df,\n",
    "    sklearn_estimator=LinearRegression(),  # model to predict performance on a held out task given the performance on the other tasks\n",
    "    metrics=[\n",
    "        task_selector.spearman,\n",
    "        task_selector.pearson,\n",
    "        task_selector.mse_with_zscore,\n",
    "    ],\n",
    ")"
   ]
  },
  {
   "cell_type": "code",
   "execution_count": 26,
   "metadata": {},
   "outputs": [
    {
     "data": {
      "text/plain": [
       "[{'BelebeleRetrieval': {'spearman': 0.9878787878787878,\n",
       "   'pearson': 0.9970507409976126,\n",
       "   'mse_with_zscore': 0.005898518004774879}},\n",
       " {'NTREXBitextMining': {'spearman': 0.9515151515151514,\n",
       "   'pearson': 0.9867856182994142,\n",
       "   'mse_with_zscore': 0.026428763401171528}},\n",
       " {'TV2Nordretrieval': {'spearman': 0.9515151515151514,\n",
       "   'pearson': 0.9779518119166111,\n",
       "   'mse_with_zscore': 0.04409637616677795}},\n",
       " {'MassiveScenarioClassification': {'spearman': 0.9151515151515152,\n",
       "   'pearson': 0.9595171124139267,\n",
       "   'mse_with_zscore': 0.08096577517214652}},\n",
       " {'WikipediaRerankingMultilingual': {'spearman': 0.9151515151515152,\n",
       "   'pearson': 0.9478418113623516,\n",
       "   'mse_with_zscore': 0.10431637727529648}},\n",
       " {'WikipediaRetrievalMultilingual': {'spearman': 0.9030303030303028,\n",
       "   'pearson': 0.9295224767277619,\n",
       "   'mse_with_zscore': 0.14095504654447644}},\n",
       " {'BibleNLPBitextMining': {'spearman': 0.8787878787878788,\n",
       "   'pearson': 0.9964031787166682,\n",
       "   'mse_with_zscore': 0.00719364256666383}},\n",
       " {'Tatoeba': {'spearman': 0.8787878787878788,\n",
       "   'pearson': 0.9854416845271496,\n",
       "   'mse_with_zscore': 0.029116630945700793}},\n",
       " {'SIB200Classification': {'spearman': 0.8666666666666665,\n",
       "   'pearson': 0.9331750993371765,\n",
       "   'mse_with_zscore': 0.1336498013256467}},\n",
       " {'SIB200ClusteringS2S': {'spearman': 0.8666666666666665,\n",
       "   'pearson': 0.9223883525531887,\n",
       "   'mse_with_zscore': 0.15522329489362224}},\n",
       " {'AngryTweetsClassification': {'spearman': 0.8424242424242423,\n",
       "   'pearson': 0.9073414635456171,\n",
       "   'mse_with_zscore': 0.185317072908766}},\n",
       " {'DanFeverRetrieval': {'spearman': 0.8424242424242423,\n",
       "   'pearson': 0.9259938436309683,\n",
       "   'mse_with_zscore': 0.14801231273806378}},\n",
       " {'LccSentimentClassification': {'spearman': 0.8424242424242423,\n",
       "   'pearson': 0.9132684082289415,\n",
       "   'mse_with_zscore': 0.17346318354211748}},\n",
       " {'MassiveIntentClassification': {'spearman': 0.8303030303030302,\n",
       "   'pearson': 0.8485440619293967,\n",
       "   'mse_with_zscore': 0.30291187614120596}},\n",
       " {'MultiEURLEXMultilabelClassification': {'spearman': 0.8060606060606059,\n",
       "   'pearson': 0.8779012689047206,\n",
       "   'mse_with_zscore': 0.244197462190559}},\n",
       " {'DanishPoliticalCommentsClassification': {'spearman': 0.7818181818181817,\n",
       "   'pearson': 0.8426768615531222,\n",
       "   'mse_with_zscore': 0.31464627689375585}},\n",
       " {'FloresBitextMining': {'spearman': 0.7818181818181817,\n",
       "   'pearson': 0.9180176990639936,\n",
       "   'mse_with_zscore': 0.16396460187201242}},\n",
       " {'WikiClusteringP2P.v2': {'spearman': 0.7575757575757575,\n",
       "   'pearson': 0.824686598274594,\n",
       "   'mse_with_zscore': 0.3506268034508118}},\n",
       " {'ScalaClassification': {'spearman': 0.5636363636363636,\n",
       "   'pearson': 0.5013461087446984,\n",
       "   'mse_with_zscore': 0.9973077825106031}},\n",
       " {'TwitterHjerneRetrieval': {'spearman': 0.05454545454545454,\n",
       "   'pearson': -0.17697172918390386,\n",
       "   'mse_with_zscore': 2.3539434583678074}},\n",
       " {'BornholmBitextMining': {'spearman': -0.09090909090909088,\n",
       "   'pearson': -0.1256947260720855,\n",
       "   'mse_with_zscore': 2.251389452144171}},\n",
       " {'NordicLangClassification': {'spearman': -0.1515151515151515,\n",
       "   'pearson': -0.02762353090535816,\n",
       "   'mse_with_zscore': 2.0552470618107166}}]"
      ]
     },
     "execution_count": 26,
     "metadata": {},
     "output_type": "execute_result"
    }
   ],
   "source": [
    "task_predictablity  # task ordered by predictability of fist metric"
   ]
  },
  {
   "cell_type": "markdown",
   "metadata": {},
   "source": [
    "# Task Selection\n",
    "\n",
    "In this section we will do the task selection to construct a benchmark."
   ]
  },
  {
   "cell_type": "markdown",
   "metadata": {},
   "source": [
    "### Manual Curation\n",
    "Naturally you can always select your datasets manually and there might be plenty reasons to do so:"
   ]
  },
  {
   "cell_type": "code",
   "execution_count": 105,
   "metadata": {},
   "outputs": [],
   "source": [
    "# if you wish you can do some manual filtering here, which we will do in this example:\n",
    "tasks_to_remove = [\n",
    "    \"DKHateClassification\"\n",
    "]  # due to it being a gated dataset on huggingface (requiring to sign a form)"
   ]
  },
  {
   "cell_type": "code",
   "execution_count": 106,
   "metadata": {},
   "outputs": [
    {
     "name": "stdout",
     "output_type": "stream",
     "text": [
      "BornholmBitextMining - CC-BY-4.0\n",
      "BibleNLPBitextMining - CC-BY-SA-4.0\n",
      "FloresBitextMining - CC BY-SA 4.0\n",
      "NTREXBitextMining - CC-BY-SA-4.0\n",
      "Tatoeba - CC BY 2.0\n",
      "AngryTweetsClassification - CC-BY-4.0\n",
      "DanishPoliticalCommentsClassification - Not specified\n",
      "DKHateClassification - CC-BY-4.0\n",
      "LccSentimentClassification - CC-BY-4.0\n",
      "MassiveIntentClassification - Apache 2.0\n",
      "MassiveScenarioClassification - Apache 2.0\n",
      "NordicLangClassification - None\n",
      "ScalaClassification - CC BY-SA 4.0\n",
      "SIB200Classification - cc-by-sa-4.0\n",
      "DanFeverRetrieval - CC BY-SA 4.0\n",
      "TV2Nordretrieval - CC0\n",
      "TwitterHjerneRetrieval - CC BY 4.0\n",
      "BelebeleRetrieval - CC-BY-SA-4.0\n",
      "WikipediaRetrievalMultilingual - cc-by-sa-3.0\n",
      "MultiEURLEXMultilabelClassification - CC BY-SA 4.0\n",
      "WikipediaRerankingMultilingual - cc-by-sa-3.0\n",
      "SIB200ClusteringS2S - cc-by-sa-4.0\n",
      "WikiClusteringP2P.v2 - cc-by-sa-3.0\n"
     ]
    }
   ],
   "source": [
    "# we also want somewhat permissible licenses\n",
    "\n",
    "for t in danish_tasks:\n",
    "    print(t.metadata.name, \"-\", t.metadata.license)\n",
    "\n",
    "# based on this we will probably also remove:\n",
    "tasks_to_remove += [\"DanishPoliticalCommentsClassification\"]  # ambiguous license"
   ]
  },
  {
   "cell_type": "code",
   "execution_count": 107,
   "metadata": {},
   "outputs": [
    {
     "name": "stdout",
     "output_type": "stream",
     "text": [
      "[]\n"
     ]
    }
   ],
   "source": [
    "# we also want to removed machine translated datasets\n",
    "machine_translated_datasets = [\n",
    "    t.metadata.name\n",
    "    for t in danish_tasks\n",
    "    if t.metadata.sample_creation\n",
    "    in [\n",
    "        \"machine-translated\",\n",
    "        \"machine-translated and verified\",\n",
    "        \"machine-translated and localized\",\n",
    "    ]\n",
    "]\n",
    "\n",
    "print(machine_translated_datasets)  # there is none"
   ]
  },
  {
   "cell_type": "code",
   "execution_count": 108,
   "metadata": {},
   "outputs": [],
   "source": [
    "tasks_to_select_from = [\n",
    "    task.metadata.name\n",
    "    for task in danish_tasks\n",
    "    if task.metadata.name not in tasks_to_remove\n",
    "]"
   ]
  },
  {
   "cell_type": "markdown",
   "metadata": {},
   "source": [
    "### Iterative Automated Task Selection \n",
    "\n",
    "Here we do the iterative task selection for Danish. We have designed the code to be flexible enough to allow benchmark developers to adjust the assumptions they make."
   ]
  },
  {
   "cell_type": "code",
   "execution_count": 109,
   "metadata": {},
   "outputs": [],
   "source": [
    "# tasks which should be kept, e.g. due to them being known high quality datasets, unique tasks, etc.\n",
    "tasks_to_keep = [\n",
    "    \"AngryTweetsClassification\",\n",
    "    \"DanFeverRetrieval\",\n",
    "    \"BornholmBitextMining\",\n",
    "]\n",
    "\n",
    "\n",
    "def is_candidate_valid_removal(current_tasks: list[str], task_to_remove: str) -> bool:\n",
    "    \"\"\"Determine if target task should be removed. This simply checks that all task types are present in the current tasks or whether the task is in the tasks_to_keep list.\"\"\"\n",
    "\n",
    "    if task_to_remove in tasks_to_keep:\n",
    "        return False\n",
    "\n",
    "    # check if removing task removes a unique task type - if so, don't remove\n",
    "    _current_tasks = current_tasks.copy()\n",
    "    if task_to_remove in _current_tasks:\n",
    "        _current_tasks.remove(task_to_remove)\n",
    "    task = mteb.get_task(task_to_remove)\n",
    "    ctasks = mteb.get_tasks(tasks=_current_tasks)\n",
    "\n",
    "    # don't remove a unique task type\n",
    "    task_types = {t.metadata.type for t in ctasks}\n",
    "    if task.metadata.type not in task_types:\n",
    "        return False\n",
    "    return True"
   ]
  },
  {
   "cell_type": "code",
   "execution_count": 110,
   "metadata": {},
   "outputs": [
    {
     "name": "stderr",
     "output_type": "stream",
     "text": [
      "Task: WikiClusteringP2P.v2: 100%|██████████| 21/21 [00:00<00:00, 25.63it/s]               \n",
      "Task: WikiClusteringP2P.v2: 100%|██████████| 20/20 [00:00<00:00, 27.63it/s]               \n",
      "Task: WikiClusteringP2P.v2: 100%|██████████| 19/19 [00:00<00:00, 28.01it/s]               \n",
      "Task: WikiClusteringP2P.v2: 100%|██████████| 18/18 [00:00<00:00, 25.83it/s]               \n",
      "Task: WikiClusteringP2P.v2: 100%|██████████| 17/17 [00:00<00:00, 27.45it/s]               \n",
      "Task: WikiClusteringP2P.v2: 100%|██████████| 16/16 [00:00<00:00, 26.67it/s]               \n",
      "Task: WikiClusteringP2P.v2: 100%|██████████| 15/15 [00:00<00:00, 27.23it/s]               \n",
      "Task: SIB200ClusteringS2S: 100%|██████████| 14/14 [00:00<00:00, 27.23it/s]                \n",
      "Task: SIB200ClusteringS2S: 100%|██████████| 13/13 [00:00<00:00, 27.69it/s]               \n",
      "Task: SIB200ClusteringS2S: 100%|██████████| 12/12 [00:00<00:00, 28.03it/s]               \n",
      "Task: SIB200ClusteringS2S: 100%|██████████| 11/11 [00:00<00:00, 27.67it/s]               \n",
      "Task: SIB200ClusteringS2S: 100%|██████████| 10/10 [00:00<00:00, 26.56it/s]               \n",
      "Task: SIB200ClusteringS2S: 100%|██████████| 9/9 [00:00<00:00, 28.13it/s]                \n",
      "Task: SIB200ClusteringS2S: 100%|██████████| 8/8 [00:00<00:00, 27.93it/s]                \n",
      "Task: SIB200ClusteringS2S: 100%|██████████| 7/7 [00:00<00:00, 28.21it/s]                \n"
     ]
    }
   ],
   "source": [
    "# remove tasks one by one\n",
    "tasks_removed = []\n",
    "predicability_scores = []\n",
    "\n",
    "while tasks_to_select_from:\n",
    "    most_pred_tasks = task_selector.most_predictable_task(\n",
    "        results_df[tasks_to_select_from],\n",
    "        sklearn_estimator=LinearRegression(),\n",
    "        metrics=[\n",
    "            task_selector.spearman,\n",
    "            task_selector.pearson,\n",
    "            task_selector.mse_with_zscore,\n",
    "        ],\n",
    "    )\n",
    "    # reverse the list to get the least predictable task\n",
    "    most_pred_tasks.reverse()\n",
    "\n",
    "    while most_pred_tasks:\n",
    "        most_pred_task = most_pred_tasks.pop()\n",
    "        most_pred_task_name = list(most_pred_task.keys())[0]\n",
    "        if is_candidate_valid_removal(tasks_to_select_from, most_pred_task_name):\n",
    "            tasks_to_select_from.remove(most_pred_task_name)\n",
    "            tasks_removed.append(most_pred_task_name)\n",
    "            predicability_scores.append(most_pred_task[most_pred_task_name])\n",
    "            break\n",
    "\n",
    "    if (\n",
    "        not most_pred_tasks\n",
    "    ):  # if no task was removed, then we are done -- can be replaced with another stopping criterion\n",
    "        break"
   ]
  },
  {
   "cell_type": "code",
   "execution_count": 111,
   "metadata": {},
   "outputs": [
    {
     "data": {
      "image/png": "[encoded data removed]",
      "text/plain": [
       "<Figure size 640x480 with 1 Axes>"
      ]
     },
     "metadata": {},
     "output_type": "display_data"
    }
   ],
   "source": [
    "# plotting the predictability scores with the tasks removed\n",
    "import matplotlib.pyplot as plt\n",
    "\n",
    "for metric in [\"spearman\", \"pearson\"]:\n",
    "    plt.plot([t[metric] for t in predicability_scores], label=metric)\n",
    "\n",
    "plt.xlabel(\"Tasks removed\")\n",
    "plt.ylabel(\"Correlation (predicted vs. observed performance)\")\n",
    "plt.legend()\n",
    "\n",
    "# add task names to the x-axis\n",
    "plt.xticks(range(len(tasks_removed)), tasks_removed, rotation=90)\n",
    "plt.show()"
   ]
  },
  {
   "cell_type": "code",
   "execution_count": 112,
   "metadata": {},
   "outputs": [
    {
     "data": {
      "image/png": "[encoded data removed]",
      "text/plain": [
       "<Figure size 640x480 with 1 Axes>"
      ]
     },
     "metadata": {},
     "output_type": "display_data"
    }
   ],
   "source": [
    "# plotting the predictability scores with the tasks removed\n",
    "import matplotlib.pyplot as plt\n",
    "\n",
    "for metric in [\"mse_with_zscore\"]:\n",
    "    plt.plot([t[metric] for t in predicability_scores], label=metric)\n",
    "\n",
    "plt.xlabel(\"Tasks removed\")\n",
    "plt.ylabel(\"Normalized Mean Squared error (predicted vs. observed performance)\")\n",
    "plt.legend()\n",
    "\n",
    "# add task names to the x-axis\n",
    "plt.xticks(range(len(tasks_removed)), tasks_removed, rotation=90)\n",
    "plt.show()"
   ]
  },
  {
   "cell_type": "markdown",
   "metadata": {},
   "source": [
    "## Constructing the Benchmark"
   ]
  },
  {
   "cell_type": "code",
   "execution_count": 118,
   "metadata": {},
   "outputs": [
    {
     "data": {
      "text/plain": [
       "['BornholmBitextMining',\n",
       " 'AngryTweetsClassification',\n",
       " 'DanFeverRetrieval',\n",
       " 'MultiEURLEXMultilabelClassification',\n",
       " 'WikipediaRerankingMultilingual',\n",
       " 'SIB200ClusteringS2S']"
      ]
     },
     "execution_count": 118,
     "metadata": {},
     "output_type": "execute_result"
    }
   ],
   "source": [
    "# we now have the tasks:\n",
    "tasks_to_select_from"
   ]
  },
  {
   "cell_type": "code",
   "execution_count": 119,
   "metadata": {},
   "outputs": [],
   "source": [
    "# but some of the task above seem to be quite hard to predict, so we might want to include some of them back based on a threshold\n",
    "benchmark_tasks = (\n",
    "    tasks_to_select_from + tasks_removed[-5:]\n",
    ")  # chosen based on the plots above"
   ]
  },
  {
   "cell_type": "code",
   "execution_count": 123,
   "metadata": {},
   "outputs": [],
   "source": [
    "tasks = mteb.get_tasks(tasks=benchmark_tasks, languages=[\"dan\"])\n",
    "\n",
    "# we can now create a benchmark\n",
    "benchmark = mteb.Benchmark(\n",
    "    name=\"mteb(dan)\",  # we recommend that the name is prefixed with \"mteb\" and that the language indicated using the ISO 639-3 code (3 letter code)\n",
    "    tasks=tasks,\n",
    "    description=\"Benchmark for evaluating Danish document embedding models\",\n",
    "    citation=\"\",\n",
    "    reference=\"\",\n",
    ")"
   ]
  },
  {
   "cell_type": "markdown",
   "metadata": {},
   "source": [
    "Congratulations you just created your own benchmark. Once completed you can use the benchmark however you like. If you do believe that others would find the benchmark useable, we encourage that you submit a PR with the benchmark to mteb so that other can reproduce your results."
   ]
  },
  {
   "cell_type": "markdown",
   "metadata": {},
   "source": [
    "## Running the benchmark\n",
    "\n",
    "You can naturally run the benchmark simply in `mteb` using:"
   ]
  },
  {
   "cell_type": "code",
   "execution_count": 124,
   "metadata": {},
   "outputs": [
    {
     "data": {
      "text/html": [
       "<pre style=\"white-space:pre;overflow-x:auto;line-height:normal;font-family:Menlo,'DejaVu Sans Mono',consolas,'Courier New',monospace\"><span style=\"color: #262626; text-decoration-color: #262626\">───────────────────────────────────────────────── </span><span style=\"font-weight: bold\">Selected tasks </span><span style=\"color: #262626; text-decoration-color: #262626\"> ─────────────────────────────────────────────────</span>\n",
       "</pre>\n"
      ],
      "text/plain": [
       "\u001b[38;5;235m───────────────────────────────────────────────── \u001b[0m\u001b[1mSelected tasks \u001b[0m\u001b[38;5;235m ─────────────────────────────────────────────────\u001b[0m\n"
      ]
     },
     "metadata": {},
     "output_type": "display_data"
    },
    {
     "data": {
      "text/html": [
       "<pre style=\"white-space:pre;overflow-x:auto;line-height:normal;font-family:Menlo,'DejaVu Sans Mono',consolas,'Courier New',monospace\"><span style=\"font-weight: bold\">Classification</span>\n",
       "</pre>\n"
      ],
      "text/plain": [
       "\u001b[1mClassification\u001b[0m\n"
      ]
     },
     "metadata": {},
     "output_type": "display_data"
    },
    {
     "data": {
      "text/html": [
       "<pre style=\"white-space:pre;overflow-x:auto;line-height:normal;font-family:Menlo,'DejaVu Sans Mono',consolas,'Courier New',monospace\">    - AngryTweetsClassification, <span style=\"color: #626262; text-decoration-color: #626262; font-style: italic\">s2s</span>\n",
       "</pre>\n"
      ],
      "text/plain": [
       "    - AngryTweetsClassification, \u001b[3;38;5;241ms2s\u001b[0m\n"
      ]
     },
     "metadata": {},
     "output_type": "display_data"
    },
    {
     "data": {
      "text/html": [
       "<pre style=\"white-space:pre;overflow-x:auto;line-height:normal;font-family:Menlo,'DejaVu Sans Mono',consolas,'Courier New',monospace\">    - ScalaClassification, <span style=\"color: #626262; text-decoration-color: #626262; font-style: italic\">s2s</span>, <span style=\"color: #800000; text-decoration-color: #800000; font-style: italic\">multilingual </span><span style=\"color: #800000; text-decoration-color: #800000; font-weight: bold; font-style: italic\">1</span><span style=\"color: #800000; text-decoration-color: #800000; font-style: italic\"> / </span><span style=\"color: #800000; text-decoration-color: #800000; font-weight: bold; font-style: italic\">4</span><span style=\"color: #800000; text-decoration-color: #800000; font-style: italic\"> Subsets</span>\n",
       "</pre>\n"
      ],
      "text/plain": [
       "    - ScalaClassification, \u001b[3;38;5;241ms2s\u001b[0m, \u001b[3;31mmultilingual \u001b[0m\u001b[1;3;31m1\u001b[0m\u001b[3;31m \u001b[0m\u001b[3;31m/\u001b[0m\u001b[3;31m \u001b[0m\u001b[1;3;31m4\u001b[0m\u001b[3;31m Subsets\u001b[0m\n"
      ]
     },
     "metadata": {},
     "output_type": "display_data"
    },
    {
     "data": {
      "text/html": [
       "<pre style=\"white-space:pre;overflow-x:auto;line-height:normal;font-family:Menlo,'DejaVu Sans Mono',consolas,'Courier New',monospace\">    - MassiveIntentClassification, <span style=\"color: #626262; text-decoration-color: #626262; font-style: italic\">s2s</span>, <span style=\"color: #800000; text-decoration-color: #800000; font-style: italic\">multilingual </span><span style=\"color: #800000; text-decoration-color: #800000; font-weight: bold; font-style: italic\">1</span><span style=\"color: #800000; text-decoration-color: #800000; font-style: italic\"> / </span><span style=\"color: #800000; text-decoration-color: #800000; font-weight: bold; font-style: italic\">51</span><span style=\"color: #800000; text-decoration-color: #800000; font-style: italic\"> Subsets</span>\n",
       "</pre>\n"
      ],
      "text/plain": [
       "    - MassiveIntentClassification, \u001b[3;38;5;241ms2s\u001b[0m, \u001b[3;31mmultilingual \u001b[0m\u001b[1;3;31m1\u001b[0m\u001b[3;31m \u001b[0m\u001b[3;31m/\u001b[0m\u001b[3;31m \u001b[0m\u001b[1;3;31m51\u001b[0m\u001b[3;31m Subsets\u001b[0m\n"
      ]
     },
     "metadata": {},
     "output_type": "display_data"
    },
    {
     "data": {
      "text/html": [
       "<pre style=\"white-space:pre;overflow-x:auto;line-height:normal;font-family:Menlo,'DejaVu Sans Mono',consolas,'Courier New',monospace\">    - NordicLangClassification, <span style=\"color: #626262; text-decoration-color: #626262; font-style: italic\">s2s</span>\n",
       "</pre>\n"
      ],
      "text/plain": [
       "    - NordicLangClassification, \u001b[3;38;5;241ms2s\u001b[0m\n"
      ]
     },
     "metadata": {},
     "output_type": "display_data"
    },
    {
     "data": {
      "text/html": [
       "<pre style=\"white-space:pre;overflow-x:auto;line-height:normal;font-family:Menlo,'DejaVu Sans Mono',consolas,'Courier New',monospace\">\n",
       "\n",
       "</pre>\n"
      ],
      "text/plain": [
       "\n",
       "\n"
      ]
     },
     "metadata": {},
     "output_type": "display_data"
    },
    {
     "data": {
      "text/html": [
       "<pre style=\"white-space:pre;overflow-x:auto;line-height:normal;font-family:Menlo,'DejaVu Sans Mono',consolas,'Courier New',monospace\"><span style=\"font-weight: bold\">MultilabelClassification</span>\n",
       "</pre>\n"
      ],
      "text/plain": [
       "\u001b[1mMultilabelClassification\u001b[0m\n"
      ]
     },
     "metadata": {},
     "output_type": "display_data"
    },
    {
     "data": {
      "text/html": [
       "<pre style=\"white-space:pre;overflow-x:auto;line-height:normal;font-family:Menlo,'DejaVu Sans Mono',consolas,'Courier New',monospace\">    - MultiEURLEXMultilabelClassification, <span style=\"color: #626262; text-decoration-color: #626262; font-style: italic\">p2p</span>, <span style=\"color: #800000; text-decoration-color: #800000; font-style: italic\">multilingual </span><span style=\"color: #800000; text-decoration-color: #800000; font-weight: bold; font-style: italic\">1</span><span style=\"color: #800000; text-decoration-color: #800000; font-style: italic\"> / </span><span style=\"color: #800000; text-decoration-color: #800000; font-weight: bold; font-style: italic\">23</span><span style=\"color: #800000; text-decoration-color: #800000; font-style: italic\"> Subsets</span>\n",
       "</pre>\n"
      ],
      "text/plain": [
       "    - MultiEURLEXMultilabelClassification, \u001b[3;38;5;241mp2p\u001b[0m, \u001b[3;31mmultilingual \u001b[0m\u001b[1;3;31m1\u001b[0m\u001b[3;31m \u001b[0m\u001b[3;31m/\u001b[0m\u001b[3;31m \u001b[0m\u001b[1;3;31m23\u001b[0m\u001b[3;31m Subsets\u001b[0m\n"
      ]
     },
     "metadata": {},
     "output_type": "display_data"
    },
    {
     "data": {
      "text/html": [
       "<pre style=\"white-space:pre;overflow-x:auto;line-height:normal;font-family:Menlo,'DejaVu Sans Mono',consolas,'Courier New',monospace\">\n",
       "\n",
       "</pre>\n"
      ],
      "text/plain": [
       "\n",
       "\n"
      ]
     },
     "metadata": {},
     "output_type": "display_data"
    },
    {
     "data": {
      "text/html": [
       "<pre style=\"white-space:pre;overflow-x:auto;line-height:normal;font-family:Menlo,'DejaVu Sans Mono',consolas,'Courier New',monospace\"><span style=\"font-weight: bold\">Clustering</span>\n",
       "</pre>\n"
      ],
      "text/plain": [
       "\u001b[1mClustering\u001b[0m\n"
      ]
     },
     "metadata": {},
     "output_type": "display_data"
    },
    {
     "data": {
      "text/html": [
       "<pre style=\"white-space:pre;overflow-x:auto;line-height:normal;font-family:Menlo,'DejaVu Sans Mono',consolas,'Courier New',monospace\">    - SIB200ClusteringS2S, <span style=\"color: #626262; text-decoration-color: #626262; font-style: italic\">s2s</span>, <span style=\"color: #800000; text-decoration-color: #800000; font-style: italic\">multilingual </span><span style=\"color: #800000; text-decoration-color: #800000; font-weight: bold; font-style: italic\">1</span><span style=\"color: #800000; text-decoration-color: #800000; font-style: italic\"> / </span><span style=\"color: #800000; text-decoration-color: #800000; font-weight: bold; font-style: italic\">197</span><span style=\"color: #800000; text-decoration-color: #800000; font-style: italic\"> Subsets</span>\n",
       "</pre>\n"
      ],
      "text/plain": [
       "    - SIB200ClusteringS2S, \u001b[3;38;5;241ms2s\u001b[0m, \u001b[3;31mmultilingual \u001b[0m\u001b[1;3;31m1\u001b[0m\u001b[3;31m \u001b[0m\u001b[3;31m/\u001b[0m\u001b[3;31m \u001b[0m\u001b[1;3;31m197\u001b[0m\u001b[3;31m Subsets\u001b[0m\n"
      ]
     },
     "metadata": {},
     "output_type": "display_data"
    },
    {
     "data": {
      "text/html": [
       "<pre style=\"white-space:pre;overflow-x:auto;line-height:normal;font-family:Menlo,'DejaVu Sans Mono',consolas,'Courier New',monospace\">\n",
       "\n",
       "</pre>\n"
      ],
      "text/plain": [
       "\n",
       "\n"
      ]
     },
     "metadata": {},
     "output_type": "display_data"
    },
    {
     "data": {
      "text/html": [
       "<pre style=\"white-space:pre;overflow-x:auto;line-height:normal;font-family:Menlo,'DejaVu Sans Mono',consolas,'Courier New',monospace\"><span style=\"font-weight: bold\">Reranking</span>\n",
       "</pre>\n"
      ],
      "text/plain": [
       "\u001b[1mReranking\u001b[0m\n"
      ]
     },
     "metadata": {},
     "output_type": "display_data"
    },
    {
     "data": {
      "text/html": [
       "<pre style=\"white-space:pre;overflow-x:auto;line-height:normal;font-family:Menlo,'DejaVu Sans Mono',consolas,'Courier New',monospace\">    - WikipediaRerankingMultilingual, <span style=\"color: #626262; text-decoration-color: #626262; font-style: italic\">s2p</span>, <span style=\"color: #800000; text-decoration-color: #800000; font-style: italic\">multilingual </span><span style=\"color: #800000; text-decoration-color: #800000; font-weight: bold; font-style: italic\">1</span><span style=\"color: #800000; text-decoration-color: #800000; font-style: italic\"> / </span><span style=\"color: #800000; text-decoration-color: #800000; font-weight: bold; font-style: italic\">16</span><span style=\"color: #800000; text-decoration-color: #800000; font-style: italic\"> Subsets</span>\n",
       "</pre>\n"
      ],
      "text/plain": [
       "    - WikipediaRerankingMultilingual, \u001b[3;38;5;241ms2p\u001b[0m, \u001b[3;31mmultilingual \u001b[0m\u001b[1;3;31m1\u001b[0m\u001b[3;31m \u001b[0m\u001b[3;31m/\u001b[0m\u001b[3;31m \u001b[0m\u001b[1;3;31m16\u001b[0m\u001b[3;31m Subsets\u001b[0m\n"
      ]
     },
     "metadata": {},
     "output_type": "display_data"
    },
    {
     "data": {
      "text/html": [
       "<pre style=\"white-space:pre;overflow-x:auto;line-height:normal;font-family:Menlo,'DejaVu Sans Mono',consolas,'Courier New',monospace\">\n",
       "\n",
       "</pre>\n"
      ],
      "text/plain": [
       "\n",
       "\n"
      ]
     },
     "metadata": {},
     "output_type": "display_data"
    },
    {
     "data": {
      "text/html": [
       "<pre style=\"white-space:pre;overflow-x:auto;line-height:normal;font-family:Menlo,'DejaVu Sans Mono',consolas,'Courier New',monospace\"><span style=\"font-weight: bold\">BitextMining</span>\n",
       "</pre>\n"
      ],
      "text/plain": [
       "\u001b[1mBitextMining\u001b[0m\n"
      ]
     },
     "metadata": {},
     "output_type": "display_data"
    },
    {
     "data": {
      "text/html": [
       "<pre style=\"white-space:pre;overflow-x:auto;line-height:normal;font-family:Menlo,'DejaVu Sans Mono',consolas,'Courier New',monospace\">    - BornholmBitextMining, <span style=\"color: #626262; text-decoration-color: #626262; font-style: italic\">s2s</span>\n",
       "</pre>\n"
      ],
      "text/plain": [
       "    - BornholmBitextMining, \u001b[3;38;5;241ms2s\u001b[0m\n"
      ]
     },
     "metadata": {},
     "output_type": "display_data"
    },
    {
     "data": {
      "text/html": [
       "<pre style=\"white-space:pre;overflow-x:auto;line-height:normal;font-family:Menlo,'DejaVu Sans Mono',consolas,'Courier New',monospace\">    - BibleNLPBitextMining, <span style=\"color: #626262; text-decoration-color: #626262; font-style: italic\">s2s</span>, <span style=\"color: #800000; text-decoration-color: #800000; font-style: italic\">multilingual </span><span style=\"color: #800000; text-decoration-color: #800000; font-weight: bold; font-style: italic\">2</span><span style=\"color: #800000; text-decoration-color: #800000; font-style: italic\"> / </span><span style=\"color: #800000; text-decoration-color: #800000; font-weight: bold; font-style: italic\">1656</span><span style=\"color: #800000; text-decoration-color: #800000; font-style: italic\"> Subsets</span>\n",
       "</pre>\n"
      ],
      "text/plain": [
       "    - BibleNLPBitextMining, \u001b[3;38;5;241ms2s\u001b[0m, \u001b[3;31mmultilingual \u001b[0m\u001b[1;3;31m2\u001b[0m\u001b[3;31m \u001b[0m\u001b[3;31m/\u001b[0m\u001b[3;31m \u001b[0m\u001b[1;3;31m1656\u001b[0m\u001b[3;31m Subsets\u001b[0m\n"
      ]
     },
     "metadata": {},
     "output_type": "display_data"
    },
    {
     "data": {
      "text/html": [
       "<pre style=\"white-space:pre;overflow-x:auto;line-height:normal;font-family:Menlo,'DejaVu Sans Mono',consolas,'Courier New',monospace\">\n",
       "\n",
       "</pre>\n"
      ],
      "text/plain": [
       "\n",
       "\n"
      ]
     },
     "metadata": {},
     "output_type": "display_data"
    },
    {
     "data": {
      "text/html": [
       "<pre style=\"white-space:pre;overflow-x:auto;line-height:normal;font-family:Menlo,'DejaVu Sans Mono',consolas,'Courier New',monospace\"><span style=\"font-weight: bold\">Retrieval</span>\n",
       "</pre>\n"
      ],
      "text/plain": [
       "\u001b[1mRetrieval\u001b[0m\n"
      ]
     },
     "metadata": {},
     "output_type": "display_data"
    },
    {
     "data": {
      "text/html": [
       "<pre style=\"white-space:pre;overflow-x:auto;line-height:normal;font-family:Menlo,'DejaVu Sans Mono',consolas,'Courier New',monospace\">    - DanFeverRetrieval, <span style=\"color: #626262; text-decoration-color: #626262; font-style: italic\">p2p</span>\n",
       "</pre>\n"
      ],
      "text/plain": [
       "    - DanFeverRetrieval, \u001b[3;38;5;241mp2p\u001b[0m\n"
      ]
     },
     "metadata": {},
     "output_type": "display_data"
    },
    {
     "data": {
      "text/html": [
       "<pre style=\"white-space:pre;overflow-x:auto;line-height:normal;font-family:Menlo,'DejaVu Sans Mono',consolas,'Courier New',monospace\">    - TwitterHjerneRetrieval, <span style=\"color: #626262; text-decoration-color: #626262; font-style: italic\">p2p</span>\n",
       "</pre>\n"
      ],
      "text/plain": [
       "    - TwitterHjerneRetrieval, \u001b[3;38;5;241mp2p\u001b[0m\n"
      ]
     },
     "metadata": {},
     "output_type": "display_data"
    },
    {
     "data": {
      "text/html": [
       "<pre style=\"white-space:pre;overflow-x:auto;line-height:normal;font-family:Menlo,'DejaVu Sans Mono',consolas,'Courier New',monospace\">\n",
       "\n",
       "</pre>\n"
      ],
      "text/plain": [
       "\n",
       "\n"
      ]
     },
     "metadata": {},
     "output_type": "display_data"
    },
    {
     "name": "stderr",
     "output_type": "stream",
     "text": [
      "Encoding 2x500 sentences: 100%|██████████| 2/2 [00:03<00:00,  1.96s/it]\n",
      "Matching sentences: 100%|██████████| 1/1 [00:00<00:00, 33.03it/s]\n",
      "huggingface/tokenizers: The current process just got forked, after parallelism has already been used. Disabling parallelism to avoid deadlocks...\n",
      "To disable this warning, you can either:\n",
      "\t- Avoid using `tokenizers` before the fork if possible\n",
      "\t- Explicitly set the environment variable TOKENIZERS_PARALLELISM=(true | false)\n",
      "huggingface/tokenizers: The current process just got forked, after parallelism has already been used. Disabling parallelism to avoid deadlocks...\n",
      "To disable this warning, you can either:\n",
      "\t- Avoid using `tokenizers` before the fork if possible\n",
      "\t- Explicitly set the environment variable TOKENIZERS_PARALLELISM=(true | false)\n",
      "huggingface/tokenizers: The current process just got forked, after parallelism has already been used. Disabling parallelism to avoid deadlocks...\n",
      "To disable this warning, you can either:\n",
      "\t- Avoid using `tokenizers` before the fork if possible\n",
      "\t- Explicitly set the environment variable TOKENIZERS_PARALLELISM=(true | false)\n",
      "huggingface/tokenizers: The current process just got forked, after parallelism has already been used. Disabling parallelism to avoid deadlocks...\n",
      "To disable this warning, you can either:\n",
      "\t- Avoid using `tokenizers` before the fork if possible\n",
      "\t- Explicitly set the environment variable TOKENIZERS_PARALLELISM=(true | false)\n",
      "huggingface/tokenizers: The current process just got forked, after parallelism has already been used. Disabling parallelism to avoid deadlocks...\n",
      "To disable this warning, you can either:\n",
      "\t- Avoid using `tokenizers` before the fork if possible\n",
      "\t- Explicitly set the environment variable TOKENIZERS_PARALLELISM=(true | false)\n",
      "huggingface/tokenizers: The current process just got forked, after parallelism has already been used. Disabling parallelism to avoid deadlocks...\n",
      "To disable this warning, you can either:\n",
      "\t- Avoid using `tokenizers` before the fork if possible\n",
      "\t- Explicitly set the environment variable TOKENIZERS_PARALLELISM=(true | false)\n",
      "huggingface/tokenizers: The current process just got forked, after parallelism has already been used. Disabling parallelism to avoid deadlocks...\n",
      "To disable this warning, you can either:\n",
      "\t- Avoid using `tokenizers` before the fork if possible\n",
      "\t- Explicitly set the environment variable TOKENIZERS_PARALLELISM=(true | false)\n",
      "huggingface/tokenizers: The current process just got forked, after parallelism has already been used. Disabling parallelism to avoid deadlocks...\n",
      "To disable this warning, you can either:\n",
      "\t- Avoid using `tokenizers` before the fork if possible\n",
      "\t- Explicitly set the environment variable TOKENIZERS_PARALLELISM=(true | false)\n",
      "huggingface/tokenizers: The current process just got forked, after parallelism has already been used. Disabling parallelism to avoid deadlocks...\n",
      "To disable this warning, you can either:\n",
      "\t- Avoid using `tokenizers` before the fork if possible\n",
      "\t- Explicitly set the environment variable TOKENIZERS_PARALLELISM=(true | false)\n",
      "huggingface/tokenizers: The current process just got forked, after parallelism has already been used. Disabling parallelism to avoid deadlocks...\n",
      "To disable this warning, you can either:\n",
      "\t- Avoid using `tokenizers` before the fork if possible\n",
      "\t- Explicitly set the environment variable TOKENIZERS_PARALLELISM=(true | false)\n",
      "huggingface/tokenizers: The current process just got forked, after parallelism has already been used. Disabling parallelism to avoid deadlocks...\n",
      "To disable this warning, you can either:\n",
      "\t- Avoid using `tokenizers` before the fork if possible\n",
      "\t- Explicitly set the environment variable TOKENIZERS_PARALLELISM=(true | false)\n",
      "5577.46s - pydevd: Sending message related to process being replaced timed-out after 5 seconds\n",
      "5577.58s - pydevd: Sending message related to process being replaced timed-out after 5 seconds\n",
      "5577.58s - pydevd: Sending message related to process being replaced timed-out after 5 seconds\n",
      "5577.61s - pydevd: Sending message related to process being replaced timed-out after 5 seconds\n",
      "5577.63s - pydevd: Sending message related to process being replaced timed-out after 5 seconds\n",
      "5577.66s - pydevd: Sending message related to process being replaced timed-out after 5 seconds\n",
      "5577.65s - pydevd: Sending message related to process being replaced timed-out after 5 seconds\n",
      "5577.68s - pydevd: Sending message related to process being replaced timed-out after 5 seconds\n",
      "5577.70s - pydevd: Sending message related to process being replaced timed-out after 5 seconds\n",
      "5577.71s - pydevd: Sending message related to process being replaced timed-out after 5 seconds\n",
      "Batches: 100%|██████████| 200/200 [00:07<00:00, 28.17it/s]\n",
      "Batches: 100%|██████████| 79/79 [00:15<00:00,  5.03it/s]\n"
     ]
    },
    {
     "ename": "KeyboardInterrupt",
     "evalue": "",
     "output_type": "error",
     "traceback": [
      "\u001b[0;31m---------------------------------------------------------------------------\u001b[0m",
      "\u001b[0;31mKeyboardInterrupt\u001b[0m                         Traceback (most recent call last)",
      "Cell \u001b[0;32mIn[124], line 5\u001b[0m\n\u001b[1;32m      2\u001b[0m evaluator \u001b[38;5;241m=\u001b[39m mteb\u001b[38;5;241m.\u001b[39mMTEB(tasks\u001b[38;5;241m=\u001b[39mbenchmark)\n\u001b[1;32m      4\u001b[0m model \u001b[38;5;241m=\u001b[39m mteb\u001b[38;5;241m.\u001b[39mget_model(\u001b[38;5;124m\"\u001b[39m\u001b[38;5;124msentence-transformers/all-MiniLM-L6-v2\u001b[39m\u001b[38;5;124m\"\u001b[39m)\n\u001b[0;32m----> 5\u001b[0m results \u001b[38;5;241m=\u001b[39m \u001b[43mevaluator\u001b[49m\u001b[38;5;241;43m.\u001b[39;49m\u001b[43mrun\u001b[49m\u001b[43m(\u001b[49m\u001b[43mmodel\u001b[49m\u001b[43m)\u001b[49m\n",
      "File \u001b[0;32m~/Github/mteb/mteb/evaluation/MTEB.py:352\u001b[0m, in \u001b[0;36mMTEB.run\u001b[0;34m(self, model, verbosity, output_folder, eval_splits, overwrite_results, raise_error, co2_tracker, encode_kwargs, **kwargs)\u001b[0m\n\u001b[1;32m    350\u001b[0m logger\u001b[38;5;241m.\u001b[39minfo(\u001b[38;5;124mf\u001b[39m\u001b[38;5;124m\"\u001b[39m\u001b[38;5;124mLoading dataset for \u001b[39m\u001b[38;5;132;01m{\u001b[39;00mtask\u001b[38;5;241m.\u001b[39mmetadata_dict[\u001b[38;5;124m'\u001b[39m\u001b[38;5;124mname\u001b[39m\u001b[38;5;124m'\u001b[39m]\u001b[38;5;132;01m}\u001b[39;00m\u001b[38;5;124m\"\u001b[39m)\n\u001b[1;32m    351\u001b[0m task\u001b[38;5;241m.\u001b[39mcheck_if_dataset_is_superseeded()\n\u001b[0;32m--> 352\u001b[0m \u001b[43mtask\u001b[49m\u001b[38;5;241;43m.\u001b[39;49m\u001b[43mload_data\u001b[49m\u001b[43m(\u001b[49m\u001b[43meval_splits\u001b[49m\u001b[38;5;241;43m=\u001b[39;49m\u001b[43mtask_eval_splits\u001b[49m\u001b[43m,\u001b[49m\u001b[43m \u001b[49m\u001b[38;5;241;43m*\u001b[39;49m\u001b[38;5;241;43m*\u001b[39;49m\u001b[43mkwargs\u001b[49m\u001b[43m)\u001b[49m\n\u001b[1;32m    354\u001b[0m \u001b[38;5;66;03m# run evaluation\u001b[39;00m\n\u001b[1;32m    355\u001b[0m task_results \u001b[38;5;241m=\u001b[39m {}\n",
      "File \u001b[0;32m~/Github/mteb/mteb/abstasks/MultiSubsetLoader.py:15\u001b[0m, in \u001b[0;36mMultiSubsetLoader.load_data\u001b[0;34m(self, **kwargs)\u001b[0m\n\u001b[1;32m     13\u001b[0m     \u001b[38;5;28mself\u001b[39m\u001b[38;5;241m.\u001b[39mfast_load()\n\u001b[1;32m     14\u001b[0m \u001b[38;5;28;01melse\u001b[39;00m:\n\u001b[0;32m---> 15\u001b[0m     \u001b[38;5;28;43mself\u001b[39;49m\u001b[38;5;241;43m.\u001b[39;49m\u001b[43mslow_load\u001b[49m\u001b[43m(\u001b[49m\u001b[43m)\u001b[49m\n\u001b[1;32m     17\u001b[0m \u001b[38;5;28mself\u001b[39m\u001b[38;5;241m.\u001b[39mdataset_transform()\n\u001b[1;32m     18\u001b[0m \u001b[38;5;28mself\u001b[39m\u001b[38;5;241m.\u001b[39mdata_loaded \u001b[38;5;241m=\u001b[39m \u001b[38;5;28;01mTrue\u001b[39;00m\n",
      "File \u001b[0;32m~/Github/mteb/mteb/abstasks/MultiSubsetLoader.py:44\u001b[0m, in \u001b[0;36mMultiSubsetLoader.slow_load\u001b[0;34m(self, **kwargs)\u001b[0m\n\u001b[1;32m     42\u001b[0m \u001b[38;5;28mself\u001b[39m\u001b[38;5;241m.\u001b[39mdataset \u001b[38;5;241m=\u001b[39m {}\n\u001b[1;32m     43\u001b[0m \u001b[38;5;28;01mfor\u001b[39;00m lang \u001b[38;5;129;01min\u001b[39;00m \u001b[38;5;28mself\u001b[39m\u001b[38;5;241m.\u001b[39mhf_subsets:\n\u001b[0;32m---> 44\u001b[0m     \u001b[38;5;28mself\u001b[39m\u001b[38;5;241m.\u001b[39mdataset[lang] \u001b[38;5;241m=\u001b[39m \u001b[43mdatasets\u001b[49m\u001b[38;5;241;43m.\u001b[39;49m\u001b[43mload_dataset\u001b[49m\u001b[43m(\u001b[49m\n\u001b[1;32m     45\u001b[0m \u001b[43m        \u001b[49m\u001b[43mname\u001b[49m\u001b[38;5;241;43m=\u001b[39;49m\u001b[43mlang\u001b[49m\u001b[43m,\u001b[49m\n\u001b[1;32m     46\u001b[0m \u001b[43m        \u001b[49m\u001b[38;5;241;43m*\u001b[39;49m\u001b[38;5;241;43m*\u001b[39;49m\u001b[38;5;28;43mself\u001b[39;49m\u001b[38;5;241;43m.\u001b[39;49m\u001b[43mmetadata\u001b[49m\u001b[38;5;241;43m.\u001b[39;49m\u001b[43mdataset\u001b[49m\u001b[43m,\u001b[49m\n\u001b[1;32m     47\u001b[0m \u001b[43m    \u001b[49m\u001b[43m)\u001b[49m\n",
      "File \u001b[0;32m~/.virtualenvs/mteb/lib/python3.8/site-packages/datasets/load.py:2594\u001b[0m, in \u001b[0;36mload_dataset\u001b[0;34m(path, name, data_dir, data_files, split, cache_dir, features, download_config, download_mode, verification_mode, ignore_verifications, keep_in_memory, save_infos, revision, token, use_auth_token, task, streaming, num_proc, storage_options, trust_remote_code, **config_kwargs)\u001b[0m\n\u001b[1;32m   2589\u001b[0m verification_mode \u001b[38;5;241m=\u001b[39m VerificationMode(\n\u001b[1;32m   2590\u001b[0m     (verification_mode \u001b[38;5;129;01mor\u001b[39;00m VerificationMode\u001b[38;5;241m.\u001b[39mBASIC_CHECKS) \u001b[38;5;28;01mif\u001b[39;00m \u001b[38;5;129;01mnot\u001b[39;00m save_infos \u001b[38;5;28;01melse\u001b[39;00m VerificationMode\u001b[38;5;241m.\u001b[39mALL_CHECKS\n\u001b[1;32m   2591\u001b[0m )\n\u001b[1;32m   2593\u001b[0m \u001b[38;5;66;03m# Create a dataset builder\u001b[39;00m\n\u001b[0;32m-> 2594\u001b[0m builder_instance \u001b[38;5;241m=\u001b[39m \u001b[43mload_dataset_builder\u001b[49m\u001b[43m(\u001b[49m\n\u001b[1;32m   2595\u001b[0m \u001b[43m    \u001b[49m\u001b[43mpath\u001b[49m\u001b[38;5;241;43m=\u001b[39;49m\u001b[43mpath\u001b[49m\u001b[43m,\u001b[49m\n\u001b[1;32m   2596\u001b[0m \u001b[43m    \u001b[49m\u001b[43mname\u001b[49m\u001b[38;5;241;43m=\u001b[39;49m\u001b[43mname\u001b[49m\u001b[43m,\u001b[49m\n\u001b[1;32m   2597\u001b[0m \u001b[43m    \u001b[49m\u001b[43mdata_dir\u001b[49m\u001b[38;5;241;43m=\u001b[39;49m\u001b[43mdata_dir\u001b[49m\u001b[43m,\u001b[49m\n\u001b[1;32m   2598\u001b[0m \u001b[43m    \u001b[49m\u001b[43mdata_files\u001b[49m\u001b[38;5;241;43m=\u001b[39;49m\u001b[43mdata_files\u001b[49m\u001b[43m,\u001b[49m\n\u001b[1;32m   2599\u001b[0m \u001b[43m    \u001b[49m\u001b[43mcache_dir\u001b[49m\u001b[38;5;241;43m=\u001b[39;49m\u001b[43mcache_dir\u001b[49m\u001b[43m,\u001b[49m\n\u001b[1;32m   2600\u001b[0m \u001b[43m    \u001b[49m\u001b[43mfeatures\u001b[49m\u001b[38;5;241;43m=\u001b[39;49m\u001b[43mfeatures\u001b[49m\u001b[43m,\u001b[49m\n\u001b[1;32m   2601\u001b[0m \u001b[43m    \u001b[49m\u001b[43mdownload_config\u001b[49m\u001b[38;5;241;43m=\u001b[39;49m\u001b[43mdownload_config\u001b[49m\u001b[43m,\u001b[49m\n\u001b[1;32m   2602\u001b[0m \u001b[43m    \u001b[49m\u001b[43mdownload_mode\u001b[49m\u001b[38;5;241;43m=\u001b[39;49m\u001b[43mdownload_mode\u001b[49m\u001b[43m,\u001b[49m\n\u001b[1;32m   2603\u001b[0m \u001b[43m    \u001b[49m\u001b[43mrevision\u001b[49m\u001b[38;5;241;43m=\u001b[39;49m\u001b[43mrevision\u001b[49m\u001b[43m,\u001b[49m\n\u001b[1;32m   2604\u001b[0m \u001b[43m    \u001b[49m\u001b[43mtoken\u001b[49m\u001b[38;5;241;43m=\u001b[39;49m\u001b[43mtoken\u001b[49m\u001b[43m,\u001b[49m\n\u001b[1;32m   2605\u001b[0m \u001b[43m    \u001b[49m\u001b[43mstorage_options\u001b[49m\u001b[38;5;241;43m=\u001b[39;49m\u001b[43mstorage_options\u001b[49m\u001b[43m,\u001b[49m\n\u001b[1;32m   2606\u001b[0m \u001b[43m    \u001b[49m\u001b[43mtrust_remote_code\u001b[49m\u001b[38;5;241;43m=\u001b[39;49m\u001b[43mtrust_remote_code\u001b[49m\u001b[43m,\u001b[49m\n\u001b[1;32m   2607\u001b[0m \u001b[43m    \u001b[49m\u001b[43m_require_default_config_name\u001b[49m\u001b[38;5;241;43m=\u001b[39;49m\u001b[43mname\u001b[49m\u001b[43m \u001b[49m\u001b[38;5;129;43;01mis\u001b[39;49;00m\u001b[43m \u001b[49m\u001b[38;5;28;43;01mNone\u001b[39;49;00m\u001b[43m,\u001b[49m\n\u001b[1;32m   2608\u001b[0m \u001b[43m    \u001b[49m\u001b[38;5;241;43m*\u001b[39;49m\u001b[38;5;241;43m*\u001b[39;49m\u001b[43mconfig_kwargs\u001b[49m\u001b[43m,\u001b[49m\n\u001b[1;32m   2609\u001b[0m \u001b[43m\u001b[49m\u001b[43m)\u001b[49m\n\u001b[1;32m   2611\u001b[0m \u001b[38;5;66;03m# Return iterable dataset in case of streaming\u001b[39;00m\n\u001b[1;32m   2612\u001b[0m \u001b[38;5;28;01mif\u001b[39;00m streaming:\n",
      "File \u001b[0;32m~/.virtualenvs/mteb/lib/python3.8/site-packages/datasets/load.py:2266\u001b[0m, in \u001b[0;36mload_dataset_builder\u001b[0;34m(path, name, data_dir, data_files, cache_dir, features, download_config, download_mode, revision, token, use_auth_token, storage_options, trust_remote_code, _require_default_config_name, **config_kwargs)\u001b[0m\n\u001b[1;32m   2264\u001b[0m     download_config \u001b[38;5;241m=\u001b[39m download_config\u001b[38;5;241m.\u001b[39mcopy() \u001b[38;5;28;01mif\u001b[39;00m download_config \u001b[38;5;28;01melse\u001b[39;00m DownloadConfig()\n\u001b[1;32m   2265\u001b[0m     download_config\u001b[38;5;241m.\u001b[39mstorage_options\u001b[38;5;241m.\u001b[39mupdate(storage_options)\n\u001b[0;32m-> 2266\u001b[0m dataset_module \u001b[38;5;241m=\u001b[39m \u001b[43mdataset_module_factory\u001b[49m\u001b[43m(\u001b[49m\n\u001b[1;32m   2267\u001b[0m \u001b[43m    \u001b[49m\u001b[43mpath\u001b[49m\u001b[43m,\u001b[49m\n\u001b[1;32m   2268\u001b[0m \u001b[43m    \u001b[49m\u001b[43mrevision\u001b[49m\u001b[38;5;241;43m=\u001b[39;49m\u001b[43mrevision\u001b[49m\u001b[43m,\u001b[49m\n\u001b[1;32m   2269\u001b[0m \u001b[43m    \u001b[49m\u001b[43mdownload_config\u001b[49m\u001b[38;5;241;43m=\u001b[39;49m\u001b[43mdownload_config\u001b[49m\u001b[43m,\u001b[49m\n\u001b[1;32m   2270\u001b[0m \u001b[43m    \u001b[49m\u001b[43mdownload_mode\u001b[49m\u001b[38;5;241;43m=\u001b[39;49m\u001b[43mdownload_mode\u001b[49m\u001b[43m,\u001b[49m\n\u001b[1;32m   2271\u001b[0m \u001b[43m    \u001b[49m\u001b[43mdata_dir\u001b[49m\u001b[38;5;241;43m=\u001b[39;49m\u001b[43mdata_dir\u001b[49m\u001b[43m,\u001b[49m\n\u001b[1;32m   2272\u001b[0m \u001b[43m    \u001b[49m\u001b[43mdata_files\u001b[49m\u001b[38;5;241;43m=\u001b[39;49m\u001b[43mdata_files\u001b[49m\u001b[43m,\u001b[49m\n\u001b[1;32m   2273\u001b[0m \u001b[43m    \u001b[49m\u001b[43mcache_dir\u001b[49m\u001b[38;5;241;43m=\u001b[39;49m\u001b[43mcache_dir\u001b[49m\u001b[43m,\u001b[49m\n\u001b[1;32m   2274\u001b[0m \u001b[43m    \u001b[49m\u001b[43mtrust_remote_code\u001b[49m\u001b[38;5;241;43m=\u001b[39;49m\u001b[43mtrust_remote_code\u001b[49m\u001b[43m,\u001b[49m\n\u001b[1;32m   2275\u001b[0m \u001b[43m    \u001b[49m\u001b[43m_require_default_config_name\u001b[49m\u001b[38;5;241;43m=\u001b[39;49m\u001b[43m_require_default_config_name\u001b[49m\u001b[43m,\u001b[49m\n\u001b[1;32m   2276\u001b[0m \u001b[43m    \u001b[49m\u001b[43m_require_custom_configs\u001b[49m\u001b[38;5;241;43m=\u001b[39;49m\u001b[38;5;28;43mbool\u001b[39;49m\u001b[43m(\u001b[49m\u001b[43mconfig_kwargs\u001b[49m\u001b[43m)\u001b[49m\u001b[43m,\u001b[49m\n\u001b[1;32m   2277\u001b[0m \u001b[43m\u001b[49m\u001b[43m)\u001b[49m\n\u001b[1;32m   2278\u001b[0m \u001b[38;5;66;03m# Get dataset builder class from the processing script\u001b[39;00m\n\u001b[1;32m   2279\u001b[0m builder_kwargs \u001b[38;5;241m=\u001b[39m dataset_module\u001b[38;5;241m.\u001b[39mbuilder_kwargs\n",
      "File \u001b[0;32m~/.virtualenvs/mteb/lib/python3.8/site-packages/datasets/load.py:1889\u001b[0m, in \u001b[0;36mdataset_module_factory\u001b[0;34m(path, revision, download_config, download_mode, dynamic_modules_path, data_dir, data_files, cache_dir, trust_remote_code, _require_default_config_name, _require_custom_configs, **download_kwargs)\u001b[0m\n\u001b[1;32m   1880\u001b[0m         \u001b[38;5;28;01mreturn\u001b[39;00m HubDatasetModuleFactoryWithScript(\n\u001b[1;32m   1881\u001b[0m             path,\n\u001b[1;32m   1882\u001b[0m             revision\u001b[38;5;241m=\u001b[39mrevision,\n\u001b[0;32m   (...)\u001b[0m\n\u001b[1;32m   1886\u001b[0m             trust_remote_code\u001b[38;5;241m=\u001b[39mtrust_remote_code,\n\u001b[1;32m   1887\u001b[0m         )\u001b[38;5;241m.\u001b[39mget_module()\n\u001b[1;32m   1888\u001b[0m     \u001b[38;5;28;01melse\u001b[39;00m:\n\u001b[0;32m-> 1889\u001b[0m         \u001b[38;5;28;01mreturn\u001b[39;00m \u001b[43mHubDatasetModuleFactoryWithoutScript\u001b[49m\u001b[43m(\u001b[49m\n\u001b[1;32m   1890\u001b[0m \u001b[43m            \u001b[49m\u001b[43mpath\u001b[49m\u001b[43m,\u001b[49m\n\u001b[1;32m   1891\u001b[0m \u001b[43m            \u001b[49m\u001b[43mrevision\u001b[49m\u001b[38;5;241;43m=\u001b[39;49m\u001b[43mrevision\u001b[49m\u001b[43m,\u001b[49m\n\u001b[1;32m   1892\u001b[0m \u001b[43m            \u001b[49m\u001b[43mdata_dir\u001b[49m\u001b[38;5;241;43m=\u001b[39;49m\u001b[43mdata_dir\u001b[49m\u001b[43m,\u001b[49m\n\u001b[1;32m   1893\u001b[0m \u001b[43m            \u001b[49m\u001b[43mdata_files\u001b[49m\u001b[38;5;241;43m=\u001b[39;49m\u001b[43mdata_files\u001b[49m\u001b[43m,\u001b[49m\n\u001b[1;32m   1894\u001b[0m \u001b[43m            \u001b[49m\u001b[43mdownload_config\u001b[49m\u001b[38;5;241;43m=\u001b[39;49m\u001b[43mdownload_config\u001b[49m\u001b[43m,\u001b[49m\n\u001b[1;32m   1895\u001b[0m \u001b[43m            \u001b[49m\u001b[43mdownload_mode\u001b[49m\u001b[38;5;241;43m=\u001b[39;49m\u001b[43mdownload_mode\u001b[49m\u001b[43m,\u001b[49m\n\u001b[1;32m   1896\u001b[0m \u001b[43m        \u001b[49m\u001b[43m)\u001b[49m\u001b[38;5;241;43m.\u001b[39;49m\u001b[43mget_module\u001b[49m\u001b[43m(\u001b[49m\u001b[43m)\u001b[49m\n\u001b[1;32m   1897\u001b[0m \u001b[38;5;28;01mexcept\u001b[39;00m \u001b[38;5;167;01mException\u001b[39;00m \u001b[38;5;28;01mas\u001b[39;00m e1:\n\u001b[1;32m   1898\u001b[0m     \u001b[38;5;66;03m# All the attempts failed, before raising the error we should check if the module is already cached\u001b[39;00m\n\u001b[1;32m   1899\u001b[0m     \u001b[38;5;28;01mtry\u001b[39;00m:\n",
      "File \u001b[0;32m~/.virtualenvs/mteb/lib/python3.8/site-packages/datasets/load.py:1270\u001b[0m, in \u001b[0;36mHubDatasetModuleFactoryWithoutScript.get_module\u001b[0;34m(self)\u001b[0m\n\u001b[1;32m   1268\u001b[0m \u001b[38;5;28;01melse\u001b[39;00m:\n\u001b[1;32m   1269\u001b[0m     patterns \u001b[38;5;241m=\u001b[39m get_data_patterns(base_path, download_config\u001b[38;5;241m=\u001b[39m\u001b[38;5;28mself\u001b[39m\u001b[38;5;241m.\u001b[39mdownload_config)\n\u001b[0;32m-> 1270\u001b[0m data_files \u001b[38;5;241m=\u001b[39m \u001b[43mDataFilesDict\u001b[49m\u001b[38;5;241;43m.\u001b[39;49m\u001b[43mfrom_patterns\u001b[49m\u001b[43m(\u001b[49m\n\u001b[1;32m   1271\u001b[0m \u001b[43m    \u001b[49m\u001b[43mpatterns\u001b[49m\u001b[43m,\u001b[49m\n\u001b[1;32m   1272\u001b[0m \u001b[43m    \u001b[49m\u001b[43mbase_path\u001b[49m\u001b[38;5;241;43m=\u001b[39;49m\u001b[43mbase_path\u001b[49m\u001b[43m,\u001b[49m\n\u001b[1;32m   1273\u001b[0m \u001b[43m    \u001b[49m\u001b[43mallowed_extensions\u001b[49m\u001b[38;5;241;43m=\u001b[39;49m\u001b[43mALL_ALLOWED_EXTENSIONS\u001b[49m\u001b[43m,\u001b[49m\n\u001b[1;32m   1274\u001b[0m \u001b[43m    \u001b[49m\u001b[43mdownload_config\u001b[49m\u001b[38;5;241;43m=\u001b[39;49m\u001b[38;5;28;43mself\u001b[39;49m\u001b[38;5;241;43m.\u001b[39;49m\u001b[43mdownload_config\u001b[49m\u001b[43m,\u001b[49m\n\u001b[1;32m   1275\u001b[0m \u001b[43m\u001b[49m\u001b[43m)\u001b[49m\n\u001b[1;32m   1276\u001b[0m module_name, default_builder_kwargs \u001b[38;5;241m=\u001b[39m infer_module_for_data_files(\n\u001b[1;32m   1277\u001b[0m     data_files\u001b[38;5;241m=\u001b[39mdata_files,\n\u001b[1;32m   1278\u001b[0m     path\u001b[38;5;241m=\u001b[39m\u001b[38;5;28mself\u001b[39m\u001b[38;5;241m.\u001b[39mname,\n\u001b[1;32m   1279\u001b[0m     download_config\u001b[38;5;241m=\u001b[39m\u001b[38;5;28mself\u001b[39m\u001b[38;5;241m.\u001b[39mdownload_config,\n\u001b[1;32m   1280\u001b[0m )\n\u001b[1;32m   1281\u001b[0m data_files \u001b[38;5;241m=\u001b[39m data_files\u001b[38;5;241m.\u001b[39mfilter_extensions(_MODULE_TO_EXTENSIONS[module_name])\n",
      "File \u001b[0;32m~/.virtualenvs/mteb/lib/python3.8/site-packages/datasets/data_files.py:721\u001b[0m, in \u001b[0;36mDataFilesDict.from_patterns\u001b[0;34m(cls, patterns, base_path, allowed_extensions, download_config)\u001b[0m\n\u001b[1;32m    716\u001b[0m out \u001b[38;5;241m=\u001b[39m \u001b[38;5;28mcls\u001b[39m()\n\u001b[1;32m    717\u001b[0m \u001b[38;5;28;01mfor\u001b[39;00m key, patterns_for_key \u001b[38;5;129;01min\u001b[39;00m patterns\u001b[38;5;241m.\u001b[39mitems():\n\u001b[1;32m    718\u001b[0m     out[key] \u001b[38;5;241m=\u001b[39m (\n\u001b[1;32m    719\u001b[0m         patterns_for_key\n\u001b[1;32m    720\u001b[0m         \u001b[38;5;28;01mif\u001b[39;00m \u001b[38;5;28misinstance\u001b[39m(patterns_for_key, DataFilesList)\n\u001b[0;32m--> 721\u001b[0m         \u001b[38;5;28;01melse\u001b[39;00m \u001b[43mDataFilesList\u001b[49m\u001b[38;5;241;43m.\u001b[39;49m\u001b[43mfrom_patterns\u001b[49m\u001b[43m(\u001b[49m\n\u001b[1;32m    722\u001b[0m \u001b[43m            \u001b[49m\u001b[43mpatterns_for_key\u001b[49m\u001b[43m,\u001b[49m\n\u001b[1;32m    723\u001b[0m \u001b[43m            \u001b[49m\u001b[43mbase_path\u001b[49m\u001b[38;5;241;43m=\u001b[39;49m\u001b[43mbase_path\u001b[49m\u001b[43m,\u001b[49m\n\u001b[1;32m    724\u001b[0m \u001b[43m            \u001b[49m\u001b[43mallowed_extensions\u001b[49m\u001b[38;5;241;43m=\u001b[39;49m\u001b[43mallowed_extensions\u001b[49m\u001b[43m,\u001b[49m\n\u001b[1;32m    725\u001b[0m \u001b[43m            \u001b[49m\u001b[43mdownload_config\u001b[49m\u001b[38;5;241;43m=\u001b[39;49m\u001b[43mdownload_config\u001b[49m\u001b[43m,\u001b[49m\n\u001b[1;32m    726\u001b[0m \u001b[43m        \u001b[49m\u001b[43m)\u001b[49m\n\u001b[1;32m    727\u001b[0m     )\n\u001b[1;32m    728\u001b[0m \u001b[38;5;28;01mreturn\u001b[39;00m out\n",
      "File \u001b[0;32m~/.virtualenvs/mteb/lib/python3.8/site-packages/datasets/data_files.py:634\u001b[0m, in \u001b[0;36mDataFilesList.from_patterns\u001b[0;34m(cls, patterns, base_path, allowed_extensions, download_config)\u001b[0m\n\u001b[1;32m    632\u001b[0m         \u001b[38;5;28;01mif\u001b[39;00m \u001b[38;5;129;01mnot\u001b[39;00m has_magic(pattern):\n\u001b[1;32m    633\u001b[0m             \u001b[38;5;28;01mraise\u001b[39;00m\n\u001b[0;32m--> 634\u001b[0m origin_metadata \u001b[38;5;241m=\u001b[39m \u001b[43m_get_origin_metadata\u001b[49m\u001b[43m(\u001b[49m\u001b[43mdata_files\u001b[49m\u001b[43m,\u001b[49m\u001b[43m \u001b[49m\u001b[43mdownload_config\u001b[49m\u001b[38;5;241;43m=\u001b[39;49m\u001b[43mdownload_config\u001b[49m\u001b[43m)\u001b[49m\n\u001b[1;32m    635\u001b[0m \u001b[38;5;28;01mreturn\u001b[39;00m \u001b[38;5;28mcls\u001b[39m(data_files, origin_metadata)\n",
      "File \u001b[0;32m~/.virtualenvs/mteb/lib/python3.8/site-packages/datasets/data_files.py:548\u001b[0m, in \u001b[0;36m_get_origin_metadata\u001b[0;34m(data_files, download_config, max_workers)\u001b[0m\n\u001b[1;32m    542\u001b[0m \u001b[38;5;28;01mdef\u001b[39;00m \u001b[38;5;21m_get_origin_metadata\u001b[39m(\n\u001b[1;32m    543\u001b[0m     data_files: List[\u001b[38;5;28mstr\u001b[39m],\n\u001b[1;32m    544\u001b[0m     download_config: Optional[DownloadConfig] \u001b[38;5;241m=\u001b[39m \u001b[38;5;28;01mNone\u001b[39;00m,\n\u001b[1;32m    545\u001b[0m     max_workers: Optional[\u001b[38;5;28mint\u001b[39m] \u001b[38;5;241m=\u001b[39m \u001b[38;5;28;01mNone\u001b[39;00m,\n\u001b[1;32m    546\u001b[0m ) \u001b[38;5;241m-\u001b[39m\u001b[38;5;241m>\u001b[39m List[SingleOriginMetadata]:\n\u001b[1;32m    547\u001b[0m     max_workers \u001b[38;5;241m=\u001b[39m max_workers \u001b[38;5;28;01mif\u001b[39;00m max_workers \u001b[38;5;129;01mis\u001b[39;00m \u001b[38;5;129;01mnot\u001b[39;00m \u001b[38;5;28;01mNone\u001b[39;00m \u001b[38;5;28;01melse\u001b[39;00m config\u001b[38;5;241m.\u001b[39mHF_DATASETS_MULTITHREADING_MAX_WORKERS\n\u001b[0;32m--> 548\u001b[0m     \u001b[38;5;28;01mreturn\u001b[39;00m \u001b[43mthread_map\u001b[49m\u001b[43m(\u001b[49m\n\u001b[1;32m    549\u001b[0m \u001b[43m        \u001b[49m\u001b[43mpartial\u001b[49m\u001b[43m(\u001b[49m\u001b[43m_get_single_origin_metadata\u001b[49m\u001b[43m,\u001b[49m\u001b[43m \u001b[49m\u001b[43mdownload_config\u001b[49m\u001b[38;5;241;43m=\u001b[39;49m\u001b[43mdownload_config\u001b[49m\u001b[43m)\u001b[49m\u001b[43m,\u001b[49m\n\u001b[1;32m    550\u001b[0m \u001b[43m        \u001b[49m\u001b[43mdata_files\u001b[49m\u001b[43m,\u001b[49m\n\u001b[1;32m    551\u001b[0m \u001b[43m        \u001b[49m\u001b[43mmax_workers\u001b[49m\u001b[38;5;241;43m=\u001b[39;49m\u001b[43mmax_workers\u001b[49m\u001b[43m,\u001b[49m\n\u001b[1;32m    552\u001b[0m \u001b[43m        \u001b[49m\u001b[43mtqdm_class\u001b[49m\u001b[38;5;241;43m=\u001b[39;49m\u001b[43mhf_tqdm\u001b[49m\u001b[43m,\u001b[49m\n\u001b[1;32m    553\u001b[0m \u001b[43m        \u001b[49m\u001b[43mdesc\u001b[49m\u001b[38;5;241;43m=\u001b[39;49m\u001b[38;5;124;43m\"\u001b[39;49m\u001b[38;5;124;43mResolving data files\u001b[39;49m\u001b[38;5;124;43m\"\u001b[39;49m\u001b[43m,\u001b[49m\n\u001b[1;32m    554\u001b[0m \u001b[43m        \u001b[49m\u001b[38;5;66;43;03m# set `disable=None` rather than `disable=False` by default to disable progress bar when no TTY attached\u001b[39;49;00m\n\u001b[1;32m    555\u001b[0m \u001b[43m        \u001b[49m\u001b[43mdisable\u001b[49m\u001b[38;5;241;43m=\u001b[39;49m\u001b[38;5;28;43mlen\u001b[39;49m\u001b[43m(\u001b[49m\u001b[43mdata_files\u001b[49m\u001b[43m)\u001b[49m\u001b[43m \u001b[49m\u001b[38;5;241;43m<\u001b[39;49m\u001b[38;5;241;43m=\u001b[39;49m\u001b[43m \u001b[49m\u001b[38;5;241;43m16\u001b[39;49m\u001b[43m \u001b[49m\u001b[38;5;129;43;01mor\u001b[39;49;00m\u001b[43m \u001b[49m\u001b[38;5;28;43;01mNone\u001b[39;49;00m\u001b[43m,\u001b[49m\n\u001b[1;32m    556\u001b[0m \u001b[43m    \u001b[49m\u001b[43m)\u001b[49m\n",
      "File \u001b[0;32m~/.virtualenvs/mteb/lib/python3.8/site-packages/tqdm/contrib/concurrent.py:69\u001b[0m, in \u001b[0;36mthread_map\u001b[0;34m(fn, *iterables, **tqdm_kwargs)\u001b[0m\n\u001b[1;32m     55\u001b[0m \u001b[38;5;250m\u001b[39m\u001b[38;5;124;03m\"\"\"\u001b[39;00m\n\u001b[1;32m     56\u001b[0m \u001b[38;5;124;03mEquivalent of `list(map(fn, *iterables))`\u001b[39;00m\n\u001b[1;32m     57\u001b[0m \u001b[38;5;124;03mdriven by `concurrent.futures.ThreadPoolExecutor`.\u001b[39;00m\n\u001b[0;32m   (...)\u001b[0m\n\u001b[1;32m     66\u001b[0m \u001b[38;5;124;03m    [default: max(32, cpu_count() + 4)].\u001b[39;00m\n\u001b[1;32m     67\u001b[0m \u001b[38;5;124;03m\"\"\"\u001b[39;00m\n\u001b[1;32m     68\u001b[0m \u001b[38;5;28;01mfrom\u001b[39;00m \u001b[38;5;21;01mconcurrent\u001b[39;00m\u001b[38;5;21;01m.\u001b[39;00m\u001b[38;5;21;01mfutures\u001b[39;00m \u001b[38;5;28;01mimport\u001b[39;00m ThreadPoolExecutor\n\u001b[0;32m---> 69\u001b[0m \u001b[38;5;28;01mreturn\u001b[39;00m \u001b[43m_executor_map\u001b[49m\u001b[43m(\u001b[49m\u001b[43mThreadPoolExecutor\u001b[49m\u001b[43m,\u001b[49m\u001b[43m \u001b[49m\u001b[43mfn\u001b[49m\u001b[43m,\u001b[49m\u001b[43m \u001b[49m\u001b[38;5;241;43m*\u001b[39;49m\u001b[43miterables\u001b[49m\u001b[43m,\u001b[49m\u001b[43m \u001b[49m\u001b[38;5;241;43m*\u001b[39;49m\u001b[38;5;241;43m*\u001b[39;49m\u001b[43mtqdm_kwargs\u001b[49m\u001b[43m)\u001b[49m\n",
      "File \u001b[0;32m~/.virtualenvs/mteb/lib/python3.8/site-packages/tqdm/contrib/concurrent.py:51\u001b[0m, in \u001b[0;36m_executor_map\u001b[0;34m(PoolExecutor, fn, *iterables, **tqdm_kwargs)\u001b[0m\n\u001b[1;32m     47\u001b[0m \u001b[38;5;28;01mwith\u001b[39;00m ensure_lock(tqdm_class, lock_name\u001b[38;5;241m=\u001b[39mlock_name) \u001b[38;5;28;01mas\u001b[39;00m lk:\n\u001b[1;32m     48\u001b[0m     \u001b[38;5;66;03m# share lock in case workers are already using `tqdm`\u001b[39;00m\n\u001b[1;32m     49\u001b[0m     \u001b[38;5;28;01mwith\u001b[39;00m PoolExecutor(max_workers\u001b[38;5;241m=\u001b[39mmax_workers, initializer\u001b[38;5;241m=\u001b[39mtqdm_class\u001b[38;5;241m.\u001b[39mset_lock,\n\u001b[1;32m     50\u001b[0m                       initargs\u001b[38;5;241m=\u001b[39m(lk,)) \u001b[38;5;28;01mas\u001b[39;00m ex:\n\u001b[0;32m---> 51\u001b[0m         \u001b[38;5;28;01mreturn\u001b[39;00m \u001b[38;5;28mlist\u001b[39m(tqdm_class(\u001b[43mex\u001b[49m\u001b[38;5;241;43m.\u001b[39;49m\u001b[43mmap\u001b[49m\u001b[43m(\u001b[49m\u001b[43mfn\u001b[49m\u001b[43m,\u001b[49m\u001b[43m \u001b[49m\u001b[38;5;241;43m*\u001b[39;49m\u001b[43miterables\u001b[49m\u001b[43m,\u001b[49m\u001b[43m \u001b[49m\u001b[43mchunksize\u001b[49m\u001b[38;5;241;43m=\u001b[39;49m\u001b[43mchunksize\u001b[49m\u001b[43m)\u001b[49m, \u001b[38;5;241m*\u001b[39m\u001b[38;5;241m*\u001b[39mkwargs))\n",
      "File \u001b[0;32m/opt/homebrew/opt/python@3.8/Frameworks/Python.framework/Versions/3.8/lib/python3.8/concurrent/futures/_base.py:608\u001b[0m, in \u001b[0;36mExecutor.map\u001b[0;34m(self, fn, timeout, chunksize, *iterables)\u001b[0m\n\u001b[1;32m    605\u001b[0m \u001b[38;5;28;01mif\u001b[39;00m timeout \u001b[38;5;129;01mis\u001b[39;00m \u001b[38;5;129;01mnot\u001b[39;00m \u001b[38;5;28;01mNone\u001b[39;00m:\n\u001b[1;32m    606\u001b[0m     end_time \u001b[38;5;241m=\u001b[39m timeout \u001b[38;5;241m+\u001b[39m time\u001b[38;5;241m.\u001b[39mmonotonic()\n\u001b[0;32m--> 608\u001b[0m fs \u001b[38;5;241m=\u001b[39m [\u001b[38;5;28mself\u001b[39m\u001b[38;5;241m.\u001b[39msubmit(fn, \u001b[38;5;241m*\u001b[39margs) \u001b[38;5;28;01mfor\u001b[39;00m args \u001b[38;5;129;01min\u001b[39;00m \u001b[38;5;28mzip\u001b[39m(\u001b[38;5;241m*\u001b[39miterables)]\n\u001b[1;32m    610\u001b[0m \u001b[38;5;66;03m# Yield must be hidden in closure so that the futures are submitted\u001b[39;00m\n\u001b[1;32m    611\u001b[0m \u001b[38;5;66;03m# before the first iterator value is required.\u001b[39;00m\n\u001b[1;32m    612\u001b[0m \u001b[38;5;28;01mdef\u001b[39;00m \u001b[38;5;21mresult_iterator\u001b[39m():\n",
      "File \u001b[0;32m/opt/homebrew/opt/python@3.8/Frameworks/Python.framework/Versions/3.8/lib/python3.8/concurrent/futures/_base.py:608\u001b[0m, in \u001b[0;36m<listcomp>\u001b[0;34m(.0)\u001b[0m\n\u001b[1;32m    605\u001b[0m \u001b[38;5;28;01mif\u001b[39;00m timeout \u001b[38;5;129;01mis\u001b[39;00m \u001b[38;5;129;01mnot\u001b[39;00m \u001b[38;5;28;01mNone\u001b[39;00m:\n\u001b[1;32m    606\u001b[0m     end_time \u001b[38;5;241m=\u001b[39m timeout \u001b[38;5;241m+\u001b[39m time\u001b[38;5;241m.\u001b[39mmonotonic()\n\u001b[0;32m--> 608\u001b[0m fs \u001b[38;5;241m=\u001b[39m [\u001b[38;5;28;43mself\u001b[39;49m\u001b[38;5;241;43m.\u001b[39;49m\u001b[43msubmit\u001b[49m\u001b[43m(\u001b[49m\u001b[43mfn\u001b[49m\u001b[43m,\u001b[49m\u001b[43m \u001b[49m\u001b[38;5;241;43m*\u001b[39;49m\u001b[43margs\u001b[49m\u001b[43m)\u001b[49m \u001b[38;5;28;01mfor\u001b[39;00m args \u001b[38;5;129;01min\u001b[39;00m \u001b[38;5;28mzip\u001b[39m(\u001b[38;5;241m*\u001b[39miterables)]\n\u001b[1;32m    610\u001b[0m \u001b[38;5;66;03m# Yield must be hidden in closure so that the futures are submitted\u001b[39;00m\n\u001b[1;32m    611\u001b[0m \u001b[38;5;66;03m# before the first iterator value is required.\u001b[39;00m\n\u001b[1;32m    612\u001b[0m \u001b[38;5;28;01mdef\u001b[39;00m \u001b[38;5;21mresult_iterator\u001b[39m():\n",
      "File \u001b[0;32m/opt/homebrew/opt/python@3.8/Frameworks/Python.framework/Versions/3.8/lib/python3.8/concurrent/futures/thread.py:188\u001b[0m, in \u001b[0;36mThreadPoolExecutor.submit\u001b[0;34m(*args, **kwargs)\u001b[0m\n\u001b[1;32m    185\u001b[0m w \u001b[38;5;241m=\u001b[39m _WorkItem(f, fn, args, kwargs)\n\u001b[1;32m    187\u001b[0m \u001b[38;5;28mself\u001b[39m\u001b[38;5;241m.\u001b[39m_work_queue\u001b[38;5;241m.\u001b[39mput(w)\n\u001b[0;32m--> 188\u001b[0m \u001b[38;5;28;43mself\u001b[39;49m\u001b[38;5;241;43m.\u001b[39;49m\u001b[43m_adjust_thread_count\u001b[49m\u001b[43m(\u001b[49m\u001b[43m)\u001b[49m\n\u001b[1;32m    189\u001b[0m \u001b[38;5;28;01mreturn\u001b[39;00m f\n",
      "File \u001b[0;32m/opt/homebrew/opt/python@3.8/Frameworks/Python.framework/Versions/3.8/lib/python3.8/concurrent/futures/thread.py:213\u001b[0m, in \u001b[0;36mThreadPoolExecutor._adjust_thread_count\u001b[0;34m(self)\u001b[0m\n\u001b[1;32m    207\u001b[0m t \u001b[38;5;241m=\u001b[39m threading\u001b[38;5;241m.\u001b[39mThread(name\u001b[38;5;241m=\u001b[39mthread_name, target\u001b[38;5;241m=\u001b[39m_worker,\n\u001b[1;32m    208\u001b[0m                      args\u001b[38;5;241m=\u001b[39m(weakref\u001b[38;5;241m.\u001b[39mref(\u001b[38;5;28mself\u001b[39m, weakref_cb),\n\u001b[1;32m    209\u001b[0m                            \u001b[38;5;28mself\u001b[39m\u001b[38;5;241m.\u001b[39m_work_queue,\n\u001b[1;32m    210\u001b[0m                            \u001b[38;5;28mself\u001b[39m\u001b[38;5;241m.\u001b[39m_initializer,\n\u001b[1;32m    211\u001b[0m                            \u001b[38;5;28mself\u001b[39m\u001b[38;5;241m.\u001b[39m_initargs))\n\u001b[1;32m    212\u001b[0m t\u001b[38;5;241m.\u001b[39mdaemon \u001b[38;5;241m=\u001b[39m \u001b[38;5;28;01mTrue\u001b[39;00m\n\u001b[0;32m--> 213\u001b[0m \u001b[43mt\u001b[49m\u001b[38;5;241;43m.\u001b[39;49m\u001b[43mstart\u001b[49m\u001b[43m(\u001b[49m\u001b[43m)\u001b[49m\n\u001b[1;32m    214\u001b[0m \u001b[38;5;28mself\u001b[39m\u001b[38;5;241m.\u001b[39m_threads\u001b[38;5;241m.\u001b[39madd(t)\n\u001b[1;32m    215\u001b[0m _threads_queues[t] \u001b[38;5;241m=\u001b[39m \u001b[38;5;28mself\u001b[39m\u001b[38;5;241m.\u001b[39m_work_queue\n",
      "File \u001b[0;32m/opt/homebrew/opt/python@3.8/Frameworks/Python.framework/Versions/3.8/lib/python3.8/threading.py:849\u001b[0m, in \u001b[0;36mThread.start\u001b[0;34m(self)\u001b[0m\n\u001b[1;32m    847\u001b[0m \u001b[38;5;28;01mif\u001b[39;00m \u001b[38;5;28mself\u001b[39m\u001b[38;5;241m.\u001b[39m_started\u001b[38;5;241m.\u001b[39mis_set():\n\u001b[1;32m    848\u001b[0m     \u001b[38;5;28;01mraise\u001b[39;00m \u001b[38;5;167;01mRuntimeError\u001b[39;00m(\u001b[38;5;124m\"\u001b[39m\u001b[38;5;124mthreads can only be started once\u001b[39m\u001b[38;5;124m\"\u001b[39m)\n\u001b[0;32m--> 849\u001b[0m \u001b[38;5;28;01mwith\u001b[39;00m _active_limbo_lock:\n\u001b[1;32m    850\u001b[0m     _limbo[\u001b[38;5;28mself\u001b[39m] \u001b[38;5;241m=\u001b[39m \u001b[38;5;28mself\u001b[39m\n\u001b[1;32m    851\u001b[0m \u001b[38;5;28;01mtry\u001b[39;00m:\n",
      "\u001b[0;31mKeyboardInterrupt\u001b[0m: "
     ]
    }
   ],
   "source": [
    "# we can now run the benchmark\n",
    "evaluator = mteb.MTEB(tasks=benchmark)\n",
    "\n",
    "model = mteb.get_model(\"sentence-transformers/all-MiniLM-L6-v2\")\n",
    "results = evaluator.run(model)"
   ]
  },
  {
   "cell_type": "code",
   "execution_count": null,
   "metadata": {},
   "outputs": [],
   "source": [
    "from task_aggregation import mean, task_category_weighted_mean, borda_count\n",
    "\n",
    "results\n",
    "\n",
    "# TODO: Add aggregation here\n",
    "# mean\n",
    "# borda count\n",
    "# generalization factor"
   ]
  }
 ],
 "metadata": {
  "kernelspec": {
   "display_name": "mteb",
   "language": "python",
   "name": "python3"
  },
  "language_info": {
   "codemirror_mode": {
    "name": "ipython",
    "version": 3
   },
   "file_extension": ".py",
   "mimetype": "text/x-python",
   "name": "python",
   "nbconvert_exporter": "python",
   "pygments_lexer": "ipython3",
   "version": "3.8.19"
  }
 },
 "nbformat": 4,
 "nbformat_minor": 2
}
